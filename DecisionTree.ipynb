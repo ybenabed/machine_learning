{
  "nbformat": 4,
  "nbformat_minor": 0,
  "metadata": {
    "celltoolbar": "Raw Cell Format",
    "kernelspec": {
      "name": "python3",
      "display_name": "Python 3"
    },
    "colab": {
      "name": "DecisionTree.ipynb",
      "provenance": [],
      "collapsed_sections": []
    },
    "language_info": {
      "name": "python"
    }
  },
  "cells": [
    {
      "cell_type": "markdown",
      "metadata": {
        "id": "MKX3QW6cYwSK"
      },
      "source": [
        "You can view this notebook in Google Colab by clicking on [this link](https://colab.research.google.com/drive/1886s3v5XGc-pGe_alRfHq9NA5knCLLSB?usp=sharing). (Some of Latex expressions can't be displayed out of Google Colab)"
      ]
    },
    {
      "cell_type": "markdown",
      "metadata": {
        "id": "I00-tYnICpZp"
      },
      "source": [
        "# Decision trees \n",
        "\n",
        "A decision tree is a very simple machine learning model. \n",
        "It was widely used in the 1960's-1980's to build expert systems. \n",
        "It is widely known and used in many companies to facilitate the decision making process and risk analysis. \n",
        "\n",
        "Given several characteristics, the decision is started with one of these characteristics; if this is not enough, another one is used, and so on. \n",
        "The rules are introduced manually, for this reason this model lost its popularity after the 80s. The appearance of mathematical methods to build decision trees brings this model back to the battle of machine learning algorithms.\n",
        "There are several automatic algorithms to build decision trees:\n",
        "\n",
        "* ID3 (Iterative Dichotomiser 3): developed in 1986 by Ross Quinlan. It can be applied only on nominal features. It is used for classification.\n",
        "* C4.5: an extension of ID3 by Ross Quinlan. It can be applied on all types of characteristics. It is used for grading.\n",
        "* C5.0: a commercial extension of C4.5, again by Ross Quinlan.\n",
        "* CART (Classification and Regression Trees): like C4.5 but uses other metrics. Also, the algorithm supports regression.\n",
        "\n",
        "The general algorithm for creating a decision tree :\n",
        "\n",
        "* Determine the best feature in the training data set.\n",
        "* Divide the training data into subsets containing the possible values of the best feature.\n",
        "* Recursively generate new decision trees using the subsets of data created.\n",
        "* When you can no longer classify the data, you stop.\n",
        "\n",
        "## Advantages \n",
        "\n",
        "* They are simple to understand and interpret. You can visualize the trees. Also, the results obtained can be easily explained.\n",
        "* They can work on data with little preparation. For example, they do not need data normalization.\n",
        "* They accept both numerical and nominal data. Other learning algorithms are specialized in one type of data.\n",
        "* They perform well even if their assumptions are violated by the real model from which the data was generated.\n",
        "\n",
        "## Limitations\n",
        "\n",
        "* They can be so complex, they do not generalize well (overfitting). This can be fixed by setting the minimum number of samples in the leaves or by setting the maximum depth of the tree.\n",
        "* They can be unstable because of data variations.\n",
        "* There are some concepts that are a bit difficult to learn from decision trees. They are not easy to express, for example: XOR.\n",
        "* They can be biased to the dominant class. So, you have to balance the data before training the system.\n",
        "* It is not guaranteed that the optimal decision tree will be found."
      ]
    },
    {
      "cell_type": "markdown",
      "metadata": {
        "id": "rRWJDePRQ-Hq"
      },
      "source": [
        "## Download the datasets"
      ]
    },
    {
      "cell_type": "code",
      "metadata": {
        "id": "KVbSvUHNRARo",
        "colab": {
          "base_uri": "https://localhost:8080/"
        },
        "outputId": "35fb4665-50f4-4198-ec84-62e74d540fa4"
      },
      "source": [
        "! mkdir datasets\n",
        "! wget -c \"https://drive.google.com/uc?export=download&id=1XAlljqou6yuG6JgoeFsOl0R99HFBipBy\" -O datasets/jouer.csv\n",
        "! wget -c \"https://drive.google.com/uc?export=download&id=1ZrcD9c7jcR8KWKJQCMSKTsh1E6mmwN4L\" -O datasets/jouer_num.csv\n",
        "! wget -c \"https://drive.google.com/uc?export=download&id=165-GKyfxEB6FsyZGjn4Qz-80ZMRp-KFy\" -O datasets/iris.csv"
      ],
      "execution_count": 3,
      "outputs": [
        {
          "output_type": "stream",
          "name": "stdout",
          "text": [
            "--2021-11-26 22:33:54--  https://drive.google.com/uc?export=download&id=1XAlljqou6yuG6JgoeFsOl0R99HFBipBy\n",
            "Resolving drive.google.com (drive.google.com)... 172.217.2.110, 2607:f8b0:4004:80a::200e\n",
            "Connecting to drive.google.com (drive.google.com)|172.217.2.110|:443... connected.\n",
            "HTTP request sent, awaiting response... 302 Moved Temporarily\n",
            "Location: https://doc-10-8o-docs.googleusercontent.com/docs/securesc/ha0ro937gcuc7l7deffksulhg5h7mbp1/t41bn2nsc8kisdu9fdc4pmnl33m7tc3l/1637966025000/02428432253297012158/*/1XAlljqou6yuG6JgoeFsOl0R99HFBipBy?e=download [following]\n",
            "Warning: wildcards not supported in HTTP.\n",
            "--2021-11-26 22:33:54--  https://doc-10-8o-docs.googleusercontent.com/docs/securesc/ha0ro937gcuc7l7deffksulhg5h7mbp1/t41bn2nsc8kisdu9fdc4pmnl33m7tc3l/1637966025000/02428432253297012158/*/1XAlljqou6yuG6JgoeFsOl0R99HFBipBy?e=download\n",
            "Resolving doc-10-8o-docs.googleusercontent.com (doc-10-8o-docs.googleusercontent.com)... 142.251.45.97, 2607:f8b0:4004:83f::2001\n",
            "Connecting to doc-10-8o-docs.googleusercontent.com (doc-10-8o-docs.googleusercontent.com)|142.251.45.97|:443... connected.\n",
            "HTTP request sent, awaiting response... 200 OK\n",
            "Length: 471 [text/csv]\n",
            "Saving to: ‘datasets/jouer.csv’\n",
            "\n",
            "datasets/jouer.csv  100%[===================>]     471  --.-KB/s    in 0s      \n",
            "\n",
            "2021-11-26 22:33:55 (4.20 MB/s) - ‘datasets/jouer.csv’ saved [471/471]\n",
            "\n",
            "--2021-11-26 22:33:55--  https://drive.google.com/uc?export=download&id=1ZrcD9c7jcR8KWKJQCMSKTsh1E6mmwN4L\n",
            "Resolving drive.google.com (drive.google.com)... 172.217.2.110, 2607:f8b0:4004:80a::200e\n",
            "Connecting to drive.google.com (drive.google.com)|172.217.2.110|:443... connected.\n",
            "HTTP request sent, awaiting response... 302 Moved Temporarily\n",
            "Location: https://doc-0o-8o-docs.googleusercontent.com/docs/securesc/ha0ro937gcuc7l7deffksulhg5h7mbp1/up01p8c45tckbsuu183u65ubu2clkrbi/1637966025000/02428432253297012158/*/1ZrcD9c7jcR8KWKJQCMSKTsh1E6mmwN4L?e=download [following]\n",
            "Warning: wildcards not supported in HTTP.\n",
            "--2021-11-26 22:33:55--  https://doc-0o-8o-docs.googleusercontent.com/docs/securesc/ha0ro937gcuc7l7deffksulhg5h7mbp1/up01p8c45tckbsuu183u65ubu2clkrbi/1637966025000/02428432253297012158/*/1ZrcD9c7jcR8KWKJQCMSKTsh1E6mmwN4L?e=download\n",
            "Resolving doc-0o-8o-docs.googleusercontent.com (doc-0o-8o-docs.googleusercontent.com)... 142.251.45.97, 2607:f8b0:4004:83f::2001\n",
            "Connecting to doc-0o-8o-docs.googleusercontent.com (doc-0o-8o-docs.googleusercontent.com)|142.251.45.97|:443... connected.\n",
            "HTTP request sent, awaiting response... 200 OK\n",
            "Length: 361 [text/csv]\n",
            "Saving to: ‘datasets/jouer_num.csv’\n",
            "\n",
            "datasets/jouer_num. 100%[===================>]     361  --.-KB/s    in 0s      \n",
            "\n",
            "2021-11-26 22:33:55 (2.91 MB/s) - ‘datasets/jouer_num.csv’ saved [361/361]\n",
            "\n",
            "--2021-11-26 22:33:55--  https://drive.google.com/uc?export=download&id=165-GKyfxEB6FsyZGjn4Qz-80ZMRp-KFy\n",
            "Resolving drive.google.com (drive.google.com)... 172.217.0.46, 2607:f8b0:4004:80a::200e\n",
            "Connecting to drive.google.com (drive.google.com)|172.217.0.46|:443... connected.\n",
            "HTTP request sent, awaiting response... 302 Moved Temporarily\n",
            "Location: https://doc-10-8o-docs.googleusercontent.com/docs/securesc/ha0ro937gcuc7l7deffksulhg5h7mbp1/mhrsqk0j30aerrdccp3feiqql9ps7bg0/1637966025000/02428432253297012158/*/165-GKyfxEB6FsyZGjn4Qz-80ZMRp-KFy?e=download [following]\n",
            "Warning: wildcards not supported in HTTP.\n",
            "--2021-11-26 22:33:56--  https://doc-10-8o-docs.googleusercontent.com/docs/securesc/ha0ro937gcuc7l7deffksulhg5h7mbp1/mhrsqk0j30aerrdccp3feiqql9ps7bg0/1637966025000/02428432253297012158/*/165-GKyfxEB6FsyZGjn4Qz-80ZMRp-KFy?e=download\n",
            "Resolving doc-10-8o-docs.googleusercontent.com (doc-10-8o-docs.googleusercontent.com)... 142.251.45.97, 2607:f8b0:4004:83f::2001\n",
            "Connecting to doc-10-8o-docs.googleusercontent.com (doc-10-8o-docs.googleusercontent.com)|142.251.45.97|:443... connected.\n",
            "HTTP request sent, awaiting response... 200 OK\n",
            "Length: 4607 (4.5K) [text/csv]\n",
            "Saving to: ‘datasets/iris.csv’\n",
            "\n",
            "datasets/iris.csv   100%[===================>]   4.50K  --.-KB/s    in 0s      \n",
            "\n",
            "2021-11-26 22:33:56 (26.9 MB/s) - ‘datasets/iris.csv’ saved [4607/4607]\n",
            "\n"
          ]
        }
      ]
    },
    {
      "cell_type": "markdown",
      "metadata": {
        "id": "ZUbX8dNyCpZx"
      },
      "source": [
        "## I- ID3 (Implementation)\n",
        "\n",
        "The algorithm works only on nominal characteristics. \n",
        "So, if we have continuous features, we have to apply the discretization. \n",
        "Also, it is used for ranking only (no regression).\n",
        "\n",
        "\n",
        "### I-1- Reading and preparation of the test data\n"
      ]
    },
    {
      "cell_type": "code",
      "metadata": {
        "id": "XXjbyWyiCpZz",
        "colab": {
          "base_uri": "https://localhost:8080/",
          "height": 489
        },
        "outputId": "784c351b-660d-47d9-caf5-b68eaf45b2ca"
      },
      "source": [
        "import numpy as np\n",
        "import pandas as pd \n",
        "\n",
        "\n",
        "jouer = pd.read_csv(\"datasets/jouer.csv\")\n",
        "jouer"
      ],
      "execution_count": 4,
      "outputs": [
        {
          "output_type": "execute_result",
          "data": {
            "text/html": [
              "<div>\n",
              "<style scoped>\n",
              "    .dataframe tbody tr th:only-of-type {\n",
              "        vertical-align: middle;\n",
              "    }\n",
              "\n",
              "    .dataframe tbody tr th {\n",
              "        vertical-align: top;\n",
              "    }\n",
              "\n",
              "    .dataframe thead th {\n",
              "        text-align: right;\n",
              "    }\n",
              "</style>\n",
              "<table border=\"1\" class=\"dataframe\">\n",
              "  <thead>\n",
              "    <tr style=\"text-align: right;\">\n",
              "      <th></th>\n",
              "      <th>temps</th>\n",
              "      <th>temperature</th>\n",
              "      <th>humidite</th>\n",
              "      <th>vent</th>\n",
              "      <th>jouer</th>\n",
              "    </tr>\n",
              "  </thead>\n",
              "  <tbody>\n",
              "    <tr>\n",
              "      <th>0</th>\n",
              "      <td>ensoleile</td>\n",
              "      <td>chaude</td>\n",
              "      <td>haute</td>\n",
              "      <td>non</td>\n",
              "      <td>non</td>\n",
              "    </tr>\n",
              "    <tr>\n",
              "      <th>1</th>\n",
              "      <td>ensoleile</td>\n",
              "      <td>chaude</td>\n",
              "      <td>haute</td>\n",
              "      <td>oui</td>\n",
              "      <td>non</td>\n",
              "    </tr>\n",
              "    <tr>\n",
              "      <th>2</th>\n",
              "      <td>nuageux</td>\n",
              "      <td>chaude</td>\n",
              "      <td>haute</td>\n",
              "      <td>non</td>\n",
              "      <td>oui</td>\n",
              "    </tr>\n",
              "    <tr>\n",
              "      <th>3</th>\n",
              "      <td>pluvieux</td>\n",
              "      <td>douce</td>\n",
              "      <td>haute</td>\n",
              "      <td>non</td>\n",
              "      <td>oui</td>\n",
              "    </tr>\n",
              "    <tr>\n",
              "      <th>4</th>\n",
              "      <td>pluvieux</td>\n",
              "      <td>fraiche</td>\n",
              "      <td>normale</td>\n",
              "      <td>non</td>\n",
              "      <td>oui</td>\n",
              "    </tr>\n",
              "    <tr>\n",
              "      <th>5</th>\n",
              "      <td>pluvieux</td>\n",
              "      <td>fraiche</td>\n",
              "      <td>normale</td>\n",
              "      <td>oui</td>\n",
              "      <td>non</td>\n",
              "    </tr>\n",
              "    <tr>\n",
              "      <th>6</th>\n",
              "      <td>nuageux</td>\n",
              "      <td>fraiche</td>\n",
              "      <td>normale</td>\n",
              "      <td>oui</td>\n",
              "      <td>oui</td>\n",
              "    </tr>\n",
              "    <tr>\n",
              "      <th>7</th>\n",
              "      <td>ensoleile</td>\n",
              "      <td>douce</td>\n",
              "      <td>haute</td>\n",
              "      <td>non</td>\n",
              "      <td>non</td>\n",
              "    </tr>\n",
              "    <tr>\n",
              "      <th>8</th>\n",
              "      <td>ensoleile</td>\n",
              "      <td>fraiche</td>\n",
              "      <td>normale</td>\n",
              "      <td>non</td>\n",
              "      <td>oui</td>\n",
              "    </tr>\n",
              "    <tr>\n",
              "      <th>9</th>\n",
              "      <td>pluvieux</td>\n",
              "      <td>douce</td>\n",
              "      <td>normale</td>\n",
              "      <td>non</td>\n",
              "      <td>oui</td>\n",
              "    </tr>\n",
              "    <tr>\n",
              "      <th>10</th>\n",
              "      <td>ensoleile</td>\n",
              "      <td>douce</td>\n",
              "      <td>normale</td>\n",
              "      <td>oui</td>\n",
              "      <td>oui</td>\n",
              "    </tr>\n",
              "    <tr>\n",
              "      <th>11</th>\n",
              "      <td>nuageux</td>\n",
              "      <td>douce</td>\n",
              "      <td>haute</td>\n",
              "      <td>oui</td>\n",
              "      <td>oui</td>\n",
              "    </tr>\n",
              "    <tr>\n",
              "      <th>12</th>\n",
              "      <td>nuageux</td>\n",
              "      <td>chaude</td>\n",
              "      <td>normale</td>\n",
              "      <td>non</td>\n",
              "      <td>oui</td>\n",
              "    </tr>\n",
              "    <tr>\n",
              "      <th>13</th>\n",
              "      <td>pluvieux</td>\n",
              "      <td>douce</td>\n",
              "      <td>haute</td>\n",
              "      <td>oui</td>\n",
              "      <td>non</td>\n",
              "    </tr>\n",
              "  </tbody>\n",
              "</table>\n",
              "</div>"
            ],
            "text/plain": [
              "        temps temperature humidite vent jouer\n",
              "0   ensoleile      chaude    haute  non   non\n",
              "1   ensoleile      chaude    haute  oui   non\n",
              "2     nuageux      chaude    haute  non   oui\n",
              "3    pluvieux       douce    haute  non   oui\n",
              "4    pluvieux     fraiche  normale  non   oui\n",
              "5    pluvieux     fraiche  normale  oui   non\n",
              "6     nuageux     fraiche  normale  oui   oui\n",
              "7   ensoleile       douce    haute  non   non\n",
              "8   ensoleile     fraiche  normale  non   oui\n",
              "9    pluvieux       douce  normale  non   oui\n",
              "10  ensoleile       douce  normale  oui   oui\n",
              "11    nuageux       douce    haute  oui   oui\n",
              "12    nuageux      chaude  normale  non   oui\n",
              "13   pluvieux       douce    haute  oui   non"
            ]
          },
          "metadata": {},
          "execution_count": 4
        }
      ]
    },
    {
      "cell_type": "code",
      "metadata": {
        "id": "xzMvYrG5CpZ4",
        "colab": {
          "base_uri": "https://localhost:8080/"
        },
        "outputId": "05c40dba-d374-415b-fd88-96bd1bf94c58"
      },
      "source": [
        "X_jouer = jouer.iloc[:, :-1].values # First columns \n",
        "Y_jouer = jouer.iloc[:,-1].values # Last columns\n",
        "\n",
        "X_jouer[:3, :]"
      ],
      "execution_count": 5,
      "outputs": [
        {
          "output_type": "execute_result",
          "data": {
            "text/plain": [
              "array([['ensoleile', 'chaude', 'haute', 'non'],\n",
              "       ['ensoleile', 'chaude', 'haute', 'oui'],\n",
              "       ['nuageux', 'chaude', 'haute', 'non']], dtype=object)"
            ]
          },
          "metadata": {},
          "execution_count": 5
        }
      ]
    },
    {
      "cell_type": "markdown",
      "metadata": {
        "id": "Ho16xStxCpZ6"
      },
      "source": [
        "### I-2- Probability \n",
        "\n",
        "Given a set of values $S$ (in python: array), the probability of occurrence of a value $v$ (a string) is the number of occurrences of $v$ in $S$ divided by the total number of elements in $S$. \n",
        "\n",
        "$$p(v/S) = \\frac{|\\{x / x \\in S \\text{ et } x = v\\}|}{|S|}$$\n",
        "\n",
        "For example, let's take the \"play\" column. \n",
        "The number of \"yes\" is 9 and the total number is 14. \n",
        "$$p(jouer=yes) = \\frac{9}{14} = 0.6428571428571429$$"
      ]
    },
    {
      "cell_type": "code",
      "metadata": {
        "id": "Yz2zHW7XCpZ8",
        "colab": {
          "base_uri": "https://localhost:8080/"
        },
        "outputId": "f626a072-1c7f-4f6c-8b2b-ac8deb47c41b"
      },
      "source": [
        "# Compute the probability of occurrence of a value val in a set S\n",
        "# S is a string vector (array)\n",
        "def P (S, val): \n",
        "    return float(np.count_nonzero(S==val))/len(S)\n",
        "\n",
        "\n",
        "# Manual calculation 5 digits after the decimal point (without rounding)\n",
        "# P(jouer=oui) = 9/14 = 0.64285\n",
        "# P(temps = ensoleilé) = 5/14 = 0.35714\n",
        "# P(temps = nuageux) = 4/14 = 0.28571\n",
        "# P(temps = pluvieux) = 5/14 = 0.35714\n",
        "\n",
        "\n",
        "P(Y_jouer, \"oui\"), P(X_jouer[:,0], \"ensoleile\"), P(X_jouer[:, 0], \"nuageux\"), P(X_jouer[:,0], \"pluvieux\")"
      ],
      "execution_count": 6,
      "outputs": [
        {
          "output_type": "execute_result",
          "data": {
            "text/plain": [
              "(0.6428571428571429,\n",
              " 0.35714285714285715,\n",
              " 0.2857142857142857,\n",
              " 0.35714285714285715)"
            ]
          },
          "metadata": {},
          "execution_count": 6
        }
      ]
    },
    {
      "cell_type": "markdown",
      "metadata": {
        "id": "1j4EpTJuCpZ9"
      },
      "source": [
        "### I-3- Uncertainty of a set\n",
        "\n",
        "Shannon's entropy is the amount of information contained in a source of information; the more different information the source emits, the greater the entropy (or uncertainty about what the source emits).\n",
        "Therefore, a set with an entropy of 0 contains the same values.\n",
        "Given : \n",
        "- $S$ a set of values \n",
        "- $V$ a set of unique values of $S$ \n",
        "\n",
        "The entropy of $S$ is calculated as follows: \n",
        "$$H(S) = - \\sum\\limits_{v \\in V} p(v/S) \\log_2 p(v/S)$$\n",
        "\n",
        "For example, the column \"joeur\" contains two values \"oui\" and \"non\". \n",
        "Its entopy is :\n",
        "$$H(jouer) = - \\frac{9}{14} * \\log_2(\\frac{9}{14}) - \\frac{5}{14} * \\log_2(\\frac{5}{14}) = 0.9402859586706309$$"
      ]
    },
    {
      "cell_type": "code",
      "metadata": {
        "id": "3aE0ZNGJCpZ-",
        "colab": {
          "base_uri": "https://localhost:8080/"
        },
        "outputId": "bd0a638b-95c3-4441-d24d-e56909d53d22"
      },
      "source": [
        "# The entropy function\n",
        "import math as mth\n",
        "def H(S):  \n",
        "    vals = np.unique(S)\n",
        "    res = 0\n",
        "    for val in vals:\n",
        "        res -= P(S,val)*mth.log(P(S,val),2)\n",
        "    return res \n",
        "\n",
        "# Manual calculation 5 digits after the decimal point (without rounding)\n",
        "# H(temps) = - P(temps = ensoleilé) * log2 (P(temps = ensoleilé))\n",
        "#            - P(temps = nuageux) * log2 (P(temps = nuageux))\n",
        "#            - P(temps = pluvieux) * log2 (P(temps = pluvieux))\n",
        "#          = - 5/14 * log2(5/14) - 4/14 * log2(4/14) - 5/14 * log2(5/14)\n",
        "#          = 1.57740 (copier-coller la formule dans Google)\n",
        "\n",
        "H(X_jouer[:,0])"
      ],
      "execution_count": 7,
      "outputs": [
        {
          "output_type": "execute_result",
          "data": {
            "text/plain": [
              "1.5774062828523452"
            ]
          },
          "metadata": {},
          "execution_count": 7
        }
      ]
    },
    {
      "cell_type": "markdown",
      "metadata": {
        "id": "u2pYF2xNCpZ_"
      },
      "source": [
        "### I-4- Division of a set\n",
        "\n",
        "Here, we try to divide the set of classes according to the values of an attribute (characteristic, column) to subsets. \n",
        "\n",
        "Given : \n",
        "- S: the set to be divided (a vector in reality, since we must use the order of the elements)\n",
        "- A: the set of values of an attribute (characteristic, column). It is a vector aligned with S; i.e., each element of A has a respective element of S.\n",
        "- val : the value on which we divide.\n",
        "\n",
        "$$S_{A, val} = \\{v_i \\in S / i \\in \\{j / w_j \\in A \\text{ et } w_j = val\\}\\}$$\n",
        "\n",
        "For example, if \n",
        "- $S$ is the set of \"jouer\" classes\n",
        "- $A$ is the set of characteristic values \"time\n",
        "- $val$ is the value \"ensoleile\"\n",
        "The subset of \"jouer\" where (time = \"ensoleile\") contains 3 no and 2 yes "
      ]
    },
    {
      "cell_type": "code",
      "metadata": {
        "id": "1qg7kWteCpaB",
        "colab": {
          "base_uri": "https://localhost:8080/"
        },
        "outputId": "aead87c4-ec19-4a80-ad0b-7bc40febbf17"
      },
      "source": [
        "# The function must return a subset of S\n",
        "# where the respective values in A are equal to val\n",
        "def diviser(S, A, val):\n",
        "    msk = A == val\n",
        "    return S[msk]\n",
        "\n",
        "\n",
        "diviser(Y_jouer, X_jouer[:,0], \"ensoleile\")"
      ],
      "execution_count": 8,
      "outputs": [
        {
          "output_type": "execute_result",
          "data": {
            "text/plain": [
              "array(['non', 'non', 'non', 'oui', 'oui'], dtype=object)"
            ]
          },
          "metadata": {},
          "execution_count": 8
        }
      ]
    },
    {
      "cell_type": "markdown",
      "metadata": {
        "id": "iKXIWqxSCpaC"
      },
      "source": [
        "Maintenant, on divise la colonne \"jouer\" (Y_jouer) sur trois sous-ensembles selon les valeurs de la colonne \"temps\". \n",
        "Pour chaque sous-ensemble, on calcule l'entropie."
      ]
    },
    {
      "cell_type": "code",
      "metadata": {
        "id": "JjoVLF8tCpaD",
        "colab": {
          "base_uri": "https://localhost:8080/"
        },
        "outputId": "349f6fde-0179-4f18-cc58-eaf7d53837a9"
      },
      "source": [
        "Y_ensoleile = diviser(Y_jouer, X_jouer[:,0], \"ensoleile\") # jouer: 2 oui, 3 non\n",
        "# H(S_ensoleilé) = - 2/5 * log2(2/5) - 3/5 * log2(3/5) = 0.9709505944546686\n",
        "Y_nuageux = diviser(Y_jouer, X_jouer[:,0], \"nuageux\") # jouer: 4 oui, 0 non\n",
        "# P(S_nuageux) = - 4/4 * log2(4/4) - 0/4 * log2(0/4) = 0.0\n",
        "Y_pluvieux = diviser(Y_jouer, X_jouer[:,0], \"pluvieux\") # jouer: 3 oui, 2 non\n",
        "# P(S_pluvieux) = - 3/5 * log2(3/5) - 2/5 * log2(2/5) = 0.971\n",
        "\n",
        "# Résultat: \n",
        "# (0.9709505944546686, 0.0, 0.9709505944546686)\n",
        "H(Y_ensoleile), H(Y_nuageux), H(Y_pluvieux)"
      ],
      "execution_count": 9,
      "outputs": [
        {
          "output_type": "execute_result",
          "data": {
            "text/plain": [
              "(0.9709505944546686, 0.0, 0.9709505944546686)"
            ]
          },
          "metadata": {},
          "execution_count": 9
        }
      ]
    },
    {
      "cell_type": "markdown",
      "metadata": {
        "id": "H_D_x_UXCpaP"
      },
      "source": [
        "We notice that the entropy of the set (temps = nuageux) is equal to 0 "
      ]
    },
    {
      "cell_type": "markdown",
      "metadata": {
        "id": "5nKWDMJxCpaQ"
      },
      "source": [
        "- The entropy of the cloudy set is null, it means that this variable is homogeneous, ide, all its values are similar.\n",
        "- No, we don't need to divide this set, we can take a decision from this level"
      ]
    },
    {
      "cell_type": "markdown",
      "metadata": {
        "id": "bG6LtV3qCpaQ"
      },
      "source": [
        "### I-5- The entropy gain\n",
        "\n",
        "The entropy gain (information gain) is the difference between the entropy before and after the division of a set $S$ according to the attribute $A$. \n",
        "In other words, how much uncertainty in $S$ has been reduced after its division using the attribute $A$.\n",
        "\n",
        "Given: \n",
        "- S: a set (in our case, the set of classes) \n",
        "- A: set of values of an attribute (characteristic, column) \n",
        "- V : the set of the different values of the attribute A\n",
        "- p(v/A) : the probability of occurrence of the value $v$ in $A$\n",
        "- $S_{A, v}$ : subset of $S$ where the values of $V$ are equal to $v$ \n",
        "\n",
        "The enterpy gain is computed as follows: \n",
        "\n",
        "$$IG(S, A) = H(S) - \\sum_{v \\in V} p(v/A) H(S_{A, v})$$"
      ]
    },
    {
      "cell_type": "code",
      "metadata": {
        "id": "wkdnJZg7CpaR",
        "colab": {
          "base_uri": "https://localhost:8080/"
        },
        "outputId": "f02a349d-b1b8-4a7d-93e0-2fa781f45e03"
      },
      "source": [
        "# This function must return the entropy gain and the entropy \n",
        "# The entropy is returned so as not to recalculate later \n",
        "def IG(S, A):\n",
        "    vals = np.unique(A)\n",
        "    entropie = H(S)\n",
        "    ig_global = entropie\n",
        "\n",
        "    for val in vals:\n",
        "        ig_global -= P(A,val)*H(diviser(S,A,val))\n",
        "    return ig_global, entropie\n",
        "\n",
        "#    TEST\n",
        "# ===========\n",
        "# IG(S, temps) = H(S) - P(temps = ensoleilé) * H(S_ensoleilé) - P(temps = nuageux) * H(S_nuageux) - P(temps = pluvieux) * H(S_pluvieux)\n",
        "#              = 0.2467498197744391\n",
        "\n",
        "IG(Y_jouer, X_jouer[:, 0])"
      ],
      "execution_count": 10,
      "outputs": [
        {
          "output_type": "execute_result",
          "data": {
            "text/plain": [
              "(0.2467498197744391, 0.9402859586706309)"
            ]
          },
          "metadata": {},
          "execution_count": 10
        }
      ]
    },
    {
      "cell_type": "code",
      "metadata": {
        "id": "9Va4hmoYCpaR",
        "colab": {
          "base_uri": "https://localhost:8080/"
        },
        "outputId": "2a8b8bf1-6edb-431d-9f66-d7e6326abbff"
      },
      "source": [
        "print(\"IG(jouer, temps), IG(jouer, température), IG(jouer, humidité), IG(jouer, vent)\")\n",
        "\n",
        "IG(Y_jouer, X_jouer[:, 0]), IG(Y_jouer, X_jouer[:, 1]), IG(Y_jouer, X_jouer[:, 2]), IG(Y_jouer, X_jouer[:, 3])"
      ],
      "execution_count": 11,
      "outputs": [
        {
          "output_type": "stream",
          "name": "stdout",
          "text": [
            "IG(jouer, temps), IG(jouer, température), IG(jouer, humidité), IG(jouer, vent)\n"
          ]
        },
        {
          "output_type": "execute_result",
          "data": {
            "text/plain": [
              "((0.2467498197744391, 0.9402859586706309),\n",
              " (0.029222565658954647, 0.9402859586706309),\n",
              " (0.15183550136234136, 0.9402859586706309),\n",
              " (0.04812703040826932, 0.9402859586706309))"
            ]
          },
          "metadata": {},
          "execution_count": 11
        }
      ]
    },
    {
      "cell_type": "markdown",
      "metadata": {
        "id": "muatCQtKCpaU"
      },
      "source": [
        "- The characteristic that should be used to divide the first node is the characteristque 0 ( temps ), because it has the greatest gain between the other characteristques."
      ]
    },
    {
      "cell_type": "code",
      "metadata": {
        "id": "3FNWQW8HCpaU",
        "colab": {
          "base_uri": "https://localhost:8080/"
        },
        "outputId": "adf276ed-0f7c-4545-8768-42e7efab480d"
      },
      "source": [
        "# This function looks for the most suitable \n",
        "# the most adequate to divide Y \n",
        "# it must also return the GI and H of this feature \n",
        "def num_caracteristique(X, Y): \n",
        "    num = -1\n",
        "    num_ig = - 1.0\n",
        "    num_h = -1.0\n",
        "    for i in range(X.shape[1]):\n",
        "        if IG(Y,X[:,i])[0]>num_ig:\n",
        "            num = i\n",
        "            num_ig, num_h = IG(Y,X[:,i])\n",
        "    return num, num_ig, num_h\n",
        "\n",
        "num_caracteristique(X_jouer, Y_jouer)"
      ],
      "execution_count": 12,
      "outputs": [
        {
          "output_type": "execute_result",
          "data": {
            "text/plain": [
              "(0, 0.2467498197744391, 0.9402859586706309)"
            ]
          },
          "metadata": {},
          "execution_count": 12
        }
      ]
    },
    {
      "cell_type": "markdown",
      "metadata": {
        "id": "qhg7RNgACpaV"
      },
      "source": [
        "### I-6- Creating the tree\n",
        "\n",
        "We create a structure for the tree (the Node class)\n",
        "\n",
        "We implement a recursive function to create a tree from a set"
      ]
    },
    {
      "cell_type": "code",
      "metadata": {
        "id": "OOx2Cj9zCpaV",
        "colab": {
          "base_uri": "https://localhost:8080/",
          "height": 278
        },
        "outputId": "b0d65cb8-6e96-478c-e2b8-ea8bd006911a"
      },
      "source": [
        "# A class to hold the node information and \n",
        "# the list of its children\n",
        "class Noeud(object): \n",
        "    \n",
        "    nbr = 0\n",
        "    \n",
        "    def __init__(self, num, ig, h, profondeur): \n",
        "        self.num = num # the number of the division feature in X\n",
        "        self.ig = ig # the division IG\n",
        "        self.h = h # the entropy H\n",
        "        self.pr = profondeur # the depth of the node\n",
        "        self.fils = {} # fils; a dictionary value : node\n",
        "        self.cls = \"\" # the class if this node is final (if there are no children)\n",
        "        self.indent = \" \" # indentation when generating the code\n",
        "    \n",
        "    # This function is to transform the node to a string\n",
        "    #Here we have redefined this function so that it writes the tree \n",
        "    # in the form of an algorithm; it is a parser \n",
        "    def __str__(self):\n",
        "        \n",
        "        indent = self.indent * self.pr # indentation : esthetique\n",
        "        \n",
        "        # if there are no children, the node is terminal; we print the class\n",
        "        if (len(self.fils)==0):\n",
        "            return indent + 'Y est \"' + self.cls + '\"\\n'\n",
        "        \n",
        "        # if there are wires, we loop on the wires and print SI ... ALORS\n",
        "        res = \"\"\n",
        "        for valeur in self.fils:\n",
        "            res += indent + 'Si X[' + str(self.num) + '] est \"' + str(valeur) + '\" Alors\\n' + str(self.fils[valeur])\n",
        "        return res\n",
        "    \n",
        "    # predict a sample\n",
        "    def predire(self, x): \n",
        "        \n",
        "        # If the node is final, it returns its class \n",
        "        if (len(self.fils)==0):\n",
        "            return self.cls\n",
        "        \n",
        "        # If the value of the respective column at this node does not belong to the set of\n",
        "        # expected values, we return np.nan\n",
        "        if x[self.num] not in self.fils: \n",
        "            return np.nan\n",
        "        \n",
        "        # Otherwise, we return \n",
        "        return self.fils[x[self.num]].predire(x)\n",
        "    \n",
        "    # generate a code for graphviz\n",
        "    def graphviz(self): \n",
        "        \n",
        "        nid = 'N' + str(Noeud.nbr)\n",
        "        Noeud.nbr += 1\n",
        "        \n",
        "        # If the node is final, \n",
        "        if (len(self.fils)==0):\n",
        "            return nid, nid + '[label=\"' + self.cls + '\" shape=ellipse];\\n'\n",
        "        \n",
        "        # Otherwise, \n",
        "        # if there are wires, we loop on the wires and print SI ... ALORS\n",
        "        res = nid + '[label=\"X[' + str(self.num) + ']\\\\n'\n",
        "        res += 'H = ' + str(self.h) + '\\\\n'\n",
        "        res += 'IG = ' + str(self.ig) + '\"];\\n'\n",
        "        for valeur in self.fils:\n",
        "            vid, code = self.fils[valeur].graphviz()\n",
        "            res += code\n",
        "            res += nid + ' -> ' + vid + ' [label=\"' + valeur + '\"];\\n'\n",
        "        return nid, res\n",
        "    \n",
        "\n",
        "# create the decision tree from a set X and Y\n",
        "def entrainer(X, Y, profondeur=0, elagage=False): \n",
        "    \n",
        "    # Find the best characteristic of X to divide Y\n",
        "    num, num_ig, num_h = num_caracteristique(X, Y)\n",
        "    # Create a node \n",
        "    noeud = Noeud(num, num_ig, num_h, profondeur)\n",
        "    # If the entropy is 0 then the node is a leaf \n",
        "    if num_h == 0.0:\n",
        "        noeud.cls = Y[0] # the class of the node\n",
        "        return noeud # return the node \n",
        "    \n",
        "    # there is no pruning in ID3, but it must be activated to avoid \n",
        "    # the problem of max recursion \n",
        "    if profondeur > 0 and elagage:\n",
        "        noeud.cls = max(set(Y))\n",
        "        return noeud # return the node\n",
        "    \n",
        "    # Sinon, si le noeud n'est pas une feuille, on crée ces fils\n",
        "    profondeur += 1 # la profondeur de ces fils\n",
        "    # les fils sont créés à partir des valeurs uniques du meilleur caractéristique\n",
        "    for val in np.unique(X[:, num]):\n",
        "        # Ces trois lignes sont pour récupérer les sous-ensembles X_val, Y_val\n",
        "        # Corresondants à une valeur du meilleur caractéristique\n",
        "        msk = X[:, num] == val \n",
        "        X_val = X[msk]\n",
        "        Y_val = Y[msk]\n",
        "        # On refait la même opération sur l'ensemble (Y_val) d'une manière récursive\n",
        "        fils = entrainer(X_val, Y_val, profondeur, elagage)\n",
        "        # On affecte le noeud créé indexé par la valeur du meilleur caractéristique \n",
        "        # à l'ensemble des fils du noeud courant\n",
        "        noeud.fils[val] = fils\n",
        "    \n",
        "    return noeud\n",
        "\n",
        "arbre_jouer = entrainer(X_jouer, Y_jouer)\n",
        "\n",
        "print(\"Le Code\")\n",
        "print(arbre_jouer)\n",
        "\n",
        "# Tester sur un échantillon\n",
        "arbre_jouer.predire([\"pluvieux\", \"temperature_makanche\", \"humidite_makanche\", \"non\"])"
      ],
      "execution_count": 14,
      "outputs": [
        {
          "output_type": "stream",
          "name": "stdout",
          "text": [
            "Le Code\n",
            "Si X[0] est \"ensoleile\" Alors\n",
            " Si X[2] est \"haute\" Alors\n",
            "  Y est \"non\"\n",
            " Si X[2] est \"normale\" Alors\n",
            "  Y est \"oui\"\n",
            "Si X[0] est \"nuageux\" Alors\n",
            " Y est \"oui\"\n",
            "Si X[0] est \"pluvieux\" Alors\n",
            " Si X[3] est \"non\" Alors\n",
            "  Y est \"oui\"\n",
            " Si X[3] est \"oui\" Alors\n",
            "  Y est \"non\"\n",
            "\n"
          ]
        },
        {
          "output_type": "execute_result",
          "data": {
            "application/vnd.google.colaboratory.intrinsic+json": {
              "type": "string"
            },
            "text/plain": [
              "'oui'"
            ]
          },
          "metadata": {},
          "execution_count": 14
        }
      ]
    },
    {
      "cell_type": "markdown",
      "metadata": {
        "id": "UZraecbYCpaW"
      },
      "source": [
        "### I-7- Grouping functions together*."
      ]
    },
    {
      "cell_type": "code",
      "metadata": {
        "id": "-7uQCqa8CpaW",
        "colab": {
          "base_uri": "https://localhost:8080/"
        },
        "outputId": "814d29b5-89bb-4b49-b440-49eba9e53ac3"
      },
      "source": [
        "class ID3(object): \n",
        "    \n",
        "    def entrainer(self, X, Y, X_noms=[], Y_nom=\"\", elagage=False):\n",
        "        self.arbre = entrainer(X, Y, elagage=elagage)\n",
        "        code = str(self.arbre)\n",
        "        if len(Y_nom) > 0: \n",
        "            code = code.replace(\"Y\", Y_nom)\n",
        "        for i in range(len(X_noms)): \n",
        "            code = code.replace(\"X[\" + str(i) + \"]\", X_noms[i])\n",
        "        self.code = code\n",
        "        self.X_noms = X_noms\n",
        "    \n",
        "    def predire(self, X): \n",
        "        predictions = []\n",
        "        for i in range(len(X)): \n",
        "            predictions.append(self.arbre.predire(X[i, :]))\n",
        "        return predictions\n",
        "    \n",
        "    def graphviz(self): \n",
        "        nid, code = self.arbre.graphviz()\n",
        "        res = \"digraph Tree {\\n\"\n",
        "        res += \"node [shape=box] ;\"\n",
        "        for i in range(len(self.X_noms)): \n",
        "            code = code.replace(\"X[\" + str(i) + \"]\", self.X_noms[i])\n",
        "        res += code\n",
        "        res += \"}\"\n",
        "        return res\n",
        "\n",
        "id3_classifieur = ID3()\n",
        "id3_classifieur.entrainer(X_jouer, Y_jouer, X_noms=[\"temps\", \"temperature\", \"humidite\", \"vent\"], Y_nom=\"jouer\")\n",
        "print(id3_classifieur.code)"
      ],
      "execution_count": 15,
      "outputs": [
        {
          "output_type": "stream",
          "name": "stdout",
          "text": [
            "Si temps est \"ensoleile\" Alors\n",
            " Si humidite est \"haute\" Alors\n",
            "  jouer est \"non\"\n",
            " Si humidite est \"normale\" Alors\n",
            "  jouer est \"oui\"\n",
            "Si temps est \"nuageux\" Alors\n",
            " jouer est \"oui\"\n",
            "Si temps est \"pluvieux\" Alors\n",
            " Si vent est \"non\" Alors\n",
            "  jouer est \"oui\"\n",
            " Si vent est \"oui\" Alors\n",
            "  jouer est \"non\"\n",
            "\n"
          ]
        }
      ]
    },
    {
      "cell_type": "markdown",
      "metadata": {
        "id": "gt8dVWTpCpaY"
      },
      "source": [
        "- The attribute does not contribute to the decision, the change of its values does not lead to a change in the decision. We had this situation because, in the training, we arrived at a stop criterion without having used this attribute \"Temperature\" to separate a node, its gain was always lower than that of the other attributes"
      ]
    },
    {
      "cell_type": "code",
      "metadata": {
        "id": "vKV7MqwKCpaY",
        "colab": {
          "base_uri": "https://localhost:8080/",
          "height": 357
        },
        "outputId": "3faab9fa-d4b0-4224-d58e-59a498dad099"
      },
      "source": [
        "try:\n",
        "    from IPython.display import SVG\n",
        "    from graphviz import Source\n",
        "    from IPython.display import display\n",
        "    \n",
        "    graph = Source(id3_classifieur.graphviz())\n",
        "    display(SVG(graph.pipe(format='svg')))\n",
        "\n",
        "except ImportError:\n",
        "    print(\"il faut installer graphviz\")"
      ],
      "execution_count": 16,
      "outputs": [
        {
          "output_type": "display_data",
          "data": {
            "text/plain": [
              "<IPython.core.display.SVG object>"
            ],
            "image/svg+xml": "<svg height=\"252pt\" viewBox=\"0.00 0.00 457.00 252.00\" width=\"457pt\" xmlns=\"http://www.w3.org/2000/svg\" xmlns:xlink=\"http://www.w3.org/1999/xlink\">\n<g class=\"graph\" id=\"graph0\" transform=\"scale(1 1) rotate(0) translate(4 248)\">\n<title>Tree</title>\n<polygon fill=\"#ffffff\" points=\"-4,4 -4,-248 453,-248 453,4 -4,4\" stroke=\"transparent\"/>\n<!-- N0 -->\n<g class=\"node\" id=\"node1\">\n<title>N0</title>\n<polygon fill=\"none\" points=\"314,-244 135,-244 135,-191 314,-191 314,-244\" stroke=\"#000000\"/>\n<text fill=\"#000000\" font-family=\"Times,serif\" font-size=\"14.00\" text-anchor=\"middle\" x=\"224.5\" y=\"-228.8\">temps</text>\n<text fill=\"#000000\" font-family=\"Times,serif\" font-size=\"14.00\" text-anchor=\"middle\" x=\"224.5\" y=\"-213.8\">H = 0.9402859586706309</text>\n<text fill=\"#000000\" font-family=\"Times,serif\" font-size=\"14.00\" text-anchor=\"middle\" x=\"224.5\" y=\"-198.8\">IG = 0.2467498197744391</text>\n</g>\n<!-- N1 -->\n<g class=\"node\" id=\"node2\">\n<title>N1</title>\n<polygon fill=\"none\" points=\"179,-140 0,-140 0,-87 179,-87 179,-140\" stroke=\"#000000\"/>\n<text fill=\"#000000\" font-family=\"Times,serif\" font-size=\"14.00\" text-anchor=\"middle\" x=\"89.5\" y=\"-124.8\">humidite</text>\n<text fill=\"#000000\" font-family=\"Times,serif\" font-size=\"14.00\" text-anchor=\"middle\" x=\"89.5\" y=\"-109.8\">H = 0.9709505944546686</text>\n<text fill=\"#000000\" font-family=\"Times,serif\" font-size=\"14.00\" text-anchor=\"middle\" x=\"89.5\" y=\"-94.8\">IG = 0.9709505944546686</text>\n</g>\n<!-- N0&#45;&gt;N1 -->\n<g class=\"edge\" id=\"edge3\">\n<title>N0-&gt;N1</title>\n<path d=\"M190.0845,-190.9873C172.5278,-177.4621 151.0038,-160.8807 132.3782,-146.5321\" fill=\"none\" stroke=\"#000000\"/>\n<polygon fill=\"#000000\" points=\"134.3799,-143.656 124.3221,-140.3259 130.108,-149.2014 134.3799,-143.656\" stroke=\"#000000\"/>\n<text fill=\"#000000\" font-family=\"Times,serif\" font-size=\"14.00\" text-anchor=\"middle\" x=\"190.5\" y=\"-161.8\">ensoleile</text>\n</g>\n<!-- N4 -->\n<g class=\"node\" id=\"node5\">\n<title>N4</title>\n<ellipse cx=\"224.5\" cy=\"-113.5\" fill=\"none\" rx=\"27\" ry=\"18\" stroke=\"#000000\"/>\n<text fill=\"#000000\" font-family=\"Times,serif\" font-size=\"14.00\" text-anchor=\"middle\" x=\"224.5\" y=\"-109.8\">oui</text>\n</g>\n<!-- N0&#45;&gt;N4 -->\n<g class=\"edge\" id=\"edge4\">\n<title>N0-&gt;N4</title>\n<path d=\"M224.5,-190.9873C224.5,-176.0719 224.5,-157.4395 224.5,-142.1839\" fill=\"none\" stroke=\"#000000\"/>\n<polygon fill=\"#000000\" points=\"228.0001,-141.7735 224.5,-131.7735 221.0001,-141.7736 228.0001,-141.7735\" stroke=\"#000000\"/>\n<text fill=\"#000000\" font-family=\"Times,serif\" font-size=\"14.00\" text-anchor=\"middle\" x=\"249.5\" y=\"-161.8\">nuageux</text>\n</g>\n<!-- N5 -->\n<g class=\"node\" id=\"node6\">\n<title>N5</title>\n<polygon fill=\"none\" points=\"449,-140 270,-140 270,-87 449,-87 449,-140\" stroke=\"#000000\"/>\n<text fill=\"#000000\" font-family=\"Times,serif\" font-size=\"14.00\" text-anchor=\"middle\" x=\"359.5\" y=\"-124.8\">vent</text>\n<text fill=\"#000000\" font-family=\"Times,serif\" font-size=\"14.00\" text-anchor=\"middle\" x=\"359.5\" y=\"-109.8\">H = 0.9709505944546686</text>\n<text fill=\"#000000\" font-family=\"Times,serif\" font-size=\"14.00\" text-anchor=\"middle\" x=\"359.5\" y=\"-94.8\">IG = 0.9709505944546686</text>\n</g>\n<!-- N0&#45;&gt;N5 -->\n<g class=\"edge\" id=\"edge7\">\n<title>N0-&gt;N5</title>\n<path d=\"M258.9155,-190.9873C276.4722,-177.4621 297.9962,-160.8807 316.6218,-146.5321\" fill=\"none\" stroke=\"#000000\"/>\n<polygon fill=\"#000000\" points=\"318.892,-149.2014 324.6779,-140.3259 314.6201,-143.656 318.892,-149.2014\" stroke=\"#000000\"/>\n<text fill=\"#000000\" font-family=\"Times,serif\" font-size=\"14.00\" text-anchor=\"middle\" x=\"326.5\" y=\"-161.8\">pluvieux</text>\n</g>\n<!-- N2 -->\n<g class=\"node\" id=\"node3\">\n<title>N2</title>\n<ellipse cx=\"53.5\" cy=\"-18\" fill=\"none\" rx=\"27\" ry=\"18\" stroke=\"#000000\"/>\n<text fill=\"#000000\" font-family=\"Times,serif\" font-size=\"14.00\" text-anchor=\"middle\" x=\"53.5\" y=\"-14.3\">non</text>\n</g>\n<!-- N1&#45;&gt;N2 -->\n<g class=\"edge\" id=\"edge1\">\n<title>N1-&gt;N2</title>\n<path d=\"M79.2159,-86.6876C76.9922,-80.86 74.6603,-74.726 72.5,-69 69.5451,-61.1679 66.3599,-52.6488 63.4577,-44.8561\" fill=\"none\" stroke=\"#000000\"/>\n<polygon fill=\"#000000\" points=\"66.7373,-43.6335 59.9715,-35.4803 60.1762,-46.0732 66.7373,-43.6335\" stroke=\"#000000\"/>\n<text fill=\"#000000\" font-family=\"Times,serif\" font-size=\"14.00\" text-anchor=\"middle\" x=\"88\" y=\"-57.8\">haute</text>\n</g>\n<!-- N3 -->\n<g class=\"node\" id=\"node4\">\n<title>N3</title>\n<ellipse cx=\"125.5\" cy=\"-18\" fill=\"none\" rx=\"27\" ry=\"18\" stroke=\"#000000\"/>\n<text fill=\"#000000\" font-family=\"Times,serif\" font-size=\"14.00\" text-anchor=\"middle\" x=\"125.5\" y=\"-14.3\">oui</text>\n</g>\n<!-- N1&#45;&gt;N3 -->\n<g class=\"edge\" id=\"edge2\">\n<title>N1-&gt;N3</title>\n<path d=\"M99.528,-86.8979C104.4354,-73.8798 110.3334,-58.2336 115.2678,-45.1438\" fill=\"none\" stroke=\"#000000\"/>\n<polygon fill=\"#000000\" points=\"118.5686,-46.3099 118.8209,-35.7181 112.0185,-43.8407 118.5686,-46.3099\" stroke=\"#000000\"/>\n<text fill=\"#000000\" font-family=\"Times,serif\" font-size=\"14.00\" text-anchor=\"middle\" x=\"136\" y=\"-57.8\">normale</text>\n</g>\n<!-- N6 -->\n<g class=\"node\" id=\"node7\">\n<title>N6</title>\n<ellipse cx=\"323.5\" cy=\"-18\" fill=\"none\" rx=\"27\" ry=\"18\" stroke=\"#000000\"/>\n<text fill=\"#000000\" font-family=\"Times,serif\" font-size=\"14.00\" text-anchor=\"middle\" x=\"323.5\" y=\"-14.3\">oui</text>\n</g>\n<!-- N5&#45;&gt;N6 -->\n<g class=\"edge\" id=\"edge5\">\n<title>N5-&gt;N6</title>\n<path d=\"M349.472,-86.8979C344.5646,-73.8798 338.6666,-58.2336 333.7322,-45.1438\" fill=\"none\" stroke=\"#000000\"/>\n<polygon fill=\"#000000\" points=\"336.9815,-43.8407 330.1791,-35.7181 330.4314,-46.3099 336.9815,-43.8407\" stroke=\"#000000\"/>\n<text fill=\"#000000\" font-family=\"Times,serif\" font-size=\"14.00\" text-anchor=\"middle\" x=\"355\" y=\"-57.8\">non</text>\n</g>\n<!-- N7 -->\n<g class=\"node\" id=\"node8\">\n<title>N7</title>\n<ellipse cx=\"395.5\" cy=\"-18\" fill=\"none\" rx=\"27\" ry=\"18\" stroke=\"#000000\"/>\n<text fill=\"#000000\" font-family=\"Times,serif\" font-size=\"14.00\" text-anchor=\"middle\" x=\"395.5\" y=\"-14.3\">non</text>\n</g>\n<!-- N5&#45;&gt;N7 -->\n<g class=\"edge\" id=\"edge6\">\n<title>N5-&gt;N7</title>\n<path d=\"M369.528,-86.8979C374.4354,-73.8798 380.3334,-58.2336 385.2678,-45.1438\" fill=\"none\" stroke=\"#000000\"/>\n<polygon fill=\"#000000\" points=\"388.5686,-46.3099 388.8209,-35.7181 382.0185,-43.8407 388.5686,-46.3099\" stroke=\"#000000\"/>\n<text fill=\"#000000\" font-family=\"Times,serif\" font-size=\"14.00\" text-anchor=\"middle\" x=\"391\" y=\"-57.8\">oui</text>\n</g>\n</g>\n</svg>"
          },
          "metadata": {}
        }
      ]
    },
    {
      "cell_type": "markdown",
      "metadata": {
        "id": "1NtTwVsmCpaY"
      },
      "source": [
        "## II- C4.5 \n",
        "\n",
        "This algorithm is an improvement on the ID3 algorithm.\n",
        "Among the improvements:\n",
        "\n",
        "- Transform continuous (numeric) features into nominal features dynamically.\n",
        "- Features without values are ignored when calculating entropy and information gain.\n",
        "- Tree pruning after creation.\n",
        "\n",
        "### II-1- Selecting the best feature\n",
        "\n",
        "When we have a feature with a large number of values, it will be favored by the entropy gain (IG). \n",
        "C4.5 uses an extension of the GI called \"gain ratio\".\n",
        "The gain ratio deals with the bias problem by normalizing the information gain using the division information.\n",
        "\n",
        "\n",
        "Given: \n",
        "- S: a set (in our case, the set of classes) \n",
        "- A: the set of values of an attribute (characteristic, column) \n",
        "- V : the set of the different values of the attribute A\n",
        "- p(v) : the probability of occurrence of the value $v$ in $A$\n",
        "- $S_{A, v}$ : subset of $S$ where the values of $V$ equal $v$ \n",
        "\n",
        "The Split Information (SI) can be computed as follows:\n",
        "$$SI(S, A) = - \\sum_{v \\in V} p(v) H(S_{A, v})$$\n",
        "\n",
        "And the Gain Ratio (GR) is calculated as follows:\n",
        "$$GR(S, A) = \\frac{IG(S, A)}{SI(S, A)}$$\n",
        "\n",
        "### II-2- Handling continuous features\n",
        "\n",
        "ID3 does not support features with continuous values; like age, price, etc.\n",
        "C4.5 introduces the support of this kind of features by looking for the best threshold that can divide the set of values of a feature in two.\n",
        "\n",
        "In order to select the right division, we follow the following algorithm each time we want to compare a feature with others:\n",
        "\n",
        "- For each $v_{A,i}$ value of a feature $A$ \n",
        "    - Divide the data set $S$ into two subsets: the data with $ v > v_{A,i}$ and the data with $ v <= v_{A,i}$\n",
        "    - Compute the gain ratio GR of this division\n",
        "- The value that maximizes the gain ratio is taken as the deviation threshold\n",
        "\n",
        "### II-3- Tree pruning\n",
        "\n",
        "To avoid overlearning (creating a tree with a large depth), we can use the pruning technique.\n",
        "There are two types of pruning:\n",
        "\n",
        "- **pre-pruning**: use criteria to stop the division. For example: minimum number of samples in a node, a homogeneity rate of a subset.\n",
        "- post-pruning**: build the tree, then eliminate the branches that do not improve the performance of the tree.\n",
        "\n",
        "Here is the post-pruning algorithm used by C4.5:\n",
        "\n",
        "- Build the decision tree\n",
        "- Transform the tree to a set of rules of the form (If [preconditions] Then [result]) by traversing the tree from the root to a leaf.\n",
        "- Remove preconditions that do not improve the performance of a rule.\n",
        "- Arrange the elaged rules based on their performance. Start with the rule that gives more performance and end with the one that gives less.\n",
        "\n"
      ]
    },
    {
      "cell_type": "markdown",
      "metadata": {
        "id": "mGojOPeLCpaZ"
      },
      "source": [
        "## III- CART (implementation)\n",
        "\n",
        "The CART algorithm is similar to C4.5 with some differences:\n",
        "- It supports regression.\n",
        "- It uses other criteria to select the best feature.\n",
        "- It tries to minimize a cost function.\n",
        "- It uses pre-scaling by using a stopping criterion.\n",
        "- It creates binary trees \n",
        "\n",
        "### III-1- Reading and preparation of test data"
      ]
    },
    {
      "cell_type": "code",
      "metadata": {
        "id": "1LBLcbZ5Cpaa",
        "colab": {
          "base_uri": "https://localhost:8080/",
          "height": 489
        },
        "outputId": "0734a9cc-3918-48de-952a-13a94fcc0fae"
      },
      "source": [
        "# imports to not be forced to execute the first code\n",
        "import numpy as np\n",
        "import pandas as pd \n",
        "\n",
        "\n",
        "njouer = pd.read_csv(\"datasets/jouer_num.csv\")\n",
        "njouer"
      ],
      "execution_count": 17,
      "outputs": [
        {
          "output_type": "execute_result",
          "data": {
            "text/html": [
              "<div>\n",
              "<style scoped>\n",
              "    .dataframe tbody tr th:only-of-type {\n",
              "        vertical-align: middle;\n",
              "    }\n",
              "\n",
              "    .dataframe tbody tr th {\n",
              "        vertical-align: top;\n",
              "    }\n",
              "\n",
              "    .dataframe thead th {\n",
              "        text-align: right;\n",
              "    }\n",
              "</style>\n",
              "<table border=\"1\" class=\"dataframe\">\n",
              "  <thead>\n",
              "    <tr style=\"text-align: right;\">\n",
              "      <th></th>\n",
              "      <th>temps</th>\n",
              "      <th>temperature</th>\n",
              "      <th>humidite</th>\n",
              "      <th>vent</th>\n",
              "      <th>jouer</th>\n",
              "    </tr>\n",
              "  </thead>\n",
              "  <tbody>\n",
              "    <tr>\n",
              "      <th>0</th>\n",
              "      <td>ensoleile</td>\n",
              "      <td>30</td>\n",
              "      <td>85</td>\n",
              "      <td>non</td>\n",
              "      <td>non</td>\n",
              "    </tr>\n",
              "    <tr>\n",
              "      <th>1</th>\n",
              "      <td>ensoleile</td>\n",
              "      <td>27</td>\n",
              "      <td>90</td>\n",
              "      <td>oui</td>\n",
              "      <td>non</td>\n",
              "    </tr>\n",
              "    <tr>\n",
              "      <th>2</th>\n",
              "      <td>nuageux</td>\n",
              "      <td>28</td>\n",
              "      <td>78</td>\n",
              "      <td>non</td>\n",
              "      <td>oui</td>\n",
              "    </tr>\n",
              "    <tr>\n",
              "      <th>3</th>\n",
              "      <td>pluvieux</td>\n",
              "      <td>21</td>\n",
              "      <td>96</td>\n",
              "      <td>non</td>\n",
              "      <td>oui</td>\n",
              "    </tr>\n",
              "    <tr>\n",
              "      <th>4</th>\n",
              "      <td>pluvieux</td>\n",
              "      <td>20</td>\n",
              "      <td>80</td>\n",
              "      <td>non</td>\n",
              "      <td>oui</td>\n",
              "    </tr>\n",
              "    <tr>\n",
              "      <th>5</th>\n",
              "      <td>pluvieux</td>\n",
              "      <td>18</td>\n",
              "      <td>70</td>\n",
              "      <td>oui</td>\n",
              "      <td>non</td>\n",
              "    </tr>\n",
              "    <tr>\n",
              "      <th>6</th>\n",
              "      <td>nuageux</td>\n",
              "      <td>18</td>\n",
              "      <td>65</td>\n",
              "      <td>oui</td>\n",
              "      <td>oui</td>\n",
              "    </tr>\n",
              "    <tr>\n",
              "      <th>7</th>\n",
              "      <td>ensoleile</td>\n",
              "      <td>22</td>\n",
              "      <td>95</td>\n",
              "      <td>non</td>\n",
              "      <td>non</td>\n",
              "    </tr>\n",
              "    <tr>\n",
              "      <th>8</th>\n",
              "      <td>ensoleile</td>\n",
              "      <td>21</td>\n",
              "      <td>70</td>\n",
              "      <td>non</td>\n",
              "      <td>oui</td>\n",
              "    </tr>\n",
              "    <tr>\n",
              "      <th>9</th>\n",
              "      <td>pluvieux</td>\n",
              "      <td>24</td>\n",
              "      <td>80</td>\n",
              "      <td>non</td>\n",
              "      <td>oui</td>\n",
              "    </tr>\n",
              "    <tr>\n",
              "      <th>10</th>\n",
              "      <td>ensoleile</td>\n",
              "      <td>24</td>\n",
              "      <td>70</td>\n",
              "      <td>oui</td>\n",
              "      <td>oui</td>\n",
              "    </tr>\n",
              "    <tr>\n",
              "      <th>11</th>\n",
              "      <td>nuageux</td>\n",
              "      <td>22</td>\n",
              "      <td>90</td>\n",
              "      <td>oui</td>\n",
              "      <td>oui</td>\n",
              "    </tr>\n",
              "    <tr>\n",
              "      <th>12</th>\n",
              "      <td>nuageux</td>\n",
              "      <td>27</td>\n",
              "      <td>75</td>\n",
              "      <td>non</td>\n",
              "      <td>oui</td>\n",
              "    </tr>\n",
              "    <tr>\n",
              "      <th>13</th>\n",
              "      <td>pluvieux</td>\n",
              "      <td>22</td>\n",
              "      <td>80</td>\n",
              "      <td>oui</td>\n",
              "      <td>non</td>\n",
              "    </tr>\n",
              "  </tbody>\n",
              "</table>\n",
              "</div>"
            ],
            "text/plain": [
              "        temps  temperature  humidite vent jouer\n",
              "0   ensoleile           30        85  non   non\n",
              "1   ensoleile           27        90  oui   non\n",
              "2     nuageux           28        78  non   oui\n",
              "3    pluvieux           21        96  non   oui\n",
              "4    pluvieux           20        80  non   oui\n",
              "5    pluvieux           18        70  oui   non\n",
              "6     nuageux           18        65  oui   oui\n",
              "7   ensoleile           22        95  non   non\n",
              "8   ensoleile           21        70  non   oui\n",
              "9    pluvieux           24        80  non   oui\n",
              "10  ensoleile           24        70  oui   oui\n",
              "11    nuageux           22        90  oui   oui\n",
              "12    nuageux           27        75  non   oui\n",
              "13   pluvieux           22        80  oui   non"
            ]
          },
          "metadata": {},
          "execution_count": 17
        }
      ]
    },
    {
      "cell_type": "code",
      "metadata": {
        "id": "z1uUpTxGCpab",
        "colab": {
          "base_uri": "https://localhost:8080/"
        },
        "outputId": "ddf646d7-df30-47dc-91b3-31162b10f9e1"
      },
      "source": [
        "X_njouer = njouer.iloc[:, :-1].values # Premières colonnes \n",
        "Y_njouer = njouer.iloc[:,-1].values # Dernière colonne \n",
        "\n",
        "X_njouer[:3, :]"
      ],
      "execution_count": 18,
      "outputs": [
        {
          "output_type": "execute_result",
          "data": {
            "text/plain": [
              "array([['ensoleile', 30, 85, 'non'],\n",
              "       ['ensoleile', 27, 90, 'oui'],\n",
              "       ['nuageux', 28, 78, 'non']], dtype=object)"
            ]
          },
          "metadata": {},
          "execution_count": 18
        }
      ]
    },
    {
      "cell_type": "markdown",
      "metadata": {
        "id": "NK5a1LaTCpac"
      },
      "source": [
        "### III-2- Probability \n",
        "\n",
        "Already implemented in ID3\n",
        "\n",
        "### III-3- Gini diversity index\n",
        "\n",
        "In the classification case, CART uses the Gini diversity index to measure the classification error.\n",
        "An index of 0 represents the best division; \n",
        "\n",
        "Given : \n",
        "- $S$ a set of values \n",
        "- $V$ a set of unique values of $S$ \n",
        "\n",
        "The diversity index $S$ is calculated as follows: \n",
        "$$Gini(S) = \\sum\\limits_{v \\in V} p(v/S) (1-p(v/S)) = 1 - \\sum\\limits_{v \\in V} p(v/S)^2 $$"
      ]
    },
    {
      "cell_type": "code",
      "metadata": {
        "id": "l5LUfqkNCpad",
        "colab": {
          "base_uri": "https://localhost:8080/"
        },
        "outputId": "5ad8b7dc-fdb0-4339-beb7-9dd7ae810a88"
      },
      "source": [
        "def Gini(S):  \n",
        "    vals = np.unique(S)\n",
        "    res = 1\n",
        "    for val in vals:\n",
        "        res -= P(S, val) ** 2\n",
        "    return res \n",
        "\n",
        "Gini(Y_njouer)"
      ],
      "execution_count": 19,
      "outputs": [
        {
          "output_type": "execute_result",
          "data": {
            "text/plain": [
              "0.4591836734693877"
            ]
          },
          "metadata": {},
          "execution_count": 19
        }
      ]
    },
    {
      "cell_type": "markdown",
      "metadata": {
        "id": "LAlDM6YECpae"
      },
      "source": [
        "### III-4- Division d'un ensemble\n",
        "\n",
        "Ici, on essaye de diviser l'ensemble des classes $S$ selon les valeurs d'un attribut $A$ (caractéristique, colonne) à deux sous ensembles: gauche $S_G$  et droit $S_D$. \n",
        "\n",
        "\n",
        "Les fonctions de dévision rendent deux ensembles : gauche et droite. "
      ]
    },
    {
      "cell_type": "code",
      "metadata": {
        "id": "Djk0mf2pCpaf",
        "colab": {
          "base_uri": "https://localhost:8080/"
        },
        "outputId": "a65cafc5-8a26-44b4-f5fd-9e166b221ef0"
      },
      "source": [
        "# In the case of a nominal characteristic A, we make \n",
        "# the left set S_{A == val} and the right set S_{A != val}\n",
        "def diviser_nom_bin(S, A, val):\n",
        "    msk = A == val\n",
        "    return S[msk], S[~msk]\n",
        "\n",
        "# In the case of a numerical feature A, we make \n",
        "# the left set S_{A > val} and the right set S_{A <= val}\n",
        "def diviser_num_bin(S, A, val):\n",
        "    msk = A > val\n",
        "    return S[msk], S[~msk]\n",
        "\n",
        "#The function checks if the value is numerical or not\n",
        "#It calls the two previous functions according to the type\n",
        "def diviser_bin(S, A, val):\n",
        "    try:\n",
        "        val2 = float(val)\n",
        "        return diviser_num_bin(S, A, val)\n",
        "    except ValueError:\n",
        "        return diviser_nom_bin(S, A, val)\n",
        "\n",
        "# Résulat\n",
        "# ((array(['non', 'non', 'non', 'oui', 'oui'], dtype=object),\n",
        "#  array(['oui', 'oui', 'oui', 'non', 'oui', 'oui', 'oui', 'oui', 'non'],\n",
        "#        dtype=object)),\n",
        "# (array(['non', 'oui'], dtype=object),\n",
        "#  array(['non', 'oui', 'oui', 'non', 'oui', 'non', 'oui', 'oui', 'oui',\n",
        "#         'oui', 'oui', 'non'], dtype=object)))\n",
        "diviser_bin(Y_njouer, X_njouer[:, 0], \"ensoleile\"), diviser_bin(Y_njouer, X_njouer[:, 1], 27)"
      ],
      "execution_count": 20,
      "outputs": [
        {
          "output_type": "execute_result",
          "data": {
            "text/plain": [
              "((array(['non', 'non', 'non', 'oui', 'oui'], dtype=object),\n",
              "  array(['oui', 'oui', 'oui', 'non', 'oui', 'oui', 'oui', 'oui', 'non'],\n",
              "        dtype=object)),\n",
              " (array(['non', 'oui'], dtype=object),\n",
              "  array(['non', 'oui', 'oui', 'non', 'oui', 'non', 'oui', 'oui', 'oui',\n",
              "         'oui', 'oui', 'non'], dtype=object)))"
            ]
          },
          "metadata": {},
          "execution_count": 20
        }
      ]
    },
    {
      "cell_type": "markdown",
      "metadata": {
        "id": "mHgh6amsCpaf"
      },
      "source": [
        "### III-5- The Gini diversity of the division\n",
        "\n",
        "Given : \n",
        "- S: a set (in our case, the set of classes) \n",
        "- V : the different values of S \n",
        "- S_G, G_D : left and right subsets\n",
        "- $|S| = |S_G| + |S_D|$\n",
        "\n",
        "The Gini diversity of the division: \n",
        "\n",
        "$$Gini_{div}(S_G, S_D) = \\frac{|S_G|}{|S|} Gini(S_G) + \\frac{|S_D|}{|S|} Gini(S_D)$$\n",
        "\n",
        "Here, we try to minimize $Gini_{div}$"
      ]
    },
    {
      "cell_type": "code",
      "metadata": {
        "id": "RHvX8RzXCpaf",
        "colab": {
          "base_uri": "https://localhost:8080/"
        },
        "outputId": "c3bfef09-cc38-45d5-b36c-13ac6e09054c"
      },
      "source": [
        "def Gini_div(S_G, S_D):  \n",
        "    card_S = len(S_G)+len(S_D)\n",
        "    return (len(S_G)/card_S) * Gini(S_G) + (len(S_D)/card_S) * Gini(S_D) \n",
        "\n",
        "Gini_div(*diviser_bin(Y_njouer, X_njouer[:, 0], \"ensoleile\"))"
      ],
      "execution_count": 21,
      "outputs": [
        {
          "output_type": "execute_result",
          "data": {
            "text/plain": [
              "0.3936507936507937"
            ]
          },
          "metadata": {},
          "execution_count": 21
        }
      ]
    },
    {
      "cell_type": "code",
      "metadata": {
        "id": "t7JIHHh5Cpaf",
        "colab": {
          "base_uri": "https://localhost:8080/"
        },
        "outputId": "15bd5977-115d-4e53-cb37-9f241c8f96bd"
      },
      "source": [
        "# this function looks for the characteristic \n",
        "# and its value most suitable for dividing Y \n",
        "# it must return: \n",
        "# num: the feature index in X\n",
        "# val: the division value (the value can be string or numeric)\n",
        "# num_gini: the division gini \n",
        "def choisir_division_cart(X, Y): \n",
        "    num = -1\n",
        "    num_gini = 1.0\n",
        "    num_val = -1.0\n",
        "    # loop over features\n",
        "    for i in range(X.shape[1]):\n",
        "        # loop over the different values of each characteristic\n",
        "        vals = np.unique(X[:,i])\n",
        "        for val in vals:\n",
        "            # divide over the entire carcateristics and value\n",
        "            # get Gini \n",
        "            gini = Gini_div(*diviser_bin(Y, X[:, i], val))\n",
        "            # minimize gini\n",
        "            if gini < num_gini:\n",
        "                num, num_gini, num_val = i, gini, val\n",
        "    return num, num_gini, num_val\n",
        "\n",
        "# Résultat: (0, 0.35714285714285715, 'nuageux')\n",
        "choisir_division_cart(X_jouer, Y_jouer)"
      ],
      "execution_count": 22,
      "outputs": [
        {
          "output_type": "execute_result",
          "data": {
            "text/plain": [
              "(0, 0.35714285714285715, 'nuageux')"
            ]
          },
          "metadata": {},
          "execution_count": 22
        }
      ]
    },
    {
      "cell_type": "markdown",
      "metadata": {
        "id": "eBgocCI2Cpag"
      },
      "source": [
        "### III-6- Pruning of the trees (pruning) and creation of the tree\n",
        "\n",
        "CART uses the pruning that is referred to as the stopping condition.\n",
        "The most used criterion to stop the division is the minimal number of samples in a node.\n",
        "If this number is reached, the division is stopped and the node is considered as a leaf with the dominant class as output class in case of classification, or the average of the outputs in case of regression.\n"
      ]
    },
    {
      "cell_type": "code",
      "metadata": {
        "id": "k8YSLmf9Cpah",
        "colab": {
          "base_uri": "https://localhost:8080/"
        },
        "outputId": "0e7f1e7b-48ea-4029-d896-cd20062aea8c"
      },
      "source": [
        "# Like node, but it is necessary to change a little, since we test on \n",
        "# numerical values too\n",
        "# The code will be more usable if we create a common class and inherit\n",
        "# But I don't have time for all that (DEAL WITH IT)\n",
        "class NoeudBin(object): \n",
        "    \n",
        "    nbr = 0\n",
        "    \n",
        "    def __init__(self, num, val, gini, profondeur): \n",
        "        self.num = num # le numéro du caractéristique de dévision dans X\n",
        "        self.val = val\n",
        "        self.gini = gini # le Gini de division\n",
        "        self.pr = profondeur # la profondeur du noeud\n",
        "        self.fils = [] # les fils ; un tableau de deux noeuds: S_G, S_D\n",
        "        self.cls = \"\" # la classe si ce noeud est final (s'il n'y a pas de fils)\n",
        "        self.indent = \"    \" # indentation lorsqu'on génère le code\n",
        "        \n",
        "        try: # le cas d'un numérique\n",
        "            val2 = float(val)\n",
        "            self.est_num = True\n",
        "        except ValueError: # le cas d'un string\n",
        "            self.est_num = False\n",
        "    \n",
        "    # Cette fonction est pour transformer le noeud à une string\n",
        "    #Ici, nous avons redéfini cette fonction afin qu'elle écrive l'arbre \n",
        "    #sous form d'un algorithme ; c'est un parser \n",
        "    def __str__(self):\n",
        "        \n",
        "        indent = self.indent * self.pr # indentation : esthetique\n",
        "        \n",
        "        # s'il n'y a pas de fils, le noeud est terminal ; on imprime la classe\n",
        "        if (len(self.fils)==0):\n",
        "            return indent + 'Y est \"' + self.cls + '\"\\n'\n",
        "        \n",
        "        if (self.est_num): \n",
        "            prefix = ' > '\n",
        "            suffix = ''\n",
        "        else:\n",
        "            prefix = ' est \"'\n",
        "            suffix = '\"'\n",
        "        \n",
        "        # s'il y a des fils, on boucle sur les fils et on imprime des SI ... ALORS SINON\n",
        "        res = \"\"\n",
        "        res += indent + 'Si X[' + str(self.num) + '] ' + prefix + str(self.val) + suffix + ' Alors\\n' + str(self.fils[0])\n",
        "        res += indent + 'Sinon\\n' + str(self.fils[1])\n",
        "        return res\n",
        "    \n",
        "    # predire un échantillon\n",
        "    def predire(self, x): \n",
        "        \n",
        "        # Si le noeud est final, il rend sa classe \n",
        "        if (len(self.fils)==0):\n",
        "            return self.cls\n",
        "        \n",
        "        # sinon\n",
        "        if self.est_num: # le cas d'un numérique\n",
        "            if x[self.num] > self.val:\n",
        "                return self.fils[0].predire(x)\n",
        "            return self.fils[1].predire(x)\n",
        "        \n",
        "        # le cas d'un string\n",
        "        if x[self.num] == val:\n",
        "            return self.fils[0].predire(x)\n",
        "        return self.fils[1].predire(x)\n",
        "\n",
        "    \n",
        "    # générer un code pour graphviz\n",
        "    def graphviz(self): \n",
        "        \n",
        "        nid = 'N' + str(NoeudBin.nbr)\n",
        "        NoeudBin.nbr += 1\n",
        "        \n",
        "        # Si le noeud est final, \n",
        "        if (len(self.fils)==0):\n",
        "            return nid, nid + '[label=\"' + self.cls + '\" shape=ellipse];\\n'\n",
        "        \n",
        "        # Sinon, \n",
        "        # s'il y a des fils, on boucle sur les fils et on imprime des SI ... ALORS\n",
        "        if self.est_num: \n",
        "            prefix = '] > '\n",
        "        else:\n",
        "            prefix = '] = '\n",
        "        res = nid + '[label=\"X[' + str(self.num) + prefix + str(self.val) + '\\\\n'\n",
        "        res += 'Gini = ' + str(self.gini) + '\"];\\n'\n",
        "        vid_G, code_G = self.fils[0].graphviz()\n",
        "        vid_D, code_D = self.fils[1].graphviz()\n",
        "        \n",
        "        res += code_G + code_D\n",
        "        res += nid + ' -> ' + vid_G + ' [label=\"Vrai\"];\\n'\n",
        "        res += nid + ' -> ' + vid_D + ' [label=\"Faux\"];\\n'\n",
        "        return nid, res\n",
        "\n",
        "# créer l'arbre de décision à partir d'un ensemble X et Y\n",
        "def entrainer_cart(X, Y, profondeur=0, nbr_max=3): \n",
        "    \n",
        "    # Chercher le meilleur caractéristique de X pour diviser Y\n",
        "    num, num_gini, num_val = choisir_division_cart(X, Y)\n",
        "    # Créer un noeud\n",
        "    noeud = NoeudBin(num, num_val, num_gini, profondeur)\n",
        "    # Si l'entropie est 0 donc le noeud est terminal, élagage\n",
        "    if (num_gini == 0.0) or (len(Y) <= nbr_max):\n",
        "        noeud.cls = max(set(Y)) # la classe du noeud (la valeur la plus fréquente)\n",
        "        return noeud # retourner le noeud \n",
        "    \n",
        "     \n",
        "    \n",
        "    # Sinon, si le noeud n'est pas terminal, on crée ces fils\n",
        "    profondeur += 1 # la profondeur de ces fils\n",
        "    # création des deux fils\n",
        "    try: # le cas d'un numérique\n",
        "        val2 = float(num_val)\n",
        "        msk = X[:, num] > val2\n",
        "    except ValueError: # le cas d'un string\n",
        "        msk = X[:, num] == num_val\n",
        "    X_G = X[msk]\n",
        "    Y_G = Y[msk]\n",
        "    fils_G = entrainer_cart(X_G, Y_G, profondeur, nbr_max)\n",
        "    X_D = X[~msk]\n",
        "    Y_D = Y[~msk]\n",
        "    fils_D = entrainer_cart(X_D, Y_D, profondeur, nbr_max)\n",
        "    noeud.fils.append(fils_G)\n",
        "    noeud.fils.append(fils_D)\n",
        "    \n",
        "    return noeud\n",
        "\n",
        "arbre_njouer = entrainer_cart(X_njouer, Y_njouer)\n",
        "\n",
        "print(\"Le Code\")\n",
        "print(arbre_njouer)\n",
        "\n",
        "#arbre_jouer.predire([\"pluvieux\", \"temperature_makanche\", \"humidite_makanche\", \"non\"])"
      ],
      "execution_count": 23,
      "outputs": [
        {
          "output_type": "stream",
          "name": "stdout",
          "text": [
            "Le Code\n",
            "Si X[0]  est \"nuageux\" Alors\n",
            "    Y est \"oui\"\n",
            "Sinon\n",
            "    Si X[1]  > 24 Alors\n",
            "        Y est \"non\"\n",
            "    Sinon\n",
            "        Si X[1]  > 18 Alors\n",
            "            Si X[1]  > 21 Alors\n",
            "                Y est \"oui\"\n",
            "            Sinon\n",
            "                Y est \"oui\"\n",
            "        Sinon\n",
            "            Y est \"non\"\n",
            "\n"
          ]
        }
      ]
    },
    {
      "cell_type": "markdown",
      "metadata": {
        "id": "Tn2P-1ClCpai"
      },
      "source": [
        "### III-7- Grouping functions together\n"
      ]
    },
    {
      "cell_type": "code",
      "metadata": {
        "id": "DvrO9Ln4Cpaj",
        "colab": {
          "base_uri": "https://localhost:8080/"
        },
        "outputId": "8d4b3e2f-605f-47c2-e404-c50060a2e4b2"
      },
      "source": [
        "class CART(object): \n",
        "    \n",
        "    def entrainer(self, X, Y, X_noms=[], Y_nom=\"\", nbr_max=3):\n",
        "        self.arbre = entrainer_cart(X, Y, 0, nbr_max)\n",
        "        code = str(self.arbre)\n",
        "        if len(Y_nom) > 0: \n",
        "            code = code.replace(\"Y\", Y_nom)\n",
        "        for i in range(len(X_noms)): \n",
        "            code = code.replace(\"X[\" + str(i) + \"]\", X_noms[i])\n",
        "        self.code = code\n",
        "        self.X_noms = X_noms\n",
        "    \n",
        "    def predire(self, X): \n",
        "        predictions = []\n",
        "        for i in range(len(X)): \n",
        "            predictions.append(self.arbre.predire(X[i, :]))\n",
        "        return predictions\n",
        "    \n",
        "    def graphviz(self): \n",
        "        nid, code = self.arbre.graphviz()\n",
        "        res = \"digraph Tree {\\n\"\n",
        "        res += \"node [shape=box] ;\"\n",
        "        for i in range(len(self.X_noms)): \n",
        "            code = code.replace(\"X[\" + str(i) + \"]\", self.X_noms[i])\n",
        "        res += code\n",
        "        res += \"}\"\n",
        "        return res\n",
        "\n",
        "cart_classifieur = CART()\n",
        "cart_classifieur.entrainer(X_njouer, Y_njouer, X_noms=[\"temps\", \"temperature\", \"humidite\", \"vent\"], Y_nom=\"jouer\")\n",
        "print(cart_classifieur.code)"
      ],
      "execution_count": 24,
      "outputs": [
        {
          "output_type": "stream",
          "name": "stdout",
          "text": [
            "Si temps  est \"nuageux\" Alors\n",
            "    jouer est \"oui\"\n",
            "Sinon\n",
            "    Si temperature  > 24 Alors\n",
            "        jouer est \"non\"\n",
            "    Sinon\n",
            "        Si temperature  > 18 Alors\n",
            "            Si temperature  > 21 Alors\n",
            "                jouer est \"oui\"\n",
            "            Sinon\n",
            "                jouer est \"oui\"\n",
            "        Sinon\n",
            "            jouer est \"non\"\n",
            "\n"
          ]
        }
      ]
    },
    {
      "cell_type": "markdown",
      "metadata": {
        "id": "_SBjtIpxCpak"
      },
      "source": [
        "Because we have reached a depth of 3, which is the pruning precondition, without one of these two attributes being chosen (their Gini division was not the best among those of the other attributes)"
      ]
    },
    {
      "cell_type": "code",
      "metadata": {
        "id": "XtcRIbcICpak",
        "colab": {
          "base_uri": "https://localhost:8080/",
          "height": 555
        },
        "outputId": "6549d194-49ba-4f8b-b6ad-1b1a0e6d2d02"
      },
      "source": [
        "try:\n",
        "    from IPython.display import SVG\n",
        "    from graphviz import Source\n",
        "    from IPython.display import display\n",
        "    \n",
        "    graph = Source(cart_classifieur.graphviz())\n",
        "    display(SVG(graph.pipe(format='svg')))\n",
        "\n",
        "except ImportError:\n",
        "    print(\"il faut installer graphviz\")"
      ],
      "execution_count": 25,
      "outputs": [
        {
          "output_type": "display_data",
          "data": {
            "text/plain": [
              "<IPython.core.display.SVG object>"
            ],
            "image/svg+xml": "<svg height=\"400pt\" viewBox=\"0.00 0.00 379.00 400.00\" width=\"379pt\" xmlns=\"http://www.w3.org/2000/svg\" xmlns:xlink=\"http://www.w3.org/1999/xlink\">\n<g class=\"graph\" id=\"graph0\" transform=\"scale(1 1) rotate(0) translate(4 396)\">\n<title>Tree</title>\n<polygon fill=\"#ffffff\" points=\"-4,4 -4,-396 375,-396 375,4 -4,4\" stroke=\"transparent\"/>\n<!-- N0 -->\n<g class=\"node\" id=\"node1\">\n<title>N0</title>\n<polygon fill=\"none\" points=\"197,-392 0,-392 0,-354 197,-354 197,-392\" stroke=\"#000000\"/>\n<text fill=\"#000000\" font-family=\"Times,serif\" font-size=\"14.00\" text-anchor=\"middle\" x=\"98.5\" y=\"-376.8\">temps = nuageux</text>\n<text fill=\"#000000\" font-family=\"Times,serif\" font-size=\"14.00\" text-anchor=\"middle\" x=\"98.5\" y=\"-361.8\">Gini = 0.35714285714285715</text>\n</g>\n<!-- N1 -->\n<g class=\"node\" id=\"node2\">\n<title>N1</title>\n<ellipse cx=\"74.5\" cy=\"-284\" fill=\"none\" rx=\"27\" ry=\"18\" stroke=\"#000000\"/>\n<text fill=\"#000000\" font-family=\"Times,serif\" font-size=\"14.00\" text-anchor=\"middle\" x=\"74.5\" y=\"-280.3\">oui</text>\n</g>\n<!-- N0&#45;&gt;N1 -->\n<g class=\"edge\" id=\"edge7\">\n<title>N0-&gt;N1</title>\n<path d=\"M93.2924,-353.6883C89.9746,-341.385 85.6239,-325.2513 81.9444,-311.6063\" fill=\"none\" stroke=\"#000000\"/>\n<polygon fill=\"#000000\" points=\"85.2726,-310.5054 79.2896,-301.7616 78.514,-312.328 85.2726,-310.5054\" stroke=\"#000000\"/>\n<text fill=\"#000000\" font-family=\"Times,serif\" font-size=\"14.00\" text-anchor=\"middle\" x=\"101\" y=\"-324.8\">Vrai</text>\n</g>\n<!-- N2 -->\n<g class=\"node\" id=\"node3\">\n<title>N2</title>\n<polygon fill=\"none\" points=\"233.5,-303 119.5,-303 119.5,-265 233.5,-265 233.5,-303\" stroke=\"#000000\"/>\n<text fill=\"#000000\" font-family=\"Times,serif\" font-size=\"14.00\" text-anchor=\"middle\" x=\"176.5\" y=\"-287.8\">temperature &gt; 24</text>\n<text fill=\"#000000\" font-family=\"Times,serif\" font-size=\"14.00\" text-anchor=\"middle\" x=\"176.5\" y=\"-272.8\">Gini = 0.375</text>\n</g>\n<!-- N0&#45;&gt;N2 -->\n<g class=\"edge\" id=\"edge8\">\n<title>N0-&gt;N2</title>\n<path d=\"M115.4248,-353.6883C126.3616,-341.2092 140.7518,-324.7896 152.8168,-311.0231\" fill=\"none\" stroke=\"#000000\"/>\n<polygon fill=\"#000000\" points=\"155.6493,-313.1014 159.6082,-303.274 150.3849,-308.4877 155.6493,-313.1014\" stroke=\"#000000\"/>\n<text fill=\"#000000\" font-family=\"Times,serif\" font-size=\"14.00\" text-anchor=\"middle\" x=\"157.5\" y=\"-324.8\">Faux</text>\n</g>\n<!-- N3 -->\n<g class=\"node\" id=\"node4\">\n<title>N3</title>\n<ellipse cx=\"128.5\" cy=\"-195\" fill=\"none\" rx=\"27\" ry=\"18\" stroke=\"#000000\"/>\n<text fill=\"#000000\" font-family=\"Times,serif\" font-size=\"14.00\" text-anchor=\"middle\" x=\"128.5\" y=\"-191.3\">non</text>\n</g>\n<!-- N2&#45;&gt;N3 -->\n<g class=\"edge\" id=\"edge5\">\n<title>N2-&gt;N3</title>\n<path d=\"M166.0847,-264.6883C159.2295,-251.9776 150.1694,-235.1787 142.6623,-221.2592\" fill=\"none\" stroke=\"#000000\"/>\n<polygon fill=\"#000000\" points=\"145.5868,-219.3084 137.7593,-212.1683 139.4257,-222.6313 145.5868,-219.3084\" stroke=\"#000000\"/>\n<text fill=\"#000000\" font-family=\"Times,serif\" font-size=\"14.00\" text-anchor=\"middle\" x=\"168\" y=\"-235.8\">Vrai</text>\n</g>\n<!-- N4 -->\n<g class=\"node\" id=\"node5\">\n<title>N4</title>\n<polygon fill=\"none\" points=\"371,-214 174,-214 174,-176 371,-176 371,-214\" stroke=\"#000000\"/>\n<text fill=\"#000000\" font-family=\"Times,serif\" font-size=\"14.00\" text-anchor=\"middle\" x=\"272.5\" y=\"-198.8\">temperature &gt; 18</text>\n<text fill=\"#000000\" font-family=\"Times,serif\" font-size=\"14.00\" text-anchor=\"middle\" x=\"272.5\" y=\"-183.8\">Gini = 0.35714285714285715</text>\n</g>\n<!-- N2&#45;&gt;N4 -->\n<g class=\"edge\" id=\"edge6\">\n<title>N2-&gt;N4</title>\n<path d=\"M197.3306,-264.6883C211.0428,-251.976 229.1658,-235.1744 244.1811,-221.254\" fill=\"none\" stroke=\"#000000\"/>\n<polygon fill=\"#000000\" points=\"246.7562,-223.6394 251.7101,-214.274 241.9971,-218.506 246.7562,-223.6394\" stroke=\"#000000\"/>\n<text fill=\"#000000\" font-family=\"Times,serif\" font-size=\"14.00\" text-anchor=\"middle\" x=\"245.5\" y=\"-235.8\">Faux</text>\n</g>\n<!-- N5 -->\n<g class=\"node\" id=\"node6\">\n<title>N5</title>\n<polygon fill=\"none\" points=\"274,-125 85,-125 85,-87 274,-87 274,-125\" stroke=\"#000000\"/>\n<text fill=\"#000000\" font-family=\"Times,serif\" font-size=\"14.00\" text-anchor=\"middle\" x=\"179.5\" y=\"-109.8\">temperature &gt; 21</text>\n<text fill=\"#000000\" font-family=\"Times,serif\" font-size=\"14.00\" text-anchor=\"middle\" x=\"179.5\" y=\"-94.8\">Gini = 0.2857142857142857</text>\n</g>\n<!-- N4&#45;&gt;N5 -->\n<g class=\"edge\" id=\"edge3\">\n<title>N4-&gt;N5</title>\n<path d=\"M252.3204,-175.6883C239.0367,-162.976 221.48,-146.1744 206.9339,-132.254\" fill=\"none\" stroke=\"#000000\"/>\n<polygon fill=\"#000000\" points=\"209.2849,-129.6593 199.6402,-125.274 204.4451,-134.7167 209.2849,-129.6593\" stroke=\"#000000\"/>\n<text fill=\"#000000\" font-family=\"Times,serif\" font-size=\"14.00\" text-anchor=\"middle\" x=\"245\" y=\"-146.8\">Vrai</text>\n</g>\n<!-- N8 -->\n<g class=\"node\" id=\"node9\">\n<title>N8</title>\n<ellipse cx=\"319.5\" cy=\"-106\" fill=\"none\" rx=\"27\" ry=\"18\" stroke=\"#000000\"/>\n<text fill=\"#000000\" font-family=\"Times,serif\" font-size=\"14.00\" text-anchor=\"middle\" x=\"319.5\" y=\"-102.3\">non</text>\n</g>\n<!-- N4&#45;&gt;N8 -->\n<g class=\"edge\" id=\"edge4\">\n<title>N4-&gt;N8</title>\n<path d=\"M282.6983,-175.6883C289.4107,-162.9776 298.2821,-146.1787 305.6328,-132.2592\" fill=\"none\" stroke=\"#000000\"/>\n<polygon fill=\"#000000\" points=\"308.8587,-133.6455 310.4336,-123.1683 302.6688,-130.3766 308.8587,-133.6455\" stroke=\"#000000\"/>\n<text fill=\"#000000\" font-family=\"Times,serif\" font-size=\"14.00\" text-anchor=\"middle\" x=\"314.5\" y=\"-146.8\">Faux</text>\n</g>\n<!-- N6 -->\n<g class=\"node\" id=\"node7\">\n<title>N6</title>\n<ellipse cx=\"143.5\" cy=\"-18\" fill=\"none\" rx=\"27\" ry=\"18\" stroke=\"#000000\"/>\n<text fill=\"#000000\" font-family=\"Times,serif\" font-size=\"14.00\" text-anchor=\"middle\" x=\"143.5\" y=\"-14.3\">oui</text>\n</g>\n<!-- N5&#45;&gt;N6 -->\n<g class=\"edge\" id=\"edge1\">\n<title>N5-&gt;N6</title>\n<path d=\"M171.6885,-86.9053C166.6631,-74.6209 160.0578,-58.4747 154.5045,-44.9\" fill=\"none\" stroke=\"#000000\"/>\n<polygon fill=\"#000000\" points=\"157.7103,-43.4922 150.6845,-35.562 151.2314,-46.1427 157.7103,-43.4922\" stroke=\"#000000\"/>\n<text fill=\"#000000\" font-family=\"Times,serif\" font-size=\"14.00\" text-anchor=\"middle\" x=\"177\" y=\"-57.8\">Vrai</text>\n</g>\n<!-- N7 -->\n<g class=\"node\" id=\"node8\">\n<title>N7</title>\n<ellipse cx=\"215.5\" cy=\"-18\" fill=\"none\" rx=\"27\" ry=\"18\" stroke=\"#000000\"/>\n<text fill=\"#000000\" font-family=\"Times,serif\" font-size=\"14.00\" text-anchor=\"middle\" x=\"215.5\" y=\"-14.3\">oui</text>\n</g>\n<!-- N5&#45;&gt;N7 -->\n<g class=\"edge\" id=\"edge2\">\n<title>N5-&gt;N7</title>\n<path d=\"M187.3115,-86.9053C192.3369,-74.6209 198.9422,-58.4747 204.4955,-44.9\" fill=\"none\" stroke=\"#000000\"/>\n<polygon fill=\"#000000\" points=\"207.7686,-46.1427 208.3155,-35.562 201.2897,-43.4922 207.7686,-46.1427\" stroke=\"#000000\"/>\n<text fill=\"#000000\" font-family=\"Times,serif\" font-size=\"14.00\" text-anchor=\"middle\" x=\"216.5\" y=\"-57.8\">Faux</text>\n</g>\n</g>\n</svg>"
          },
          "metadata": {}
        }
      ]
    },
    {
      "cell_type": "markdown",
      "metadata": {
        "id": "UVirVmOTCpak"
      },
      "source": [
        "## IV- Comparison and analysis\n",
        "\n",
        "### IV-1- Tree generation \n",
        "\n",
        "Here, we will compare ID3 and CART according to the tree generation. Reminder :\n",
        "- ID3\n",
        "    - uses the entropy \n",
        "    - the number of children is according to the number of values\n",
        "- CART \n",
        "    - uses the Gini index\n",
        "    - the number of threads is binary\n",
        "    \n",
        "Here, we will use the dataset \"Play\" with nominal values"
      ]
    },
    {
      "cell_type": "code",
      "metadata": {
        "id": "F-7kluI_Cpal",
        "colab": {
          "base_uri": "https://localhost:8080/"
        },
        "outputId": "1311fe2d-9dda-4278-ccb3-6cf171e349da"
      },
      "source": [
        "id3_nom_classifieur = ID3()\n",
        "id3_nom_classifieur.entrainer(X_jouer, Y_jouer, X_noms=[\"temps\", \"temperature\", \"humidite\", \"vent\"], Y_nom=\"jouer\")\n",
        "print(\"ID3 :\")\n",
        "print(id3_nom_classifieur.code)\n",
        "\n",
        "cart_nom_classifieur = CART()\n",
        "cart_nom_classifieur.entrainer(X_jouer, Y_jouer, X_noms=[\"temps\", \"temperature\", \"humidite\", \"vent\"], Y_nom=\"jouer\")\n",
        "print(\"CART :\")\n",
        "print(cart_nom_classifieur.code)"
      ],
      "execution_count": 26,
      "outputs": [
        {
          "output_type": "stream",
          "name": "stdout",
          "text": [
            "ID3 :\n",
            "Si temps est \"ensoleile\" Alors\n",
            " Si humidite est \"haute\" Alors\n",
            "  jouer est \"non\"\n",
            " Si humidite est \"normale\" Alors\n",
            "  jouer est \"oui\"\n",
            "Si temps est \"nuageux\" Alors\n",
            " jouer est \"oui\"\n",
            "Si temps est \"pluvieux\" Alors\n",
            " Si vent est \"non\" Alors\n",
            "  jouer est \"oui\"\n",
            " Si vent est \"oui\" Alors\n",
            "  jouer est \"non\"\n",
            "\n",
            "CART :\n",
            "Si temps  est \"nuageux\" Alors\n",
            "    jouer est \"oui\"\n",
            "Sinon\n",
            "    Si humidite  est \"haute\" Alors\n",
            "        Si temps  est \"ensoleile\" Alors\n",
            "            jouer est \"non\"\n",
            "        Sinon\n",
            "            jouer est \"oui\"\n",
            "    Sinon\n",
            "        Si vent  est \"non\" Alors\n",
            "            jouer est \"oui\"\n",
            "        Sinon\n",
            "            jouer est \"oui\"\n",
            "\n"
          ]
        }
      ]
    },
    {
      "cell_type": "markdown",
      "metadata": {
        "id": "5FdIt6XzCpam"
      },
      "source": [
        "**<font color=red>Analysis</font>**: \n",
        "\n",
        "- For the generation of the tree, the choice of the node in ID3 is based on the calculation of the gain, and in CART it is based on the Gin divisor of the division, the attribute time being chosen as the root by both methods. The tree generated by the CART method is binary and gives rise to at least one leaf in each level, because the left subset is homogeneous, so we can make a decision. On the other hand, the tree generated by the ID3 method is a tree where each node has as many children as the values of the attribute assigned to it.\n",
        "\n",
        "- For the CART method we set the depth to 3, that's why we had 3 levels, unlike the ID3 method where we didn't set the depth, but it's the stopping criterion that will make us stop when it's satisfied, (The stopping criterion is \"the current node is pure\", or, \"Have a number of observations that is small\". The tree generated by ID3 is faster.\n",
        "\n",
        "- The two methods used the same characteristics but in different levels, and it comes back to the selection methods, we can say that the one used by CART noramlise the values, which gives a better presentation.\n",
        "\n",
        "- The CART method can easily get rid of outliers."
      ]
    },
    {
      "cell_type": "code",
      "metadata": {
        "id": "Lx99pVm8Cpam",
        "colab": {
          "base_uri": "https://localhost:8080/",
          "height": 776
        },
        "outputId": "6b44ab5a-cfa6-4200-c9e9-f636738f8830"
      },
      "source": [
        "try:\n",
        "    from IPython.display import SVG\n",
        "    from graphviz import Source\n",
        "    from IPython.display import display\n",
        "    \n",
        "    graph1 = Source(id3_nom_classifieur.graphviz())\n",
        "    graph2 = Source(cart_nom_classifieur.graphviz())\n",
        "    display(SVG(graph1.pipe(format='svg')), SVG(graph2.pipe(format='svg')))\n",
        "\n",
        "except ImportError:\n",
        "    print(\"il faut installer graphviz\")"
      ],
      "execution_count": 27,
      "outputs": [
        {
          "output_type": "display_data",
          "data": {
            "text/plain": [
              "<IPython.core.display.SVG object>"
            ],
            "image/svg+xml": "<svg height=\"252pt\" viewBox=\"0.00 0.00 457.00 252.00\" width=\"457pt\" xmlns=\"http://www.w3.org/2000/svg\" xmlns:xlink=\"http://www.w3.org/1999/xlink\">\n<g class=\"graph\" id=\"graph0\" transform=\"scale(1 1) rotate(0) translate(4 248)\">\n<title>Tree</title>\n<polygon fill=\"#ffffff\" points=\"-4,4 -4,-248 453,-248 453,4 -4,4\" stroke=\"transparent\"/>\n<!-- N8 -->\n<g class=\"node\" id=\"node1\">\n<title>N8</title>\n<polygon fill=\"none\" points=\"314,-244 135,-244 135,-191 314,-191 314,-244\" stroke=\"#000000\"/>\n<text fill=\"#000000\" font-family=\"Times,serif\" font-size=\"14.00\" text-anchor=\"middle\" x=\"224.5\" y=\"-228.8\">temps</text>\n<text fill=\"#000000\" font-family=\"Times,serif\" font-size=\"14.00\" text-anchor=\"middle\" x=\"224.5\" y=\"-213.8\">H = 0.9402859586706309</text>\n<text fill=\"#000000\" font-family=\"Times,serif\" font-size=\"14.00\" text-anchor=\"middle\" x=\"224.5\" y=\"-198.8\">IG = 0.2467498197744391</text>\n</g>\n<!-- N9 -->\n<g class=\"node\" id=\"node2\">\n<title>N9</title>\n<polygon fill=\"none\" points=\"179,-140 0,-140 0,-87 179,-87 179,-140\" stroke=\"#000000\"/>\n<text fill=\"#000000\" font-family=\"Times,serif\" font-size=\"14.00\" text-anchor=\"middle\" x=\"89.5\" y=\"-124.8\">humidite</text>\n<text fill=\"#000000\" font-family=\"Times,serif\" font-size=\"14.00\" text-anchor=\"middle\" x=\"89.5\" y=\"-109.8\">H = 0.9709505944546686</text>\n<text fill=\"#000000\" font-family=\"Times,serif\" font-size=\"14.00\" text-anchor=\"middle\" x=\"89.5\" y=\"-94.8\">IG = 0.9709505944546686</text>\n</g>\n<!-- N8&#45;&gt;N9 -->\n<g class=\"edge\" id=\"edge3\">\n<title>N8-&gt;N9</title>\n<path d=\"M190.0845,-190.9873C172.5278,-177.4621 151.0038,-160.8807 132.3782,-146.5321\" fill=\"none\" stroke=\"#000000\"/>\n<polygon fill=\"#000000\" points=\"134.3799,-143.656 124.3221,-140.3259 130.108,-149.2014 134.3799,-143.656\" stroke=\"#000000\"/>\n<text fill=\"#000000\" font-family=\"Times,serif\" font-size=\"14.00\" text-anchor=\"middle\" x=\"190.5\" y=\"-161.8\">ensoleile</text>\n</g>\n<!-- N12 -->\n<g class=\"node\" id=\"node5\">\n<title>N12</title>\n<ellipse cx=\"224.5\" cy=\"-113.5\" fill=\"none\" rx=\"27\" ry=\"18\" stroke=\"#000000\"/>\n<text fill=\"#000000\" font-family=\"Times,serif\" font-size=\"14.00\" text-anchor=\"middle\" x=\"224.5\" y=\"-109.8\">oui</text>\n</g>\n<!-- N8&#45;&gt;N12 -->\n<g class=\"edge\" id=\"edge4\">\n<title>N8-&gt;N12</title>\n<path d=\"M224.5,-190.9873C224.5,-176.0719 224.5,-157.4395 224.5,-142.1839\" fill=\"none\" stroke=\"#000000\"/>\n<polygon fill=\"#000000\" points=\"228.0001,-141.7735 224.5,-131.7735 221.0001,-141.7736 228.0001,-141.7735\" stroke=\"#000000\"/>\n<text fill=\"#000000\" font-family=\"Times,serif\" font-size=\"14.00\" text-anchor=\"middle\" x=\"249.5\" y=\"-161.8\">nuageux</text>\n</g>\n<!-- N13 -->\n<g class=\"node\" id=\"node6\">\n<title>N13</title>\n<polygon fill=\"none\" points=\"449,-140 270,-140 270,-87 449,-87 449,-140\" stroke=\"#000000\"/>\n<text fill=\"#000000\" font-family=\"Times,serif\" font-size=\"14.00\" text-anchor=\"middle\" x=\"359.5\" y=\"-124.8\">vent</text>\n<text fill=\"#000000\" font-family=\"Times,serif\" font-size=\"14.00\" text-anchor=\"middle\" x=\"359.5\" y=\"-109.8\">H = 0.9709505944546686</text>\n<text fill=\"#000000\" font-family=\"Times,serif\" font-size=\"14.00\" text-anchor=\"middle\" x=\"359.5\" y=\"-94.8\">IG = 0.9709505944546686</text>\n</g>\n<!-- N8&#45;&gt;N13 -->\n<g class=\"edge\" id=\"edge7\">\n<title>N8-&gt;N13</title>\n<path d=\"M258.9155,-190.9873C276.4722,-177.4621 297.9962,-160.8807 316.6218,-146.5321\" fill=\"none\" stroke=\"#000000\"/>\n<polygon fill=\"#000000\" points=\"318.892,-149.2014 324.6779,-140.3259 314.6201,-143.656 318.892,-149.2014\" stroke=\"#000000\"/>\n<text fill=\"#000000\" font-family=\"Times,serif\" font-size=\"14.00\" text-anchor=\"middle\" x=\"326.5\" y=\"-161.8\">pluvieux</text>\n</g>\n<!-- N10 -->\n<g class=\"node\" id=\"node3\">\n<title>N10</title>\n<ellipse cx=\"53.5\" cy=\"-18\" fill=\"none\" rx=\"27\" ry=\"18\" stroke=\"#000000\"/>\n<text fill=\"#000000\" font-family=\"Times,serif\" font-size=\"14.00\" text-anchor=\"middle\" x=\"53.5\" y=\"-14.3\">non</text>\n</g>\n<!-- N9&#45;&gt;N10 -->\n<g class=\"edge\" id=\"edge1\">\n<title>N9-&gt;N10</title>\n<path d=\"M79.2159,-86.6876C76.9922,-80.86 74.6603,-74.726 72.5,-69 69.5451,-61.1679 66.3599,-52.6488 63.4577,-44.8561\" fill=\"none\" stroke=\"#000000\"/>\n<polygon fill=\"#000000\" points=\"66.7373,-43.6335 59.9715,-35.4803 60.1762,-46.0732 66.7373,-43.6335\" stroke=\"#000000\"/>\n<text fill=\"#000000\" font-family=\"Times,serif\" font-size=\"14.00\" text-anchor=\"middle\" x=\"88\" y=\"-57.8\">haute</text>\n</g>\n<!-- N11 -->\n<g class=\"node\" id=\"node4\">\n<title>N11</title>\n<ellipse cx=\"125.5\" cy=\"-18\" fill=\"none\" rx=\"27\" ry=\"18\" stroke=\"#000000\"/>\n<text fill=\"#000000\" font-family=\"Times,serif\" font-size=\"14.00\" text-anchor=\"middle\" x=\"125.5\" y=\"-14.3\">oui</text>\n</g>\n<!-- N9&#45;&gt;N11 -->\n<g class=\"edge\" id=\"edge2\">\n<title>N9-&gt;N11</title>\n<path d=\"M99.528,-86.8979C104.4354,-73.8798 110.3334,-58.2336 115.2678,-45.1438\" fill=\"none\" stroke=\"#000000\"/>\n<polygon fill=\"#000000\" points=\"118.5686,-46.3099 118.8209,-35.7181 112.0185,-43.8407 118.5686,-46.3099\" stroke=\"#000000\"/>\n<text fill=\"#000000\" font-family=\"Times,serif\" font-size=\"14.00\" text-anchor=\"middle\" x=\"136\" y=\"-57.8\">normale</text>\n</g>\n<!-- N14 -->\n<g class=\"node\" id=\"node7\">\n<title>N14</title>\n<ellipse cx=\"323.5\" cy=\"-18\" fill=\"none\" rx=\"27\" ry=\"18\" stroke=\"#000000\"/>\n<text fill=\"#000000\" font-family=\"Times,serif\" font-size=\"14.00\" text-anchor=\"middle\" x=\"323.5\" y=\"-14.3\">oui</text>\n</g>\n<!-- N13&#45;&gt;N14 -->\n<g class=\"edge\" id=\"edge5\">\n<title>N13-&gt;N14</title>\n<path d=\"M349.472,-86.8979C344.5646,-73.8798 338.6666,-58.2336 333.7322,-45.1438\" fill=\"none\" stroke=\"#000000\"/>\n<polygon fill=\"#000000\" points=\"336.9815,-43.8407 330.1791,-35.7181 330.4314,-46.3099 336.9815,-43.8407\" stroke=\"#000000\"/>\n<text fill=\"#000000\" font-family=\"Times,serif\" font-size=\"14.00\" text-anchor=\"middle\" x=\"355\" y=\"-57.8\">non</text>\n</g>\n<!-- N15 -->\n<g class=\"node\" id=\"node8\">\n<title>N15</title>\n<ellipse cx=\"395.5\" cy=\"-18\" fill=\"none\" rx=\"27\" ry=\"18\" stroke=\"#000000\"/>\n<text fill=\"#000000\" font-family=\"Times,serif\" font-size=\"14.00\" text-anchor=\"middle\" x=\"395.5\" y=\"-14.3\">non</text>\n</g>\n<!-- N13&#45;&gt;N15 -->\n<g class=\"edge\" id=\"edge6\">\n<title>N13-&gt;N15</title>\n<path d=\"M369.528,-86.8979C374.4354,-73.8798 380.3334,-58.2336 385.2678,-45.1438\" fill=\"none\" stroke=\"#000000\"/>\n<polygon fill=\"#000000\" points=\"388.5686,-46.3099 388.8209,-35.7181 382.0185,-43.8407 388.5686,-46.3099\" stroke=\"#000000\"/>\n<text fill=\"#000000\" font-family=\"Times,serif\" font-size=\"14.00\" text-anchor=\"middle\" x=\"391\" y=\"-57.8\">oui</text>\n</g>\n</g>\n</svg>"
          },
          "metadata": {}
        },
        {
          "output_type": "display_data",
          "data": {
            "text/plain": [
              "<IPython.core.display.SVG object>"
            ],
            "image/svg+xml": "<svg height=\"311pt\" viewBox=\"0.00 0.00 353.50 311.00\" width=\"354pt\" xmlns=\"http://www.w3.org/2000/svg\" xmlns:xlink=\"http://www.w3.org/1999/xlink\">\n<g class=\"graph\" id=\"graph0\" transform=\"scale(1 1) rotate(0) translate(4 307)\">\n<title>Tree</title>\n<polygon fill=\"#ffffff\" points=\"-4,4 -4,-307 349.5,-307 349.5,4 -4,4\" stroke=\"transparent\"/>\n<!-- N9 -->\n<g class=\"node\" id=\"node1\">\n<title>N9</title>\n<polygon fill=\"none\" points=\"197,-303 0,-303 0,-265 197,-265 197,-303\" stroke=\"#000000\"/>\n<text fill=\"#000000\" font-family=\"Times,serif\" font-size=\"14.00\" text-anchor=\"middle\" x=\"98.5\" y=\"-287.8\">temps = nuageux</text>\n<text fill=\"#000000\" font-family=\"Times,serif\" font-size=\"14.00\" text-anchor=\"middle\" x=\"98.5\" y=\"-272.8\">Gini = 0.35714285714285715</text>\n</g>\n<!-- N10 -->\n<g class=\"node\" id=\"node2\">\n<title>N10</title>\n<ellipse cx=\"74.5\" cy=\"-195\" fill=\"none\" rx=\"27\" ry=\"18\" stroke=\"#000000\"/>\n<text fill=\"#000000\" font-family=\"Times,serif\" font-size=\"14.00\" text-anchor=\"middle\" x=\"74.5\" y=\"-191.3\">oui</text>\n</g>\n<!-- N9&#45;&gt;N10 -->\n<g class=\"edge\" id=\"edge7\">\n<title>N9-&gt;N10</title>\n<path d=\"M93.2924,-264.6883C89.9746,-252.385 85.6239,-236.2513 81.9444,-222.6063\" fill=\"none\" stroke=\"#000000\"/>\n<polygon fill=\"#000000\" points=\"85.2726,-221.5054 79.2896,-212.7616 78.514,-223.328 85.2726,-221.5054\" stroke=\"#000000\"/>\n<text fill=\"#000000\" font-family=\"Times,serif\" font-size=\"14.00\" text-anchor=\"middle\" x=\"101\" y=\"-235.8\">Vrai</text>\n</g>\n<!-- N11 -->\n<g class=\"node\" id=\"node3\">\n<title>N11</title>\n<polygon fill=\"none\" points=\"317,-214 120,-214 120,-176 317,-176 317,-214\" stroke=\"#000000\"/>\n<text fill=\"#000000\" font-family=\"Times,serif\" font-size=\"14.00\" text-anchor=\"middle\" x=\"218.5\" y=\"-198.8\">humidite = haute</text>\n<text fill=\"#000000\" font-family=\"Times,serif\" font-size=\"14.00\" text-anchor=\"middle\" x=\"218.5\" y=\"-183.8\">Gini = 0.31999999999999984</text>\n</g>\n<!-- N9&#45;&gt;N11 -->\n<g class=\"edge\" id=\"edge8\">\n<title>N9-&gt;N11</title>\n<path d=\"M124.243,-264.9073C141.88,-251.8265 165.4559,-234.341 184.6168,-220.1301\" fill=\"none\" stroke=\"#000000\"/>\n<polygon fill=\"#000000\" points=\"186.8525,-222.8295 192.7996,-214.0612 182.6825,-217.2071 186.8525,-222.8295\" stroke=\"#000000\"/>\n<text fill=\"#000000\" font-family=\"Times,serif\" font-size=\"14.00\" text-anchor=\"middle\" x=\"181.5\" y=\"-235.8\">Faux</text>\n</g>\n<!-- N12 -->\n<g class=\"node\" id=\"node4\">\n<title>N12</title>\n<polygon fill=\"none\" points=\"210.5,-125 94.5,-125 94.5,-87 210.5,-87 210.5,-125\" stroke=\"#000000\"/>\n<text fill=\"#000000\" font-family=\"Times,serif\" font-size=\"14.00\" text-anchor=\"middle\" x=\"152.5\" y=\"-109.8\">temps = ensoleile</text>\n<text fill=\"#000000\" font-family=\"Times,serif\" font-size=\"14.00\" text-anchor=\"middle\" x=\"152.5\" y=\"-94.8\">Gini = 0.2</text>\n</g>\n<!-- N11&#45;&gt;N12 -->\n<g class=\"edge\" id=\"edge5\">\n<title>N11-&gt;N12</title>\n<path d=\"M204.179,-175.6883C195.0113,-163.3258 182.9758,-147.0962 172.8263,-133.4098\" fill=\"none\" stroke=\"#000000\"/>\n<polygon fill=\"#000000\" points=\"175.561,-131.2216 166.7931,-125.274 169.9384,-135.3912 175.561,-131.2216\" stroke=\"#000000\"/>\n<text fill=\"#000000\" font-family=\"Times,serif\" font-size=\"14.00\" text-anchor=\"middle\" x=\"202\" y=\"-146.8\">Vrai</text>\n</g>\n<!-- N15 -->\n<g class=\"node\" id=\"node7\">\n<title>N15</title>\n<polygon fill=\"none\" points=\"308.5,-125 228.5,-125 228.5,-87 308.5,-87 308.5,-125\" stroke=\"#000000\"/>\n<text fill=\"#000000\" font-family=\"Times,serif\" font-size=\"14.00\" text-anchor=\"middle\" x=\"268.5\" y=\"-109.8\">vent = non</text>\n<text fill=\"#000000\" font-family=\"Times,serif\" font-size=\"14.00\" text-anchor=\"middle\" x=\"268.5\" y=\"-94.8\">Gini = 0.2</text>\n</g>\n<!-- N11&#45;&gt;N15 -->\n<g class=\"edge\" id=\"edge6\">\n<title>N11-&gt;N15</title>\n<path d=\"M229.3493,-175.6883C236.1634,-163.5591 245.069,-147.7072 252.6645,-134.1871\" fill=\"none\" stroke=\"#000000\"/>\n<polygon fill=\"#000000\" points=\"255.8253,-135.7067 257.6719,-125.274 249.7225,-132.2781 255.8253,-135.7067\" stroke=\"#000000\"/>\n<text fill=\"#000000\" font-family=\"Times,serif\" font-size=\"14.00\" text-anchor=\"middle\" x=\"261.5\" y=\"-146.8\">Faux</text>\n</g>\n<!-- N13 -->\n<g class=\"node\" id=\"node5\">\n<title>N13</title>\n<ellipse cx=\"91.5\" cy=\"-18\" fill=\"none\" rx=\"27\" ry=\"18\" stroke=\"#000000\"/>\n<text fill=\"#000000\" font-family=\"Times,serif\" font-size=\"14.00\" text-anchor=\"middle\" x=\"91.5\" y=\"-14.3\">non</text>\n</g>\n<!-- N12&#45;&gt;N13 -->\n<g class=\"edge\" id=\"edge1\">\n<title>N12-&gt;N13</title>\n<path d=\"M139.2639,-86.9053C130.2684,-73.9282 118.2856,-56.6415 108.5726,-42.6293\" fill=\"none\" stroke=\"#000000\"/>\n<polygon fill=\"#000000\" points=\"111.4387,-40.6204 102.8652,-34.3958 105.6857,-44.6083 111.4387,-40.6204\" stroke=\"#000000\"/>\n<text fill=\"#000000\" font-family=\"Times,serif\" font-size=\"14.00\" text-anchor=\"middle\" x=\"139\" y=\"-57.8\">Vrai</text>\n</g>\n<!-- N14 -->\n<g class=\"node\" id=\"node6\">\n<title>N14</title>\n<ellipse cx=\"163.5\" cy=\"-18\" fill=\"none\" rx=\"27\" ry=\"18\" stroke=\"#000000\"/>\n<text fill=\"#000000\" font-family=\"Times,serif\" font-size=\"14.00\" text-anchor=\"middle\" x=\"163.5\" y=\"-14.3\">oui</text>\n</g>\n<!-- N12&#45;&gt;N14 -->\n<g class=\"edge\" id=\"edge2\">\n<title>N12-&gt;N14</title>\n<path d=\"M154.8868,-86.9053C156.3726,-75.019 158.3104,-59.517 159.9716,-46.2275\" fill=\"none\" stroke=\"#000000\"/>\n<polygon fill=\"#000000\" points=\"163.4631,-46.5122 161.2306,-36.1553 156.5172,-45.6439 163.4631,-46.5122\" stroke=\"#000000\"/>\n<text fill=\"#000000\" font-family=\"Times,serif\" font-size=\"14.00\" text-anchor=\"middle\" x=\"174.5\" y=\"-57.8\">Faux</text>\n</g>\n<!-- N16 -->\n<g class=\"node\" id=\"node8\">\n<title>N16</title>\n<ellipse cx=\"246.5\" cy=\"-18\" fill=\"none\" rx=\"27\" ry=\"18\" stroke=\"#000000\"/>\n<text fill=\"#000000\" font-family=\"Times,serif\" font-size=\"14.00\" text-anchor=\"middle\" x=\"246.5\" y=\"-14.3\">oui</text>\n</g>\n<!-- N15&#45;&gt;N16 -->\n<g class=\"edge\" id=\"edge3\">\n<title>N15-&gt;N16</title>\n<path d=\"M263.7263,-86.9053C260.7052,-74.8207 256.7497,-58.9989 253.3911,-45.5644\" fill=\"none\" stroke=\"#000000\"/>\n<polygon fill=\"#000000\" points=\"256.7854,-44.7103 250.9645,-35.8578 249.9944,-46.4081 256.7854,-44.7103\" stroke=\"#000000\"/>\n<text fill=\"#000000\" font-family=\"Times,serif\" font-size=\"14.00\" text-anchor=\"middle\" x=\"272\" y=\"-57.8\">Vrai</text>\n</g>\n<!-- N17 -->\n<g class=\"node\" id=\"node9\">\n<title>N17</title>\n<ellipse cx=\"318.5\" cy=\"-18\" fill=\"none\" rx=\"27\" ry=\"18\" stroke=\"#000000\"/>\n<text fill=\"#000000\" font-family=\"Times,serif\" font-size=\"14.00\" text-anchor=\"middle\" x=\"318.5\" y=\"-14.3\">oui</text>\n</g>\n<!-- N15&#45;&gt;N17 -->\n<g class=\"edge\" id=\"edge4\">\n<title>N15-&gt;N17</title>\n<path d=\"M279.3493,-86.9053C286.4901,-74.3374 295.9277,-57.7272 303.7476,-43.9642\" fill=\"none\" stroke=\"#000000\"/>\n<polygon fill=\"#000000\" points=\"306.9578,-45.3991 308.8549,-34.9754 300.8716,-41.941 306.9578,-45.3991\" stroke=\"#000000\"/>\n<text fill=\"#000000\" font-family=\"Times,serif\" font-size=\"14.00\" text-anchor=\"middle\" x=\"312.5\" y=\"-57.8\">Faux</text>\n</g>\n</g>\n</svg>"
          },
          "metadata": {}
        }
      ]
    },
    {
      "cell_type": "markdown",
      "metadata": {
        "id": "clXom5y1Cpan"
      },
      "source": [
        "### IV-1- Types of attributes\n",
        "\n",
        "Here, we will compare two CART classifiers applied on :\n",
        "- nominal (categorical) data; already trained\n",
        "- miscellaneous data (numerical and nominal)"
      ]
    },
    {
      "cell_type": "code",
      "metadata": {
        "id": "On9gMNWmCpao",
        "colab": {
          "base_uri": "https://localhost:8080/"
        },
        "outputId": "3b88e32d-3561-489b-fe90-db71464d6844"
      },
      "source": [
        "print(\"CART with nominal characteristics:\")\n",
        "print(\"============================================\")\n",
        "print(cart_nom_classifieur.code)\n",
        "\n",
        "print(\"\")\n",
        "\n",
        "cart_num_classifieur = CART()\n",
        "cart_num_classifieur.entrainer(X_njouer, Y_njouer, X_noms=[\"temps\", \"temperature\", \"humidite\", \"vent\"], Y_nom=\"jouer\")\n",
        "\n",
        "print(\"CART with some numerical characteristics:\")\n",
        "print(\"================================================\")\n",
        "print(cart_num_classifieur.code)"
      ],
      "execution_count": 28,
      "outputs": [
        {
          "output_type": "stream",
          "name": "stdout",
          "text": [
            "CART with nominal characteristics:\n",
            "============================================\n",
            "Si temps  est \"nuageux\" Alors\n",
            "    jouer est \"oui\"\n",
            "Sinon\n",
            "    Si humidite  est \"haute\" Alors\n",
            "        Si temps  est \"ensoleile\" Alors\n",
            "            jouer est \"non\"\n",
            "        Sinon\n",
            "            jouer est \"oui\"\n",
            "    Sinon\n",
            "        Si vent  est \"non\" Alors\n",
            "            jouer est \"oui\"\n",
            "        Sinon\n",
            "            jouer est \"oui\"\n",
            "\n",
            "\n",
            "CART with some numerical characteristics:\n",
            "================================================\n",
            "Si temps  est \"nuageux\" Alors\n",
            "    jouer est \"oui\"\n",
            "Sinon\n",
            "    Si temperature  > 24 Alors\n",
            "        jouer est \"non\"\n",
            "    Sinon\n",
            "        Si temperature  > 18 Alors\n",
            "            Si temperature  > 21 Alors\n",
            "                jouer est \"oui\"\n",
            "            Sinon\n",
            "                jouer est \"oui\"\n",
            "        Sinon\n",
            "            jouer est \"non\"\n",
            "\n"
          ]
        }
      ]
    },
    {
      "cell_type": "markdown",
      "metadata": {
        "id": "TPgSyXdhCpap"
      },
      "source": [
        "**<font color=red>Analysis</font>**: \n",
        "\n",
        "- The depth of the tree does not change because it was previously set in the post condition of the pruning, \n",
        "\n",
        "- The characteristics used are different and this one comes back to the division method which is different.\n",
        "\n",
        "- The trees have both the same type, they are both binary trees."
      ]
    },
    {
      "cell_type": "code",
      "metadata": {
        "id": "xpxdJIpCCpaq",
        "colab": {
          "base_uri": "https://localhost:8080/",
          "height": 973
        },
        "outputId": "40eb68c3-c678-4ebd-c583-912526fede2e"
      },
      "source": [
        "try:\n",
        "    from IPython.display import SVG\n",
        "    from graphviz import Source\n",
        "    from IPython.display import display\n",
        "    \n",
        "    graph1 = Source(cart_nom_classifieur.graphviz())\n",
        "    graph2 = Source(cart_num_classifieur.graphviz())\n",
        "    display(SVG(graph1.pipe(format='svg')), SVG(graph2.pipe(format='svg')))\n",
        "\n",
        "except ImportError:\n",
        "    print(\"you need to install graphviz\")"
      ],
      "execution_count": 29,
      "outputs": [
        {
          "output_type": "display_data",
          "data": {
            "text/plain": [
              "<IPython.core.display.SVG object>"
            ],
            "image/svg+xml": "<svg height=\"311pt\" viewBox=\"0.00 0.00 353.50 311.00\" width=\"354pt\" xmlns=\"http://www.w3.org/2000/svg\" xmlns:xlink=\"http://www.w3.org/1999/xlink\">\n<g class=\"graph\" id=\"graph0\" transform=\"scale(1 1) rotate(0) translate(4 307)\">\n<title>Tree</title>\n<polygon fill=\"#ffffff\" points=\"-4,4 -4,-307 349.5,-307 349.5,4 -4,4\" stroke=\"transparent\"/>\n<!-- N18 -->\n<g class=\"node\" id=\"node1\">\n<title>N18</title>\n<polygon fill=\"none\" points=\"197,-303 0,-303 0,-265 197,-265 197,-303\" stroke=\"#000000\"/>\n<text fill=\"#000000\" font-family=\"Times,serif\" font-size=\"14.00\" text-anchor=\"middle\" x=\"98.5\" y=\"-287.8\">temps = nuageux</text>\n<text fill=\"#000000\" font-family=\"Times,serif\" font-size=\"14.00\" text-anchor=\"middle\" x=\"98.5\" y=\"-272.8\">Gini = 0.35714285714285715</text>\n</g>\n<!-- N19 -->\n<g class=\"node\" id=\"node2\">\n<title>N19</title>\n<ellipse cx=\"74.5\" cy=\"-195\" fill=\"none\" rx=\"27\" ry=\"18\" stroke=\"#000000\"/>\n<text fill=\"#000000\" font-family=\"Times,serif\" font-size=\"14.00\" text-anchor=\"middle\" x=\"74.5\" y=\"-191.3\">oui</text>\n</g>\n<!-- N18&#45;&gt;N19 -->\n<g class=\"edge\" id=\"edge7\">\n<title>N18-&gt;N19</title>\n<path d=\"M93.2924,-264.6883C89.9746,-252.385 85.6239,-236.2513 81.9444,-222.6063\" fill=\"none\" stroke=\"#000000\"/>\n<polygon fill=\"#000000\" points=\"85.2726,-221.5054 79.2896,-212.7616 78.514,-223.328 85.2726,-221.5054\" stroke=\"#000000\"/>\n<text fill=\"#000000\" font-family=\"Times,serif\" font-size=\"14.00\" text-anchor=\"middle\" x=\"101\" y=\"-235.8\">Vrai</text>\n</g>\n<!-- N20 -->\n<g class=\"node\" id=\"node3\">\n<title>N20</title>\n<polygon fill=\"none\" points=\"317,-214 120,-214 120,-176 317,-176 317,-214\" stroke=\"#000000\"/>\n<text fill=\"#000000\" font-family=\"Times,serif\" font-size=\"14.00\" text-anchor=\"middle\" x=\"218.5\" y=\"-198.8\">humidite = haute</text>\n<text fill=\"#000000\" font-family=\"Times,serif\" font-size=\"14.00\" text-anchor=\"middle\" x=\"218.5\" y=\"-183.8\">Gini = 0.31999999999999984</text>\n</g>\n<!-- N18&#45;&gt;N20 -->\n<g class=\"edge\" id=\"edge8\">\n<title>N18-&gt;N20</title>\n<path d=\"M124.243,-264.9073C141.88,-251.8265 165.4559,-234.341 184.6168,-220.1301\" fill=\"none\" stroke=\"#000000\"/>\n<polygon fill=\"#000000\" points=\"186.8525,-222.8295 192.7996,-214.0612 182.6825,-217.2071 186.8525,-222.8295\" stroke=\"#000000\"/>\n<text fill=\"#000000\" font-family=\"Times,serif\" font-size=\"14.00\" text-anchor=\"middle\" x=\"181.5\" y=\"-235.8\">Faux</text>\n</g>\n<!-- N21 -->\n<g class=\"node\" id=\"node4\">\n<title>N21</title>\n<polygon fill=\"none\" points=\"210.5,-125 94.5,-125 94.5,-87 210.5,-87 210.5,-125\" stroke=\"#000000\"/>\n<text fill=\"#000000\" font-family=\"Times,serif\" font-size=\"14.00\" text-anchor=\"middle\" x=\"152.5\" y=\"-109.8\">temps = ensoleile</text>\n<text fill=\"#000000\" font-family=\"Times,serif\" font-size=\"14.00\" text-anchor=\"middle\" x=\"152.5\" y=\"-94.8\">Gini = 0.2</text>\n</g>\n<!-- N20&#45;&gt;N21 -->\n<g class=\"edge\" id=\"edge5\">\n<title>N20-&gt;N21</title>\n<path d=\"M204.179,-175.6883C195.0113,-163.3258 182.9758,-147.0962 172.8263,-133.4098\" fill=\"none\" stroke=\"#000000\"/>\n<polygon fill=\"#000000\" points=\"175.561,-131.2216 166.7931,-125.274 169.9384,-135.3912 175.561,-131.2216\" stroke=\"#000000\"/>\n<text fill=\"#000000\" font-family=\"Times,serif\" font-size=\"14.00\" text-anchor=\"middle\" x=\"202\" y=\"-146.8\">Vrai</text>\n</g>\n<!-- N24 -->\n<g class=\"node\" id=\"node7\">\n<title>N24</title>\n<polygon fill=\"none\" points=\"308.5,-125 228.5,-125 228.5,-87 308.5,-87 308.5,-125\" stroke=\"#000000\"/>\n<text fill=\"#000000\" font-family=\"Times,serif\" font-size=\"14.00\" text-anchor=\"middle\" x=\"268.5\" y=\"-109.8\">vent = non</text>\n<text fill=\"#000000\" font-family=\"Times,serif\" font-size=\"14.00\" text-anchor=\"middle\" x=\"268.5\" y=\"-94.8\">Gini = 0.2</text>\n</g>\n<!-- N20&#45;&gt;N24 -->\n<g class=\"edge\" id=\"edge6\">\n<title>N20-&gt;N24</title>\n<path d=\"M229.3493,-175.6883C236.1634,-163.5591 245.069,-147.7072 252.6645,-134.1871\" fill=\"none\" stroke=\"#000000\"/>\n<polygon fill=\"#000000\" points=\"255.8253,-135.7067 257.6719,-125.274 249.7225,-132.2781 255.8253,-135.7067\" stroke=\"#000000\"/>\n<text fill=\"#000000\" font-family=\"Times,serif\" font-size=\"14.00\" text-anchor=\"middle\" x=\"261.5\" y=\"-146.8\">Faux</text>\n</g>\n<!-- N22 -->\n<g class=\"node\" id=\"node5\">\n<title>N22</title>\n<ellipse cx=\"91.5\" cy=\"-18\" fill=\"none\" rx=\"27\" ry=\"18\" stroke=\"#000000\"/>\n<text fill=\"#000000\" font-family=\"Times,serif\" font-size=\"14.00\" text-anchor=\"middle\" x=\"91.5\" y=\"-14.3\">non</text>\n</g>\n<!-- N21&#45;&gt;N22 -->\n<g class=\"edge\" id=\"edge1\">\n<title>N21-&gt;N22</title>\n<path d=\"M139.2639,-86.9053C130.2684,-73.9282 118.2856,-56.6415 108.5726,-42.6293\" fill=\"none\" stroke=\"#000000\"/>\n<polygon fill=\"#000000\" points=\"111.4387,-40.6204 102.8652,-34.3958 105.6857,-44.6083 111.4387,-40.6204\" stroke=\"#000000\"/>\n<text fill=\"#000000\" font-family=\"Times,serif\" font-size=\"14.00\" text-anchor=\"middle\" x=\"139\" y=\"-57.8\">Vrai</text>\n</g>\n<!-- N23 -->\n<g class=\"node\" id=\"node6\">\n<title>N23</title>\n<ellipse cx=\"163.5\" cy=\"-18\" fill=\"none\" rx=\"27\" ry=\"18\" stroke=\"#000000\"/>\n<text fill=\"#000000\" font-family=\"Times,serif\" font-size=\"14.00\" text-anchor=\"middle\" x=\"163.5\" y=\"-14.3\">oui</text>\n</g>\n<!-- N21&#45;&gt;N23 -->\n<g class=\"edge\" id=\"edge2\">\n<title>N21-&gt;N23</title>\n<path d=\"M154.8868,-86.9053C156.3726,-75.019 158.3104,-59.517 159.9716,-46.2275\" fill=\"none\" stroke=\"#000000\"/>\n<polygon fill=\"#000000\" points=\"163.4631,-46.5122 161.2306,-36.1553 156.5172,-45.6439 163.4631,-46.5122\" stroke=\"#000000\"/>\n<text fill=\"#000000\" font-family=\"Times,serif\" font-size=\"14.00\" text-anchor=\"middle\" x=\"174.5\" y=\"-57.8\">Faux</text>\n</g>\n<!-- N25 -->\n<g class=\"node\" id=\"node8\">\n<title>N25</title>\n<ellipse cx=\"246.5\" cy=\"-18\" fill=\"none\" rx=\"27\" ry=\"18\" stroke=\"#000000\"/>\n<text fill=\"#000000\" font-family=\"Times,serif\" font-size=\"14.00\" text-anchor=\"middle\" x=\"246.5\" y=\"-14.3\">oui</text>\n</g>\n<!-- N24&#45;&gt;N25 -->\n<g class=\"edge\" id=\"edge3\">\n<title>N24-&gt;N25</title>\n<path d=\"M263.7263,-86.9053C260.7052,-74.8207 256.7497,-58.9989 253.3911,-45.5644\" fill=\"none\" stroke=\"#000000\"/>\n<polygon fill=\"#000000\" points=\"256.7854,-44.7103 250.9645,-35.8578 249.9944,-46.4081 256.7854,-44.7103\" stroke=\"#000000\"/>\n<text fill=\"#000000\" font-family=\"Times,serif\" font-size=\"14.00\" text-anchor=\"middle\" x=\"272\" y=\"-57.8\">Vrai</text>\n</g>\n<!-- N26 -->\n<g class=\"node\" id=\"node9\">\n<title>N26</title>\n<ellipse cx=\"318.5\" cy=\"-18\" fill=\"none\" rx=\"27\" ry=\"18\" stroke=\"#000000\"/>\n<text fill=\"#000000\" font-family=\"Times,serif\" font-size=\"14.00\" text-anchor=\"middle\" x=\"318.5\" y=\"-14.3\">oui</text>\n</g>\n<!-- N24&#45;&gt;N26 -->\n<g class=\"edge\" id=\"edge4\">\n<title>N24-&gt;N26</title>\n<path d=\"M279.3493,-86.9053C286.4901,-74.3374 295.9277,-57.7272 303.7476,-43.9642\" fill=\"none\" stroke=\"#000000\"/>\n<polygon fill=\"#000000\" points=\"306.9578,-45.3991 308.8549,-34.9754 300.8716,-41.941 306.9578,-45.3991\" stroke=\"#000000\"/>\n<text fill=\"#000000\" font-family=\"Times,serif\" font-size=\"14.00\" text-anchor=\"middle\" x=\"312.5\" y=\"-57.8\">Faux</text>\n</g>\n</g>\n</svg>"
          },
          "metadata": {}
        },
        {
          "output_type": "display_data",
          "data": {
            "text/plain": [
              "<IPython.core.display.SVG object>"
            ],
            "image/svg+xml": "<svg height=\"400pt\" viewBox=\"0.00 0.00 379.00 400.00\" width=\"379pt\" xmlns=\"http://www.w3.org/2000/svg\" xmlns:xlink=\"http://www.w3.org/1999/xlink\">\n<g class=\"graph\" id=\"graph0\" transform=\"scale(1 1) rotate(0) translate(4 396)\">\n<title>Tree</title>\n<polygon fill=\"#ffffff\" points=\"-4,4 -4,-396 375,-396 375,4 -4,4\" stroke=\"transparent\"/>\n<!-- N27 -->\n<g class=\"node\" id=\"node1\">\n<title>N27</title>\n<polygon fill=\"none\" points=\"197,-392 0,-392 0,-354 197,-354 197,-392\" stroke=\"#000000\"/>\n<text fill=\"#000000\" font-family=\"Times,serif\" font-size=\"14.00\" text-anchor=\"middle\" x=\"98.5\" y=\"-376.8\">temps = nuageux</text>\n<text fill=\"#000000\" font-family=\"Times,serif\" font-size=\"14.00\" text-anchor=\"middle\" x=\"98.5\" y=\"-361.8\">Gini = 0.35714285714285715</text>\n</g>\n<!-- N28 -->\n<g class=\"node\" id=\"node2\">\n<title>N28</title>\n<ellipse cx=\"74.5\" cy=\"-284\" fill=\"none\" rx=\"27\" ry=\"18\" stroke=\"#000000\"/>\n<text fill=\"#000000\" font-family=\"Times,serif\" font-size=\"14.00\" text-anchor=\"middle\" x=\"74.5\" y=\"-280.3\">oui</text>\n</g>\n<!-- N27&#45;&gt;N28 -->\n<g class=\"edge\" id=\"edge7\">\n<title>N27-&gt;N28</title>\n<path d=\"M93.2924,-353.6883C89.9746,-341.385 85.6239,-325.2513 81.9444,-311.6063\" fill=\"none\" stroke=\"#000000\"/>\n<polygon fill=\"#000000\" points=\"85.2726,-310.5054 79.2896,-301.7616 78.514,-312.328 85.2726,-310.5054\" stroke=\"#000000\"/>\n<text fill=\"#000000\" font-family=\"Times,serif\" font-size=\"14.00\" text-anchor=\"middle\" x=\"101\" y=\"-324.8\">Vrai</text>\n</g>\n<!-- N29 -->\n<g class=\"node\" id=\"node3\">\n<title>N29</title>\n<polygon fill=\"none\" points=\"233.5,-303 119.5,-303 119.5,-265 233.5,-265 233.5,-303\" stroke=\"#000000\"/>\n<text fill=\"#000000\" font-family=\"Times,serif\" font-size=\"14.00\" text-anchor=\"middle\" x=\"176.5\" y=\"-287.8\">temperature &gt; 24</text>\n<text fill=\"#000000\" font-family=\"Times,serif\" font-size=\"14.00\" text-anchor=\"middle\" x=\"176.5\" y=\"-272.8\">Gini = 0.375</text>\n</g>\n<!-- N27&#45;&gt;N29 -->\n<g class=\"edge\" id=\"edge8\">\n<title>N27-&gt;N29</title>\n<path d=\"M115.4248,-353.6883C126.3616,-341.2092 140.7518,-324.7896 152.8168,-311.0231\" fill=\"none\" stroke=\"#000000\"/>\n<polygon fill=\"#000000\" points=\"155.6493,-313.1014 159.6082,-303.274 150.3849,-308.4877 155.6493,-313.1014\" stroke=\"#000000\"/>\n<text fill=\"#000000\" font-family=\"Times,serif\" font-size=\"14.00\" text-anchor=\"middle\" x=\"157.5\" y=\"-324.8\">Faux</text>\n</g>\n<!-- N30 -->\n<g class=\"node\" id=\"node4\">\n<title>N30</title>\n<ellipse cx=\"128.5\" cy=\"-195\" fill=\"none\" rx=\"27\" ry=\"18\" stroke=\"#000000\"/>\n<text fill=\"#000000\" font-family=\"Times,serif\" font-size=\"14.00\" text-anchor=\"middle\" x=\"128.5\" y=\"-191.3\">non</text>\n</g>\n<!-- N29&#45;&gt;N30 -->\n<g class=\"edge\" id=\"edge5\">\n<title>N29-&gt;N30</title>\n<path d=\"M166.0847,-264.6883C159.2295,-251.9776 150.1694,-235.1787 142.6623,-221.2592\" fill=\"none\" stroke=\"#000000\"/>\n<polygon fill=\"#000000\" points=\"145.5868,-219.3084 137.7593,-212.1683 139.4257,-222.6313 145.5868,-219.3084\" stroke=\"#000000\"/>\n<text fill=\"#000000\" font-family=\"Times,serif\" font-size=\"14.00\" text-anchor=\"middle\" x=\"168\" y=\"-235.8\">Vrai</text>\n</g>\n<!-- N31 -->\n<g class=\"node\" id=\"node5\">\n<title>N31</title>\n<polygon fill=\"none\" points=\"371,-214 174,-214 174,-176 371,-176 371,-214\" stroke=\"#000000\"/>\n<text fill=\"#000000\" font-family=\"Times,serif\" font-size=\"14.00\" text-anchor=\"middle\" x=\"272.5\" y=\"-198.8\">temperature &gt; 18</text>\n<text fill=\"#000000\" font-family=\"Times,serif\" font-size=\"14.00\" text-anchor=\"middle\" x=\"272.5\" y=\"-183.8\">Gini = 0.35714285714285715</text>\n</g>\n<!-- N29&#45;&gt;N31 -->\n<g class=\"edge\" id=\"edge6\">\n<title>N29-&gt;N31</title>\n<path d=\"M197.3306,-264.6883C211.0428,-251.976 229.1658,-235.1744 244.1811,-221.254\" fill=\"none\" stroke=\"#000000\"/>\n<polygon fill=\"#000000\" points=\"246.7562,-223.6394 251.7101,-214.274 241.9971,-218.506 246.7562,-223.6394\" stroke=\"#000000\"/>\n<text fill=\"#000000\" font-family=\"Times,serif\" font-size=\"14.00\" text-anchor=\"middle\" x=\"245.5\" y=\"-235.8\">Faux</text>\n</g>\n<!-- N32 -->\n<g class=\"node\" id=\"node6\">\n<title>N32</title>\n<polygon fill=\"none\" points=\"274,-125 85,-125 85,-87 274,-87 274,-125\" stroke=\"#000000\"/>\n<text fill=\"#000000\" font-family=\"Times,serif\" font-size=\"14.00\" text-anchor=\"middle\" x=\"179.5\" y=\"-109.8\">temperature &gt; 21</text>\n<text fill=\"#000000\" font-family=\"Times,serif\" font-size=\"14.00\" text-anchor=\"middle\" x=\"179.5\" y=\"-94.8\">Gini = 0.2857142857142857</text>\n</g>\n<!-- N31&#45;&gt;N32 -->\n<g class=\"edge\" id=\"edge3\">\n<title>N31-&gt;N32</title>\n<path d=\"M252.3204,-175.6883C239.0367,-162.976 221.48,-146.1744 206.9339,-132.254\" fill=\"none\" stroke=\"#000000\"/>\n<polygon fill=\"#000000\" points=\"209.2849,-129.6593 199.6402,-125.274 204.4451,-134.7167 209.2849,-129.6593\" stroke=\"#000000\"/>\n<text fill=\"#000000\" font-family=\"Times,serif\" font-size=\"14.00\" text-anchor=\"middle\" x=\"245\" y=\"-146.8\">Vrai</text>\n</g>\n<!-- N35 -->\n<g class=\"node\" id=\"node9\">\n<title>N35</title>\n<ellipse cx=\"319.5\" cy=\"-106\" fill=\"none\" rx=\"27\" ry=\"18\" stroke=\"#000000\"/>\n<text fill=\"#000000\" font-family=\"Times,serif\" font-size=\"14.00\" text-anchor=\"middle\" x=\"319.5\" y=\"-102.3\">non</text>\n</g>\n<!-- N31&#45;&gt;N35 -->\n<g class=\"edge\" id=\"edge4\">\n<title>N31-&gt;N35</title>\n<path d=\"M282.6983,-175.6883C289.4107,-162.9776 298.2821,-146.1787 305.6328,-132.2592\" fill=\"none\" stroke=\"#000000\"/>\n<polygon fill=\"#000000\" points=\"308.8587,-133.6455 310.4336,-123.1683 302.6688,-130.3766 308.8587,-133.6455\" stroke=\"#000000\"/>\n<text fill=\"#000000\" font-family=\"Times,serif\" font-size=\"14.00\" text-anchor=\"middle\" x=\"314.5\" y=\"-146.8\">Faux</text>\n</g>\n<!-- N33 -->\n<g class=\"node\" id=\"node7\">\n<title>N33</title>\n<ellipse cx=\"143.5\" cy=\"-18\" fill=\"none\" rx=\"27\" ry=\"18\" stroke=\"#000000\"/>\n<text fill=\"#000000\" font-family=\"Times,serif\" font-size=\"14.00\" text-anchor=\"middle\" x=\"143.5\" y=\"-14.3\">oui</text>\n</g>\n<!-- N32&#45;&gt;N33 -->\n<g class=\"edge\" id=\"edge1\">\n<title>N32-&gt;N33</title>\n<path d=\"M171.6885,-86.9053C166.6631,-74.6209 160.0578,-58.4747 154.5045,-44.9\" fill=\"none\" stroke=\"#000000\"/>\n<polygon fill=\"#000000\" points=\"157.7103,-43.4922 150.6845,-35.562 151.2314,-46.1427 157.7103,-43.4922\" stroke=\"#000000\"/>\n<text fill=\"#000000\" font-family=\"Times,serif\" font-size=\"14.00\" text-anchor=\"middle\" x=\"177\" y=\"-57.8\">Vrai</text>\n</g>\n<!-- N34 -->\n<g class=\"node\" id=\"node8\">\n<title>N34</title>\n<ellipse cx=\"215.5\" cy=\"-18\" fill=\"none\" rx=\"27\" ry=\"18\" stroke=\"#000000\"/>\n<text fill=\"#000000\" font-family=\"Times,serif\" font-size=\"14.00\" text-anchor=\"middle\" x=\"215.5\" y=\"-14.3\">oui</text>\n</g>\n<!-- N32&#45;&gt;N34 -->\n<g class=\"edge\" id=\"edge2\">\n<title>N32-&gt;N34</title>\n<path d=\"M187.3115,-86.9053C192.3369,-74.6209 198.9422,-58.4747 204.4955,-44.9\" fill=\"none\" stroke=\"#000000\"/>\n<polygon fill=\"#000000\" points=\"207.7686,-46.1427 208.3155,-35.562 201.2897,-43.4922 207.7686,-46.1427\" stroke=\"#000000\"/>\n<text fill=\"#000000\" font-family=\"Times,serif\" font-size=\"14.00\" text-anchor=\"middle\" x=\"216.5\" y=\"-57.8\">Faux</text>\n</g>\n</g>\n</svg>"
          },
          "metadata": {}
        }
      ]
    },
    {
      "cell_type": "markdown",
      "metadata": {
        "id": "EpvW8i5KCpas"
      },
      "source": [
        "### IV-3- Performance\n",
        "\n",
        "We will use [Iris dataset](https://archive.ics.uci.edu/ml/datasets/iris) to classify flowers into three classes, using 4 features.\n",
        "\n",
        "Three models will be used: \n",
        "- ID3 after discritization of the values\n",
        "- CART \n",
        "- scikit-learn \n",
        "\n",
        "Description of the metrics: \n",
        "- the support is the number of samples\n",
        "- for each class, we provide the precision, the recall and the F1-score\n",
        "- micro avg : the metrics (precision, recall and F1-score) computed for the totality of the estimations (useful when the number of classes is unbalanced)\n",
        "- macro avg : the metrics computed for each class, then averaged \n",
        "- weighted avg : the metrics computed for each class, multiplied by the equivalent support, summed, then divided by the total number of samples"
      ]
    },
    {
      "cell_type": "code",
      "metadata": {
        "id": "yJU9SsBgCpat",
        "colab": {
          "base_uri": "https://localhost:8080/",
          "height": 206
        },
        "outputId": "3a99c442-f811-4dd5-de23-358be583fba5"
      },
      "source": [
        "import numpy as np\n",
        "import pandas as pd \n",
        "import matplotlib.pyplot as plt \n",
        "%matplotlib inline\n",
        "\n",
        "iris = pd.read_csv(\"datasets/iris.csv\")\n",
        "iris = iris.sample(frac=1)\n",
        "# Extraction des features \n",
        "X_iris = iris.iloc[:, :-1].values # Premières colonnes \n",
        "\n",
        "Y_iris = iris.iloc[:,-1].values # Dernière colonne \n",
        "\n",
        "X_names = list(iris.columns)[:-1]\n",
        "Y_name = list(iris.columns)[-1]\n",
        "\n",
        "# entrainnement\n",
        "iris_msk = np.random.rand(len(X_iris)) < 0.8\n",
        "\n",
        "X_iris_train = X_iris[iris_msk]\n",
        "Y_iris_train = Y_iris[iris_msk]\n",
        "\n",
        "X_iris_test = X_iris[~iris_msk]\n",
        "Y_iris_test = Y_iris[~iris_msk]\n",
        "\n",
        "iris.head()\n",
        "#X_names, Y_name"
      ],
      "execution_count": 30,
      "outputs": [
        {
          "output_type": "execute_result",
          "data": {
            "text/html": [
              "<div>\n",
              "<style scoped>\n",
              "    .dataframe tbody tr th:only-of-type {\n",
              "        vertical-align: middle;\n",
              "    }\n",
              "\n",
              "    .dataframe tbody tr th {\n",
              "        vertical-align: top;\n",
              "    }\n",
              "\n",
              "    .dataframe thead th {\n",
              "        text-align: right;\n",
              "    }\n",
              "</style>\n",
              "<table border=\"1\" class=\"dataframe\">\n",
              "  <thead>\n",
              "    <tr style=\"text-align: right;\">\n",
              "      <th></th>\n",
              "      <th>sepal_length</th>\n",
              "      <th>sepal_width</th>\n",
              "      <th>petal_length</th>\n",
              "      <th>petal_width</th>\n",
              "      <th>class</th>\n",
              "    </tr>\n",
              "  </thead>\n",
              "  <tbody>\n",
              "    <tr>\n",
              "      <th>16</th>\n",
              "      <td>5.4</td>\n",
              "      <td>3.9</td>\n",
              "      <td>1.3</td>\n",
              "      <td>0.4</td>\n",
              "      <td>Iris-setosa</td>\n",
              "    </tr>\n",
              "    <tr>\n",
              "      <th>82</th>\n",
              "      <td>5.8</td>\n",
              "      <td>2.7</td>\n",
              "      <td>3.9</td>\n",
              "      <td>1.2</td>\n",
              "      <td>Iris-versicolor</td>\n",
              "    </tr>\n",
              "    <tr>\n",
              "      <th>87</th>\n",
              "      <td>6.3</td>\n",
              "      <td>2.3</td>\n",
              "      <td>4.4</td>\n",
              "      <td>1.3</td>\n",
              "      <td>Iris-versicolor</td>\n",
              "    </tr>\n",
              "    <tr>\n",
              "      <th>67</th>\n",
              "      <td>5.8</td>\n",
              "      <td>2.7</td>\n",
              "      <td>4.1</td>\n",
              "      <td>1.0</td>\n",
              "      <td>Iris-versicolor</td>\n",
              "    </tr>\n",
              "    <tr>\n",
              "      <th>6</th>\n",
              "      <td>4.6</td>\n",
              "      <td>3.4</td>\n",
              "      <td>1.4</td>\n",
              "      <td>0.3</td>\n",
              "      <td>Iris-setosa</td>\n",
              "    </tr>\n",
              "  </tbody>\n",
              "</table>\n",
              "</div>"
            ],
            "text/plain": [
              "    sepal_length  sepal_width  petal_length  petal_width            class\n",
              "16           5.4          3.9           1.3          0.4      Iris-setosa\n",
              "82           5.8          2.7           3.9          1.2  Iris-versicolor\n",
              "87           6.3          2.3           4.4          1.3  Iris-versicolor\n",
              "67           5.8          2.7           4.1          1.0  Iris-versicolor\n",
              "6            4.6          3.4           1.4          0.3      Iris-setosa"
            ]
          },
          "metadata": {},
          "execution_count": 30
        }
      ]
    },
    {
      "cell_type": "code",
      "metadata": {
        "id": "Wc2JaZdDCpat",
        "colab": {
          "base_uri": "https://localhost:8080/"
        },
        "outputId": "041e743a-1e01-4fb9-8202-87415aa2efdc"
      },
      "source": [
        "# ID3 après discritisation \n",
        "from sklearn.preprocessing import KBinsDiscretizer\n",
        "est = KBinsDiscretizer(n_bins=3, encode='ordinal', strategy='uniform')\n",
        "est.fit(X_iris)\n",
        "X_iris_disc = est.transform(X_iris)\n",
        "X_iris_disc_train = X_iris_disc[iris_msk]\n",
        "id3_iris = ID3()\n",
        "id3_iris.entrainer(X_iris_disc_train, Y_iris_train, X_noms=X_names, Y_nom=Y_name, elagage=True)\n",
        "X_iris_disc_test = X_iris_disc[~iris_msk]\n",
        "id3_iris_res = id3_iris.predire(X_iris_disc_test)\n",
        "\n",
        "# CART \n",
        "cart_iris = CART()\n",
        "cart_iris.entrainer(X_iris_train, Y_iris_train, X_noms=X_names, Y_nom=Y_name)\n",
        "cart_iris_res = cart_iris.predire(X_iris_test)\n",
        "\n",
        "# sklearn\n",
        "from sklearn.tree import DecisionTreeClassifier\n",
        "\n",
        "sklearn_cart_iris = DecisionTreeClassifier()\n",
        "sklearn_cart_iris.fit(X_iris_train, Y_iris_train)\n",
        "sklearn_cart_iris_res = sklearn_cart_iris.predict(X_iris_test)\n",
        "\n",
        "\n",
        "# Le rapport de classification\n",
        "from sklearn.metrics import classification_report\n",
        "\n",
        "print(\"ID3\")\n",
        "print(classification_report(Y_iris_test, id3_iris_res))\n",
        "\n",
        "\n",
        "print(\"CART\")\n",
        "print(classification_report(Y_iris_test, cart_iris_res))\n",
        "\n",
        "print(\"Scikit-learn\")\n",
        "print(classification_report(Y_iris_test, sklearn_cart_iris_res))\n",
        "\n",
        "# Ignorer le warning"
      ],
      "execution_count": 31,
      "outputs": [
        {
          "output_type": "stream",
          "name": "stdout",
          "text": [
            "ID3\n",
            "                 precision    recall  f1-score   support\n",
            "\n",
            "    Iris-setosa       1.00      1.00      1.00         7\n",
            "Iris-versicolor       0.00      0.00      0.00        11\n",
            " Iris-virginica       0.45      1.00      0.62         9\n",
            "\n",
            "       accuracy                           0.59        27\n",
            "      macro avg       0.48      0.67      0.54        27\n",
            "   weighted avg       0.41      0.59      0.47        27\n",
            "\n",
            "CART\n",
            "                 precision    recall  f1-score   support\n",
            "\n",
            "    Iris-setosa       1.00      1.00      1.00         7\n",
            "Iris-versicolor       0.85      1.00      0.92        11\n",
            " Iris-virginica       1.00      0.78      0.88         9\n",
            "\n",
            "       accuracy                           0.93        27\n",
            "      macro avg       0.95      0.93      0.93        27\n",
            "   weighted avg       0.94      0.93      0.92        27\n",
            "\n",
            "Scikit-learn\n",
            "                 precision    recall  f1-score   support\n",
            "\n",
            "    Iris-setosa       1.00      1.00      1.00         7\n",
            "Iris-versicolor       0.85      1.00      0.92        11\n",
            " Iris-virginica       1.00      0.78      0.88         9\n",
            "\n",
            "       accuracy                           0.93        27\n",
            "      macro avg       0.95      0.93      0.93        27\n",
            "   weighted avg       0.94      0.93      0.92        27\n",
            "\n"
          ]
        },
        {
          "output_type": "stream",
          "name": "stderr",
          "text": [
            "/usr/local/lib/python3.7/dist-packages/sklearn/metrics/_classification.py:1308: UndefinedMetricWarning: Precision and F-score are ill-defined and being set to 0.0 in labels with no predicted samples. Use `zero_division` parameter to control this behavior.\n",
            "  _warn_prf(average, modifier, msg_start, len(result))\n",
            "/usr/local/lib/python3.7/dist-packages/sklearn/metrics/_classification.py:1308: UndefinedMetricWarning: Precision and F-score are ill-defined and being set to 0.0 in labels with no predicted samples. Use `zero_division` parameter to control this behavior.\n",
            "  _warn_prf(average, modifier, msg_start, len(result))\n",
            "/usr/local/lib/python3.7/dist-packages/sklearn/metrics/_classification.py:1308: UndefinedMetricWarning: Precision and F-score are ill-defined and being set to 0.0 in labels with no predicted samples. Use `zero_division` parameter to control this behavior.\n",
            "  _warn_prf(average, modifier, msg_start, len(result))\n"
          ]
        }
      ]
    },
    {
      "cell_type": "markdown",
      "metadata": {
        "id": "dtfCafeXCpau"
      },
      "source": [
        "**<font color=red>Analysis</font>**: \n",
        "\n",
        "- **ID3**: Precision varies between 55% and 100%, it is the lowest among the 3 models, Recall is always good, f1 score varies between 71% and 100% \n",
        "\n",
        "- **CART**: The precision varies between 90% and 100%, it is the best between the 3 models, Also for the recall, and the f1 score is always above 95% is the best between the 3models.\n",
        "\n",
        "- Scikit-learn**: The precision varies between 75 and 100%, it is less than that of CART but good compared to ID3, the recall and the f1 score are also good. "
      ]
    },
    {
      "cell_type": "code",
      "metadata": {
        "id": "4TfVH79CCpau"
      },
      "source": [
        ""
      ],
      "execution_count": 31,
      "outputs": []
    }
  ]
}