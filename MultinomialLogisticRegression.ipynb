{
  "nbformat": 4,
  "nbformat_minor": 0,
  "metadata": {
    "kernelspec": {
      "name": "python3",
      "display_name": "Python 3"
    },
    "colab": {
      "name": "RegressionLogistiqueMultinomiale.ipynb",
      "provenance": [],
      "collapsed_sections": []
    },
    "language_info": {
      "name": "python"
    }
  },
  "cells": [
    {
      "cell_type": "markdown",
      "metadata": {
        "id": "x6oXx217PLCW"
      },
      "source": [
        "You can view this notebook in Google Colab by clicking on [this link](https://colab.research.google.com/drive/1mCSfekW5lBlWu1s1RxC3Wo2F8d4_KTcw?usp=sharing). (Some of Latex expressions can't be displayed out of Google Colab)"
      ]
    },
    {
      "cell_type": "markdown",
      "metadata": {
        "id": "15S6YRW3fzId"
      },
      "source": [
        "# Multinomial logistic regression\n",
        "\n",
        "We have implemented the case of a single class (binary: yes or no). To apply a ranking on several classes, we can train $L$ logistic regression models (where $L$ is the number of classes). In this case, our output (Y) must be encoded as 0 and 1. For a model $M_i$ of one class $C_i$, the output $Y$ must have 1 if $C_i$, 0 if another class. (One-to-rest classification)\n",
        "\n",
        "Another approach (the one we will implement) is to encode the output using OneHot encoder. For $L$ classes and a given sample, we will have $L$ outputs (one having 1 and the others 0). For a dataset with $M$ samples, $N$ features and $L$ classes, we will have the following dimensions: \n",
        "- $X (M, N)$\n",
        "- $Y (M, L)$\n",
        "- $theta (L, N)$\n",
        "\n",
        "This last approach is called maximum entropy (MaxEnt). It generalizes the logistic regression."
      ]
    },
    {
      "cell_type": "code",
      "metadata": {
        "id": "K-ECsdcAfzIk"
      },
      "source": [
        "import numpy as np\n",
        "import pandas as pd \n",
        "import matplotlib.pyplot as plt \n",
        "%matplotlib inline"
      ],
      "execution_count": null,
      "outputs": []
    },
    {
      "cell_type": "markdown",
      "metadata": {
        "id": "ENahS6BCd48V"
      },
      "source": [
        "## Download the datasets"
      ]
    },
    {
      "cell_type": "code",
      "metadata": {
        "id": "cdAotANLd4H9",
        "colab": {
          "base_uri": "https://localhost:8080/"
        },
        "outputId": "f1d44db3-c95b-4521-b87d-14204aef1a2f"
      },
      "source": [
        "! mkdir datasets\n",
        "! wget -c \"https://drive.google.com/uc?export=download&id=10qawaE4g-bjzg3Lmwpi_C51rSUk3B66H\" -O datasets/iris.csv"
      ],
      "execution_count": null,
      "outputs": [
        {
          "output_type": "stream",
          "name": "stdout",
          "text": [
            "--2021-11-26 21:21:19--  https://drive.google.com/uc?export=download&id=10qawaE4g-bjzg3Lmwpi_C51rSUk3B66H\n",
            "Resolving drive.google.com (drive.google.com)... 142.250.65.78, 2607:f8b0:4004:832::200e\n",
            "Connecting to drive.google.com (drive.google.com)|142.250.65.78|:443... connected.\n",
            "HTTP request sent, awaiting response... 302 Moved Temporarily\n",
            "Location: https://doc-00-8o-docs.googleusercontent.com/docs/securesc/ha0ro937gcuc7l7deffksulhg5h7mbp1/agl7ccjvrki5egirmmag1n0em5of6v4l/1637961675000/02428432253297012158/*/10qawaE4g-bjzg3Lmwpi_C51rSUk3B66H?e=download [following]\n",
            "Warning: wildcards not supported in HTTP.\n",
            "--2021-11-26 21:21:20--  https://doc-00-8o-docs.googleusercontent.com/docs/securesc/ha0ro937gcuc7l7deffksulhg5h7mbp1/agl7ccjvrki5egirmmag1n0em5of6v4l/1637961675000/02428432253297012158/*/10qawaE4g-bjzg3Lmwpi_C51rSUk3B66H?e=download\n",
            "Resolving doc-00-8o-docs.googleusercontent.com (doc-00-8o-docs.googleusercontent.com)... 142.250.73.225, 2607:f8b0:4004:82a::2001\n",
            "Connecting to doc-00-8o-docs.googleusercontent.com (doc-00-8o-docs.googleusercontent.com)|142.250.73.225|:443... connected.\n",
            "HTTP request sent, awaiting response... 200 OK\n",
            "Length: 4607 (4.5K) [text/csv]\n",
            "Saving to: ‘datasets/iris.csv’\n",
            "\n",
            "datasets/iris.csv   100%[===================>]   4.50K  --.-KB/s    in 0s      \n",
            "\n",
            "2021-11-26 21:21:20 (46.2 MB/s) - ‘datasets/iris.csv’ saved [4607/4607]\n",
            "\n"
          ]
        }
      ]
    },
    {
      "cell_type": "markdown",
      "metadata": {
        "id": "My_sSVoYfzIo"
      },
      "source": [
        "## 1- Implementation "
      ]
    },
    {
      "cell_type": "markdown",
      "metadata": {
        "id": "bIfjabHnfzIp"
      },
      "source": [
        "### 1.1- Utils"
      ]
    },
    {
      "cell_type": "code",
      "metadata": {
        "id": "Fznz0wQZfzIr",
        "colab": {
          "base_uri": "https://localhost:8080/"
        },
        "outputId": "cba2d9f4-568a-486f-82a1-3307f550fad8"
      },
      "source": [
        "# Define functions that generate vectors or matrices\n",
        "# These functions will be used to generate Thetas\n",
        "\n",
        "def generer_zeros_2(nbr_x, nbr_y):\n",
        "    return np.zeros((nbr_x, nbr_y))\n",
        "\n",
        "def generer_uns_2(nbr_x, nbr_y):\n",
        "    return np.ones((nbr_x, nbr_y))\n",
        "\n",
        "def generer_aleatoire_2(nbr_x, nbr_y):\n",
        "    return np.random.rand(nbr_x, nbr_y)\n",
        "    \n",
        "generer_zeros_2(2, 3), generer_uns_2(2, 3), generer_aleatoire_2(2, 3)"
      ],
      "execution_count": null,
      "outputs": [
        {
          "output_type": "execute_result",
          "data": {
            "text/plain": [
              "(array([[0., 0., 0.],\n",
              "        [0., 0., 0.]]), array([[1., 1., 1.],\n",
              "        [1., 1., 1.]]), array([[0.10781858, 0.46961851, 0.95129907],\n",
              "        [0.71570314, 0.83818996, 0.81383021]]))"
            ]
          },
          "metadata": {},
          "execution_count": 3
        }
      ]
    },
    {
      "cell_type": "code",
      "metadata": {
        "id": "Omn6zflJfzIt"
      },
      "source": [
        "X_tn = np.array([[0., 0.], [1., 0.], [0., 1.], [1., 1.]])\n",
        "Y_tn = np.array([[1,0,0], [0,1,0], [0,0,1], [1,0,0]])\n",
        "Theta_tn = np.array([[0.5, 0.2], [0.1, 0.3], [0.6, 0.]])\n",
        "\n",
        "def preparer(X, norm=True, const=True, mean=None, std=None): \n",
        "    X_pre = X.copy()\n",
        "    if norm: \n",
        "        X_pre, mean, std = normaliser(X_pre)\n",
        "    if const:\n",
        "        X_pre = np.append(np.ones((X_pre.shape[0],1)), X_pre ,axis=1)\n",
        "    return X_pre, mean, std"
      ],
      "execution_count": null,
      "outputs": []
    },
    {
      "cell_type": "code",
      "metadata": {
        "id": "gVP_l0A-fzIu"
      },
      "source": [
        "X_tn = np.array([[0., 0.], [1., 0.], [0., 1.], [1., 1.]])\n",
        "Y_tn = np.array([[1,0,0], [0,1,0], [0,0,1], [1,0,0]])\n",
        "Theta_tn = np.array([[0.5, 0.2], [0.1, 0.3], [0.6, 0.]])\n",
        "\n",
        "def normaliser(X, mean=None, std=None): \n",
        "    if (mean is None) or (std is None): \n",
        "        mean = np.mean(X, axis=0)\n",
        "        std = np.std(X, axis=0)\n",
        "    X_norm = (X - mean)/std\n",
        "    return X_norm, mean, std"
      ],
      "execution_count": null,
      "outputs": []
    },
    {
      "cell_type": "markdown",
      "metadata": {
        "id": "0yYYoJJ4fzIv"
      },
      "source": [
        "### 1.2- Linear combination\n",
        "We combine the m features linearly. The only thing different is that z in this case is a matrix. (number_of_samples * number_of_classes) \n",
        "\n",
        "$$z=\\theta_0+\\sum\\limits_{i=1}^{m} \\theta_i x_i = X \\theta^T $$"
      ]
    },
    {
      "cell_type": "code",
      "metadata": {
        "id": "JtgmpOKgfzIx",
        "colab": {
          "base_uri": "https://localhost:8080/"
        },
        "outputId": "809cf188-5e58-4747-a3a4-75a96eaa39d2"
      },
      "source": [
        "# Implement the linear combination function \n",
        "def z_n(X, Theta): \n",
        "    Theta_t = np.matrix.transpose(Theta)\n",
        "    return np.dot(X, Theta_t)\n",
        "\n",
        "X_tn = np.array([[0., 0.], [1., 0.], [0., 1.], [1., 1.]])\n",
        "Y_tn = np.array([[1,0,0], [0,1,0], [0,0,1], [1,0,0]])\n",
        "Theta_tn = np.array([[0.5, 0.2], [0.1, 0.3], [0.6, 0.]])\n",
        "\n",
        "z_n(X_tn, Theta_tn)"
      ],
      "execution_count": null,
      "outputs": [
        {
          "output_type": "execute_result",
          "data": {
            "text/plain": [
              "array([[0. , 0. , 0. ],\n",
              "       [0.5, 0.1, 0.6],\n",
              "       [0.2, 0.3, 0. ],\n",
              "       [0.7, 0.4, 0.6]])"
            ]
          },
          "metadata": {},
          "execution_count": 6
        }
      ]
    },
    {
      "cell_type": "markdown",
      "metadata": {
        "id": "hm9ry3TJfzIz"
      },
      "source": [
        "### 1.2- Computation of probabilities\n",
        "\n",
        "The combined values are transformed to probabilities using the softmax function. $L$ is the number of classes. $Z$ is a vector of linear comninations.\n",
        "\n",
        "The softmax function generates weights where the sum of the columns always gives 1.0\n",
        "\n",
        "$$softmax(Z)=\\frac{e^Z}{\\sum\\limits_{k=1}^{L} e^{Z_k}}$$"
      ]
    },
    {
      "cell_type": "code",
      "metadata": {
        "id": "ZBpJXYO6fzIz",
        "colab": {
          "base_uri": "https://localhost:8080/"
        },
        "outputId": "7da59978-840a-4489-b499-07687c653522"
      },
      "source": [
        "# Implement softmax function\n",
        "def softmax(X):\n",
        "    exp_X = np.exp(X)\n",
        "    Sum = np.sum(exp_X, axis=1)\n",
        "    return   exp_X/Sum[:, None]\n",
        "\n",
        "X_tn = np.array([[0., 0.], [1., 0.], [0., 1.], [1., 1.]])\n",
        "Y_tn = np.array([[1,0,0], [0,1,0], [0,0,1], [1,0,0]])\n",
        "Theta_tn = np.array([[0.5, 0.2], [0.1, 0.3], [0.6, 0.]])\n",
        "\n",
        "softmax(z_n(X_tn, Theta_tn))"
      ],
      "execution_count": null,
      "outputs": [
        {
          "output_type": "execute_result",
          "data": {
            "text/plain": [
              "array([[0.33333333, 0.33333333, 0.33333333],\n",
              "       [0.36029662, 0.24151404, 0.39818934],\n",
              "       [0.34200877, 0.37797814, 0.28001309],\n",
              "       [0.37797814, 0.28001309, 0.34200877]])"
            ]
          },
          "metadata": {},
          "execution_count": 7
        }
      ]
    },
    {
      "cell_type": "code",
      "metadata": {
        "id": "QbU71zAafzI1",
        "colab": {
          "base_uri": "https://localhost:8080/"
        },
        "outputId": "b07c8451-f2ed-4ad1-a793-9ca144f64bf4"
      },
      "source": [
        "def h_n(X, Theta_n, mean=None, std=None, const=False): \n",
        "    norm = (mean is not None) and (std is not None)\n",
        "    X_pre, mean, std = preparer(X, norm, const, mean=mean, std=std)\n",
        "    return softmax(z_n(X_pre, Theta_n))\n",
        "\n",
        "X_tn = np.array([[0., 0.], [1., 0.], [0., 1.], [1., 1.]])\n",
        "Y_tn = np.array([[1,0,0], [0,1,0], [0,0,1], [1,0,0]])\n",
        "Theta_tn = np.array([[0.5, 0.2], [0.1, 0.3], [0.6, 0.]])\n",
        "\n",
        "h_n(X_tn, Theta_tn)"
      ],
      "execution_count": null,
      "outputs": [
        {
          "output_type": "execute_result",
          "data": {
            "text/plain": [
              "array([[0.33333333, 0.33333333, 0.33333333],\n",
              "       [0.36029662, 0.24151404, 0.39818934],\n",
              "       [0.34200877, 0.37797814, 0.28001309],\n",
              "       [0.37797814, 0.28001309, 0.34200877]])"
            ]
          },
          "metadata": {},
          "execution_count": 8
        }
      ]
    },
    {
      "cell_type": "markdown",
      "metadata": {
        "id": "STg_1AhcfzI1"
      },
      "source": [
        "### 1.3- Loss function \n",
        "\n",
        "- L: number of classes\n",
        "- M: number of samples\n",
        "\n",
        "$$ cout(h_\\theta(x), y) = - \\sum\\limits_{c=1}^{L} y_c \\log(h_{\\theta,c}(x))$$\n",
        "\n",
        "$$J(\\theta) = \\frac{1}{M} \\sum\\limits_{i=1}^{M} cout(h_\\theta(x^{(i)}), y^{(i)})$$"
      ]
    },
    {
      "cell_type": "code",
      "metadata": {
        "id": "sLZ3uzrzfzI2",
        "colab": {
          "base_uri": "https://localhost:8080/"
        },
        "outputId": "4464b151-24f6-45c1-827c-1e45b3433745"
      },
      "source": [
        "def J_n(H, Y): \n",
        "    return np.mean(-(Y*np.log(H)).sum(axis=1))\n",
        "\n",
        "X_tn = np.array([[0., 0.], [1., 0.], [0., 1.], [1., 1.]])\n",
        "Y_tn = np.array([[1,0,0], [0,1,0], [0,0,1], [1,0,0]])\n",
        "Theta_tn = np.array([[0.5, 0.2], [0.1, 0.3], [0.6, 0.]])\n",
        "\n",
        "J_n(h_n(X_tn, Theta_tn), Y_tn)"
      ],
      "execution_count": null,
      "outputs": [
        {
          "output_type": "execute_result",
          "data": {
            "text/plain": [
              "1.1913194426181715"
            ]
          },
          "metadata": {},
          "execution_count": 9
        }
      ]
    },
    {
      "cell_type": "markdown",
      "metadata": {
        "id": "oFmNtsBxfzI3"
      },
      "source": [
        "### 1.4- The gradients\n",
        "\n",
        "$$\\frac{\\partial J(\\theta)}{\\theta_j} = \\frac{1}{M} \\sum\\limits_{i=1}^{M} (h_\\theta(x^{(i)}) - y^{(i)}) x_{ij} $$"
      ]
    },
    {
      "cell_type": "code",
      "metadata": {
        "id": "807QUWvKfzI3",
        "colab": {
          "base_uri": "https://localhost:8080/"
        },
        "outputId": "930ddb39-28f8-44b6-8ba7-37403d1801f3"
      },
      "source": [
        "# The gradient function\n",
        "def gradient_n(X, H, Y):\n",
        "    return  np.dot((H - Y).T,X)/X.shape[0]\n",
        "\n",
        "X_tn = np.array([[0., 0.], [1., 0.], [0., 1.], [1., 1.]])\n",
        "Y_tn = np.array([[1,0,0], [0,1,0], [0,0,1], [1,0,0]])\n",
        "Theta_tn = np.array([[0.5, 0.2], [0.1, 0.3], [0.6, 0.]])\n",
        "\n",
        "gradient_n(X_tn, h_n(X_tn, Theta_tn), Y_tn)"
      ],
      "execution_count": null,
      "outputs": [
        {
          "output_type": "execute_result",
          "data": {
            "text/plain": [
              "array([[-0.06543131, -0.07000327],\n",
              "       [-0.11961822,  0.16449781],\n",
              "       [ 0.18504953, -0.09449454]])"
            ]
          },
          "metadata": {},
          "execution_count": 10
        }
      ]
    },
    {
      "cell_type": "markdown",
      "metadata": {
        "id": "E3CE9nrJfzI4"
      },
      "source": [
        "### 1.5- Training (gradient algorithm)\n",
        "\n",
        "The coefficients are updated iteratively based on the gradient and a $\\alpha$ learning step. Since this function has been implemented in the previous tutorial, it is given here, but in a more parameterizable way.\n",
        "\n",
        "$$\\theta_j = \\theta_j - \\alpha \\frac{\\partial J(\\theta)}{\\theta_j} $$\n",
        "\n",
        "Our training function takes the following parameters: \n",
        "- X : matrix (characteristic X samples)\n",
        "- Y : vector (or matrix) of results (samples X number_classes)\n",
        "- norm : if we normalize X or name (default : True)\n",
        "- const : if we add $\\theta_0$ or not (default : True)\n",
        "- nbr_iter : number of iterations before exit\n",
        "- alpha : the learning rate\n",
        "- eps : the stop test if the difference between the costs (current and previous) is lower than $\\epsilon$ we stop the desent even if we did not finish all the iterations\n",
        "- theta_func : the function which generates the $\\theta$ (by default : zeros)\n",
        "- h_func : the function that computes the probabilities (default : h_1)\n",
        "- J_func : the cost function (default : J_1)\n",
        "- grad_func : the function that computes the gradient (default : gradient_1)"
      ]
    },
    {
      "cell_type": "code",
      "metadata": {
        "id": "i8V1xgVpfzI5",
        "colab": {
          "base_uri": "https://localhost:8080/"
        },
        "outputId": "bc916f38-2eef-44f4-8ed1-fd0d1ba9a1a2"
      },
      "source": [
        "def entrainer_n(X, Y, norm=True, const=True, nbr_iter=200, alpha=1., eps=0.01, \n",
        "                theta_func=generer_zeros_2, h_func=h_n, J_func=J_n, grad_func=gradient_n):\n",
        "    \n",
        "    X_pre, mean, std = preparer(X, norm=norm, const=const)\n",
        "    \n",
        "    Theta = theta_func(Y.shape[1], X_pre.shape[1])\n",
        "    \n",
        "    couts = []\n",
        "    couts.append(J_func(h_func(X_pre, Theta), Y))\n",
        "    \n",
        "    for i in range(nbr_iter):\n",
        "        H = h_func(X_pre, Theta)\n",
        "        Theta -= alpha * grad_func(X_pre, H, Y)\n",
        "        couts.append(J_func(H, Y))\n",
        "    \n",
        "    return Theta, mean, std, couts\n",
        "\n",
        "X_tn = np.array([[0., 0.], [1., 0.], [0., 1.], [1., 1.]])\n",
        "Y_tn = np.array([[1,0,0], [0,1,0], [0,0,1], [1,0,0]])\n",
        "Theta_tn = np.array([[0.5, 0.2], [0.1, 0.3], [0.6, 0.]])\n",
        "\n",
        "theta_n, mean_n, std_n, couts_n = entrainer_n(X_tn, Y_tn, const=False)\n",
        "\n",
        "theta_n, mean_n, std_n, couts_n[-1]"
      ],
      "execution_count": null,
      "outputs": [
        {
          "output_type": "execute_result",
          "data": {
            "text/plain": [
              "(array([[ 5.55111512e-17, -2.77555756e-17],\n",
              "        [ 2.32810552e+00, -2.32810552e+00],\n",
              "        [-2.32810552e+00,  2.32810552e+00]]),\n",
              " array([0.5, 0.5]),\n",
              " array([0.5, 0.5]),\n",
              " 0.5541027976268512)"
            ]
          },
          "metadata": {},
          "execution_count": 11
        }
      ]
    },
    {
      "cell_type": "markdown",
      "metadata": {
        "id": "pK4_92TyfzI6"
      },
      "source": [
        "### 1.6- Prediction \n",
        "\n",
        "Given a threshold and probabilities, for each probability we return 1 if it exceeds or equals the threshold, 0 otherwise. "
      ]
    },
    {
      "cell_type": "code",
      "metadata": {
        "id": "U6HVsqK3fzI6",
        "colab": {
          "base_uri": "https://localhost:8080/"
        },
        "outputId": "d53dc8f6-70e6-45cc-ffb0-b338681dd570"
      },
      "source": [
        "# H is a vector of probabilities \n",
        "def predire_n(H): \n",
        "    predic = []\n",
        "    for row in H:\n",
        "        predic.append( row >= np.amax(row))\n",
        "    return np.array(predic).astype(int)\n",
        "\n",
        "predire_n(h_n(X_tn, Theta_tn))"
      ],
      "execution_count": null,
      "outputs": [
        {
          "output_type": "execute_result",
          "data": {
            "text/plain": [
              "array([[1, 1, 1],\n",
              "       [0, 0, 1],\n",
              "       [0, 1, 0],\n",
              "       [1, 0, 0]])"
            ]
          },
          "metadata": {},
          "execution_count": 12
        }
      ]
    },
    {
      "cell_type": "markdown",
      "metadata": {
        "id": "34QTOgnXfzI7"
      },
      "source": [
        "### 1.7- Grouping functions together \n",
        "\n",
        "In order to manage training and prediction, we group the functions you have implemented in a single class. The interest: \n",
        "- If we apply normalization during training, we must also apply it during prediction. Moreover, we have to use the same parameters (mean and standard deviation)\n",
        "- We use the optimal thetas during the prediction\n"
      ]
    },
    {
      "cell_type": "code",
      "metadata": {
        "id": "MtkZRZPCfzI8",
        "colab": {
          "base_uri": "https://localhost:8080/"
        },
        "outputId": "33d1417f-ba87-498f-9c7b-57dd40193be5"
      },
      "source": [
        "class MaxEnt(object):\n",
        "    \n",
        "    def __init__(self, nbr_iter=100, alpha=1., theta_func=generer_zeros_2, norm=True, const=True): \n",
        "        self.nbr_iter = nbr_iter\n",
        "        self.alpha = alpha\n",
        "        self.theta_func = theta_func\n",
        "        self.norm = norm\n",
        "        self.const = const\n",
        "    \n",
        "    def entrainer(self, X, Y): \n",
        "        #encoder = OneHotEncoder(sparse=False)\n",
        "        #self.yencoder = encoder.fit(Y)\n",
        "        # Y = self.yencoder.transform(Y)\n",
        "        self.Theta, self.mean, self.std, self.couts = entrainer_n(X, Y, \n",
        "                                                                  nbr_iter=self.nbr_iter, \n",
        "                                                                  alpha=self.alpha, \n",
        "                                                                  theta_func=self.theta_func, \n",
        "                                                                  norm=self.norm, \n",
        "                                                                  const=self.const)\n",
        "        \n",
        "        \n",
        "    # The prediction\n",
        "    # if prob=True it returns a vector of probabilities\n",
        "    # otherwise it returns a vector of 1 and 0\n",
        "    def predire(self, X, prob=True, seuil=0.5):\n",
        "        H = h_n(X, self.Theta, self.mean, self.std, self.const)\n",
        "        if prob:\n",
        "            return H\n",
        "        return predire_n(H, seuil=seuil)\n",
        "\n",
        "X_tn = np.array([[0., 0.], [1., 0.], [0., 1.], [1., 1.]])\n",
        "Y_tn = np.array([[1,0,0], [0,1,0], [0,0,1], [1,0,0]])\n",
        "Theta_tn = np.array([[0.5, 0.2], [0.1, 0.3], [0.6, 0.]])\n",
        "\n",
        "maxent = MaxEnt(const=False)\n",
        "maxent.entrainer(X_tn, Y_tn)\n",
        "maxent.predire(np.array([[2., -2.],[-1., 1.]]))"
      ],
      "execution_count": null,
      "outputs": [
        {
          "output_type": "execute_result",
          "data": {
            "text/plain": [
              "array([[1.80328326e-02, 9.81635901e-01, 3.31266462e-04],\n",
              "       [1.80328326e-02, 3.31266462e-04, 9.81635901e-01]])"
            ]
          },
          "metadata": {},
          "execution_count": 13
        }
      ]
    },
    {
      "cell_type": "markdown",
      "metadata": {
        "id": "k14wPIXyfzI8"
      },
      "source": [
        "## 2- Application on a real example\n",
        "\n",
        "We will use [Iris dataset](https://archive.ics.uci.edu/ml/datasets/iris) to classify flowers in three classes, using 4 features. For simplification, we will use only 2 features: Petal Length (cm); Petal Width (cm). According to [This tutorial](https://teddykoker.com/2019/06/multi-class-classification-with-logistic-regression-in-python/) these 2 characteristics are sufficient.\n",
        "\n",
        "Two solutions to analyze: \n",
        "- Train 3 binary logistic regression models\n",
        "- Train 1 multinomial logistic regression model "
      ]
    },
    {
      "cell_type": "code",
      "metadata": {
        "id": "4AcBhRcPfzI9",
        "colab": {
          "base_uri": "https://localhost:8080/",
          "height": 206
        },
        "outputId": "28744311-c819-4082-eb05-c528ee22a02e"
      },
      "source": [
        "iris = pd.read_csv(\"datasets/iris.csv\")\n",
        "iris = iris.sample(frac=1)\n",
        "iris.head()"
      ],
      "execution_count": null,
      "outputs": [
        {
          "output_type": "execute_result",
          "data": {
            "text/html": [
              "<div>\n",
              "<style scoped>\n",
              "    .dataframe tbody tr th:only-of-type {\n",
              "        vertical-align: middle;\n",
              "    }\n",
              "\n",
              "    .dataframe tbody tr th {\n",
              "        vertical-align: top;\n",
              "    }\n",
              "\n",
              "    .dataframe thead th {\n",
              "        text-align: right;\n",
              "    }\n",
              "</style>\n",
              "<table border=\"1\" class=\"dataframe\">\n",
              "  <thead>\n",
              "    <tr style=\"text-align: right;\">\n",
              "      <th></th>\n",
              "      <th>sepal_length</th>\n",
              "      <th>sepal_width</th>\n",
              "      <th>petal_length</th>\n",
              "      <th>petal_width</th>\n",
              "      <th>class</th>\n",
              "    </tr>\n",
              "  </thead>\n",
              "  <tbody>\n",
              "    <tr>\n",
              "      <th>71</th>\n",
              "      <td>6.1</td>\n",
              "      <td>2.8</td>\n",
              "      <td>4.0</td>\n",
              "      <td>1.3</td>\n",
              "      <td>Iris-versicolor</td>\n",
              "    </tr>\n",
              "    <tr>\n",
              "      <th>38</th>\n",
              "      <td>4.4</td>\n",
              "      <td>3.0</td>\n",
              "      <td>1.3</td>\n",
              "      <td>0.2</td>\n",
              "      <td>Iris-setosa</td>\n",
              "    </tr>\n",
              "    <tr>\n",
              "      <th>22</th>\n",
              "      <td>4.6</td>\n",
              "      <td>3.6</td>\n",
              "      <td>1.0</td>\n",
              "      <td>0.2</td>\n",
              "      <td>Iris-setosa</td>\n",
              "    </tr>\n",
              "    <tr>\n",
              "      <th>23</th>\n",
              "      <td>5.1</td>\n",
              "      <td>3.3</td>\n",
              "      <td>1.7</td>\n",
              "      <td>0.5</td>\n",
              "      <td>Iris-setosa</td>\n",
              "    </tr>\n",
              "    <tr>\n",
              "      <th>14</th>\n",
              "      <td>5.8</td>\n",
              "      <td>4.0</td>\n",
              "      <td>1.2</td>\n",
              "      <td>0.2</td>\n",
              "      <td>Iris-setosa</td>\n",
              "    </tr>\n",
              "  </tbody>\n",
              "</table>\n",
              "</div>"
            ],
            "text/plain": [
              "    sepal_length  sepal_width  petal_length  petal_width            class\n",
              "71           6.1          2.8           4.0          1.3  Iris-versicolor\n",
              "38           4.4          3.0           1.3          0.2      Iris-setosa\n",
              "22           4.6          3.6           1.0          0.2      Iris-setosa\n",
              "23           5.1          3.3           1.7          0.5      Iris-setosa\n",
              "14           5.8          4.0           1.2          0.2      Iris-setosa"
            ]
          },
          "metadata": {},
          "execution_count": 14
        }
      ]
    },
    {
      "cell_type": "code",
      "metadata": {
        "id": "V3AafEupfzI9",
        "colab": {
          "base_uri": "https://localhost:8080/",
          "height": 206
        },
        "outputId": "d340325a-2587-4c50-ef4e-dba75d60192e"
      },
      "source": [
        "if iris.shape[1] > 3:\n",
        "    iris.drop([\"sepal_length\", \"sepal_width\"], axis = 1, inplace=True)\n",
        "iris.head()"
      ],
      "execution_count": null,
      "outputs": [
        {
          "output_type": "execute_result",
          "data": {
            "text/html": [
              "<div>\n",
              "<style scoped>\n",
              "    .dataframe tbody tr th:only-of-type {\n",
              "        vertical-align: middle;\n",
              "    }\n",
              "\n",
              "    .dataframe tbody tr th {\n",
              "        vertical-align: top;\n",
              "    }\n",
              "\n",
              "    .dataframe thead th {\n",
              "        text-align: right;\n",
              "    }\n",
              "</style>\n",
              "<table border=\"1\" class=\"dataframe\">\n",
              "  <thead>\n",
              "    <tr style=\"text-align: right;\">\n",
              "      <th></th>\n",
              "      <th>petal_length</th>\n",
              "      <th>petal_width</th>\n",
              "      <th>class</th>\n",
              "    </tr>\n",
              "  </thead>\n",
              "  <tbody>\n",
              "    <tr>\n",
              "      <th>71</th>\n",
              "      <td>4.0</td>\n",
              "      <td>1.3</td>\n",
              "      <td>Iris-versicolor</td>\n",
              "    </tr>\n",
              "    <tr>\n",
              "      <th>38</th>\n",
              "      <td>1.3</td>\n",
              "      <td>0.2</td>\n",
              "      <td>Iris-setosa</td>\n",
              "    </tr>\n",
              "    <tr>\n",
              "      <th>22</th>\n",
              "      <td>1.0</td>\n",
              "      <td>0.2</td>\n",
              "      <td>Iris-setosa</td>\n",
              "    </tr>\n",
              "    <tr>\n",
              "      <th>23</th>\n",
              "      <td>1.7</td>\n",
              "      <td>0.5</td>\n",
              "      <td>Iris-setosa</td>\n",
              "    </tr>\n",
              "    <tr>\n",
              "      <th>14</th>\n",
              "      <td>1.2</td>\n",
              "      <td>0.2</td>\n",
              "      <td>Iris-setosa</td>\n",
              "    </tr>\n",
              "  </tbody>\n",
              "</table>\n",
              "</div>"
            ],
            "text/plain": [
              "    petal_length  petal_width            class\n",
              "71           4.0          1.3  Iris-versicolor\n",
              "38           1.3          0.2      Iris-setosa\n",
              "22           1.0          0.2      Iris-setosa\n",
              "23           1.7          0.5      Iris-setosa\n",
              "14           1.2          0.2      Iris-setosa"
            ]
          },
          "metadata": {},
          "execution_count": 15
        }
      ]
    },
    {
      "cell_type": "code",
      "metadata": {
        "id": "w8G2ZPzffzI-",
        "colab": {
          "base_uri": "https://localhost:8080/",
          "height": 280
        },
        "outputId": "2b612591-e412-45e9-f42f-cc1440562a7d"
      },
      "source": [
        "# Feature extraction\n",
        "X_iris = iris.iloc[:, :-1].values # First Column\n",
        "\n",
        "Y_iris = iris.iloc[:,-1].values # Second Column\n",
        "\n",
        "setosa = iris[\"class\"] == \"Iris-setosa\"\n",
        "versicolor = iris[\"class\"] == \"Iris-versicolor\"\n",
        "virginica = iris[\"class\"] == \"Iris-virginica\"\n",
        "\n",
        "plt.scatter(X_iris[setosa, 0], X_iris[setosa, 1], color=\"red\", label=\"Iris-setosa\")\n",
        "plt.scatter(X_iris[versicolor, 0], X_iris[versicolor, 1], color=\"blue\", label=\"Iris-versicolor\")\n",
        "plt.scatter(X_iris[virginica, 0], X_iris[virginica, 1], color=\"green\", label=\"Iris-virginica\")\n",
        "\n",
        "plt.xlabel(\"sepal_length\")\n",
        "plt.ylabel(\"sepal_width\")\n",
        "plt.legend()\n",
        "plt.show()"
      ],
      "execution_count": null,
      "outputs": [
        {
          "output_type": "display_data",
          "data": {
            "image/png": "[encoded data removed]",
            "text/plain": [
              "<Figure size 432x288 with 1 Axes>"
            ]
          },
          "metadata": {
            "needs_background": "light"
          }
        }
      ]
    },
    {
      "cell_type": "code",
      "metadata": {
        "id": "30rKtCN6fzI-"
      },
      "source": [
        "# Randomization of the data to mark the 80% rows\n",
        "# The same mask will be used for both solutions\n",
        "iris_msk = np.random.rand(len(X_iris)) < 0.8 \n",
        "X_iris_train = np.array(X_iris[iris_msk, :], dtype=np.float32)\n",
        "X_iris_test = np.array(X_iris[~iris_msk, :], dtype=np.float32)"
      ],
      "execution_count": null,
      "outputs": []
    },
    {
      "cell_type": "code",
      "metadata": {
        "id": "maldgy-9fzI-",
        "colab": {
          "base_uri": "https://localhost:8080/"
        },
        "outputId": "817a2c20-4063-4e49-acb2-945dd1368769"
      },
      "source": [
        "iris[\"class\"].value_counts()"
      ],
      "execution_count": null,
      "outputs": [
        {
          "output_type": "execute_result",
          "data": {
            "text/plain": [
              "Iris-versicolor    50\n",
              "Iris-setosa        50\n",
              "Iris-virginica     50\n",
              "Name: class, dtype: int64"
            ]
          },
          "metadata": {},
          "execution_count": 18
        }
      ]
    },
    {
      "cell_type": "code",
      "metadata": {
        "id": "wYck7qLqfzI_",
        "colab": {
          "base_uri": "https://localhost:8080/"
        },
        "outputId": "abbc9c56-f4c4-4036-9e6c-d699fbd02b83"
      },
      "source": [
        "# Encoding of classes \n",
        "Y_iris_setosa = (Y_iris == \"Iris-setosa\").astype(int)\n",
        "Y_iris_versicolor = (Y_iris == \"Iris-versicolor\").astype(int)\n",
        "Y_iris_virginica = (Y_iris == \"Iris-virginica\").astype(int)\n",
        "\n",
        "Y_iris_setosa.sum(), Y_iris_versicolor.sum(), Y_iris_virginica.sum()"
      ],
      "execution_count": null,
      "outputs": [
        {
          "output_type": "execute_result",
          "data": {
            "text/plain": [
              "(50, 50, 50)"
            ]
          },
          "metadata": {},
          "execution_count": 19
        }
      ]
    },
    {
      "cell_type": "code",
      "metadata": {
        "id": "xGdFJDxcfzJA",
        "colab": {
          "base_uri": "https://localhost:8080/"
        },
        "outputId": "dd8a115a-ce5e-4143-8342-739ad1423b95"
      },
      "source": [
        "# encode setosa by 1\n",
        "Y_iris_setosa_test = np.array(Y_iris_setosa[~iris_msk], dtype=np.float32)\n",
        "# encode versicolor by 2\n",
        "Y_iris_versicolor_test = np.array(Y_iris_versicolor[~iris_msk], dtype=np.float32) * 2\n",
        "# encode the output by 3\n",
        "Y_iris_virginica_test = np.array(Y_iris_virginica[~iris_msk], dtype=np.float32) * 3\n",
        "# merge the three vectors to have only one with the encoded classes\n",
        "Y_iris_test = Y_iris_setosa_test + Y_iris_versicolor_test + Y_iris_virginica_test \n",
        "Y_iris_test"
      ],
      "execution_count": null,
      "outputs": [
        {
          "output_type": "execute_result",
          "data": {
            "text/plain": [
              "array([2., 1., 2., 1., 2., 3., 2., 1., 1., 3., 3., 3., 1., 2., 2., 2., 3.,\n",
              "       1., 1., 2., 2., 2.], dtype=float32)"
            ]
          },
          "metadata": {},
          "execution_count": 20
        }
      ]
    },
    {
      "cell_type": "markdown",
      "metadata": {
        "id": "n8IX6MLqfzJA"
      },
      "source": [
        "### 2.1- Train 3 binary logistic regression models\n"
      ]
    },
    {
      "cell_type": "code",
      "metadata": {
        "id": "-P9R2YuMfzJB"
      },
      "source": [
        "def generer_zeros_1(nbr):\n",
        "    return np.zeros(nbr)\n",
        "\n",
        "def generer_uns_1(nbr):\n",
        "    return np.ones(nbr)\n",
        "\n",
        "def generer_aleatoire_1(nbr):\n",
        "    return np.random.rand(nbr)\n",
        "\n",
        "def z_1(X, Theta): \n",
        "    return np.dot(X, Theta)\n",
        "\n",
        "def sigmoid(X):\n",
        "    # Activation function used to render real values between 0 and 1 \n",
        "    return  1/(1+np.exp(-X))\n",
        "\n",
        "def h_1(X, Theta, mean=None, std=None, const=False): \n",
        "    norm = (mean is not None) and (std is not None)\n",
        "    X_pre, mean, std = preparer(X, norm, const, mean=mean, std=std)\n",
        "    return sigmoid(z_1(X_pre, Theta))\n",
        "\n",
        "def J_1(H, Y): \n",
        "    ones = np.ones([1, Y.shape[0]])\n",
        "    log_H = np.log(H)\n",
        "    log_1_H = np.log(ones-H)\n",
        "    return ((np.dot(-Y,log_H.T) - np.dot((ones - Y), log_1_H.T))/Y.shape[0])[0]\n",
        "\n",
        "def gradient_1(X, H, Y):\n",
        "    return (np.dot(H-Y,X))/X.shape[0]\n",
        "\n",
        "def entrainer_1(X, Y, norm=True, const=True, nbr_iter=200, alpha=1., eps=0.01, \n",
        "                theta_func=generer_zeros_1, h_func=h_1, J_func=J_1, grad_func=gradient_1): \n",
        "    \n",
        "    X_pre, mean, std = preparer(X, norm, const)\n",
        "    Theta = theta_func(X_pre.shape[1])\n",
        "    \n",
        "    couts = []\n",
        "    couts.append(J_func(h_func(X_pre, Theta), Y))\n",
        "    \n",
        "    for i in range(nbr_iter):\n",
        "        H = h_func(X_pre, Theta)\n",
        "        Theta -= alpha * grad_func(X_pre, H, Y)\n",
        "        couts.append(J_func(H, Y))\n",
        "    \n",
        "    return Theta, mean, std, couts\n",
        "\n",
        "def predire_1(H, seuil=0.5): \n",
        "    return (H >= seuil).astype(int)\n",
        "\n",
        "class RegLogistique(object):\n",
        "    \n",
        "    def __init__(self, nbr_iter=100, alpha=1., theta_func=generer_zeros_1, norm=True, const=True): \n",
        "        self.nbr_iter = nbr_iter\n",
        "        self.alpha = alpha\n",
        "        self.theta_func = theta_func\n",
        "        self.norm = norm\n",
        "        self.const = const\n",
        "    \n",
        "    def entrainer(self, X, Y): \n",
        "        self.Theta, self.mean, self.std, self.couts = entrainer_1(X, Y, \n",
        "                                                                  nbr_iter=self.nbr_iter, \n",
        "                                                                  alpha=self.alpha, \n",
        "                                                                  theta_func=self.theta_func, \n",
        "                                                                  norm=self.norm, \n",
        "                                                                  const=self.const)\n",
        "        \n",
        "    # The prediction\n",
        "    # if prob=True it returns a vector of probabilities\n",
        "    # otherwise it returns a vector of 1 and 0\n",
        "    def predire(self, X, prob=True, seuil=0.5):\n",
        "        H = h_1(X, self.Theta, self.mean, self.std, self.const)\n",
        "        if prob:\n",
        "            return H\n",
        "        return predire_1(H, seuil=seuil)"
      ],
      "execution_count": null,
      "outputs": []
    },
    {
      "cell_type": "code",
      "metadata": {
        "id": "irPm17HQfzJB",
        "colab": {
          "base_uri": "https://localhost:8080/",
          "height": 265
        },
        "outputId": "b7516bfc-f4b4-4ac5-87dc-5ec9784effa9"
      },
      "source": [
        "#model 1\n",
        "Y_iris_setosa_train = np.array(Y_iris_setosa[iris_msk], dtype=np.float32)\n",
        "reg_iris_setosa = RegLogistique()\n",
        "reg_iris_setosa.entrainer(X_iris_train, Y_iris_setosa_train)\n",
        "\n",
        "#model 2\n",
        "Y_iris_versicolor_train = np.array(Y_iris_versicolor[iris_msk], dtype=np.float32)\n",
        "reg_iris_versicolor = RegLogistique()\n",
        "reg_iris_versicolor.entrainer(X_iris_train, Y_iris_versicolor_train)\n",
        "\n",
        "#model 3\n",
        "Y_iris_virginica_train = np.array(Y_iris_virginica[iris_msk], dtype=np.float32)\n",
        "reg_iris_virginica = RegLogistique()\n",
        "reg_iris_virginica.entrainer(X_iris_train, Y_iris_versicolor_train)\n",
        "\n",
        "\n",
        "# Display of the evolution of costs \n",
        "plt.plot(reg_iris_setosa.couts, color=\"red\", label=\"Iris-setosa\")\n",
        "plt.plot(reg_iris_versicolor.couts, color=\"blue\", label=\"Iris-versicolor\")\n",
        "plt.plot(reg_iris_virginica.couts, color=\"green\", label=\"Iris-virginica\")\n",
        "plt.legend()\n",
        "plt.show()"
      ],
      "execution_count": null,
      "outputs": [
        {
          "output_type": "display_data",
          "data": {
            "image/png": "[encoded data removed]",
            "text/plain": [
              "<Figure size 432x288 with 1 Axes>"
            ]
          },
          "metadata": {
            "needs_background": "light"
          }
        }
      ]
    },
    {
      "cell_type": "markdown",
      "metadata": {
        "id": "b5_u67_BfzJE"
      },
      "source": [
        "**Note** : We notice that the model in red, Iris-setosa converges quickly (it needed a smaller number of iterations) with a minimal error rate, but the other model has a very slow convergence with a very high error rate!"
      ]
    },
    {
      "cell_type": "markdown",
      "metadata": {
        "id": "Y-EQBoWUfzJE"
      },
      "source": [
        "### 2.2- Train 1 multinomial logistic regression model\n"
      ]
    },
    {
      "cell_type": "code",
      "metadata": {
        "id": "zr5fzfvffzJE",
        "colab": {
          "base_uri": "https://localhost:8080/"
        },
        "outputId": "8541cf0d-1e12-435e-9586-5a3f3c7f34d4"
      },
      "source": [
        "# Encoding of classes (we can use OneHotEncoder from scikit-learn)\n",
        "# Here, we will implement it using numpy to understand how the encoding works \n",
        "Y_iris_onehot_train = np.column_stack((Y_iris_setosa_train, Y_iris_versicolor_train, Y_iris_virginica_train))\n",
        "\n",
        "Y_iris_onehot_train[:4, :], Y_iris[:4]"
      ],
      "execution_count": null,
      "outputs": [
        {
          "output_type": "execute_result",
          "data": {
            "text/plain": [
              "(array([[1., 0., 0.],\n",
              "        [1., 0., 0.],\n",
              "        [1., 0., 0.],\n",
              "        [1., 0., 0.]], dtype=float32),\n",
              " array(['Iris-versicolor', 'Iris-setosa', 'Iris-setosa', 'Iris-setosa'],\n",
              "       dtype=object))"
            ]
          },
          "metadata": {},
          "execution_count": 23
        }
      ]
    },
    {
      "cell_type": "code",
      "metadata": {
        "scrolled": true,
        "id": "k2xustAMfzJF",
        "colab": {
          "base_uri": "https://localhost:8080/",
          "height": 265
        },
        "outputId": "29356d41-0544-4a9e-c616-19aa30ae1e0e"
      },
      "source": [
        "maxent_iris = MaxEnt()\n",
        "maxent_iris.entrainer(X_iris_train, Y_iris_onehot_train)\n",
        "\n",
        "\n",
        "# Display of the evolution of the costs \n",
        "plt.plot(reg_iris_setosa.couts, color=\"green\", label=\"Binaire: Iris-setosa\")\n",
        "plt.plot(maxent_iris.couts, color=\"red\", label=\"Maxent: les 3 classes\")\n",
        "plt.legend()\n",
        "plt.show()"
      ],
      "execution_count": null,
      "outputs": [
        {
          "output_type": "display_data",
          "data": {
            "image/png": "[encoded data removed]",
            "text/plain": [
              "<Figure size 432x288 with 1 Axes>"
            ]
          },
          "metadata": {
            "needs_background": "light"
          }
        }
      ]
    },
    {
      "cell_type": "markdown",
      "metadata": {
        "id": "ypZ7It7KfzJG"
      },
      "source": [
        "**Note**: We notice that the convergence of the binary model is faster than that of the multiple logistics, and that the binary model gives a smaller error rate!"
      ]
    },
    {
      "cell_type": "code",
      "metadata": {
        "id": "yqKOuR5HfzJG",
        "colab": {
          "base_uri": "https://localhost:8080/",
          "height": 265
        },
        "outputId": "b1b4d68d-1cb1-45b5-f667-091fea0c3094"
      },
      "source": [
        "# We train a Maxent model without letting it converge\n",
        "# number of iterations 20\n",
        "maxent20_iris = MaxEnt(nbr_iter=20)\n",
        "maxent20_iris.entrainer(X_iris_train, Y_iris_onehot_train)\n",
        "\n",
        "\n",
        "#Displaying the evolution of the costs \n",
        "plt.plot(maxent20_iris.couts, color=\"red\", label=\"Maxent: 20 iter\")\n",
        "plt.legend()\n",
        "plt.show()"
      ],
      "execution_count": null,
      "outputs": [
        {
          "output_type": "display_data",
          "data": {
            "image/png": "[encoded data removed]",
            "text/plain": [
              "<Figure size 432x288 with 1 Axes>"
            ]
          },
          "metadata": {
            "needs_background": "light"
          }
        }
      ]
    },
    {
      "cell_type": "markdown",
      "metadata": {
        "id": "LiXiyEknfzJG"
      },
      "source": [
        "### 2.3- Test and compare the two solutions \n",
        "\n",
        "\n"
      ]
    },
    {
      "cell_type": "code",
      "metadata": {
        "id": "11rBlb2pfzJG",
        "colab": {
          "base_uri": "https://localhost:8080/"
        },
        "outputId": "3a01b9f2-1b83-4c30-e027-5f1aed0667bd"
      },
      "source": [
        "# Probability prediction with the three binary models\n",
        "#model 1\n",
        "iris_setosa_prob = reg_iris_setosa.predire(X_iris_test)\n",
        "#model 2\n",
        "iris_versicolor_prob = reg_iris_versicolor.predire(X_iris_test)\n",
        "#model 3\n",
        "iris_virginica_prob = reg_iris_virginica.predire(X_iris_test)\n",
        "\n",
        "# merge the probabilities into a matrix\n",
        "iris_modeles3_prob = np.column_stack((iris_setosa_prob, iris_versicolor_prob, iris_virginica_prob))\n",
        "\n",
        "# encoding of outputs in 1, 2, 3\n",
        "iris_modeles3_test = np.argmax(iris_modeles3_prob, axis=1) + 1\n",
        "\n",
        "iris_modeles3_test"
      ],
      "execution_count": null,
      "outputs": [
        {
          "output_type": "execute_result",
          "data": {
            "text/plain": [
              "array([2, 1, 2, 1, 2, 2, 2, 1, 1, 2, 2, 2, 1, 2, 2, 1, 2, 1, 1, 2, 2, 2])"
            ]
          },
          "metadata": {},
          "execution_count": 28
        }
      ]
    },
    {
      "cell_type": "code",
      "metadata": {
        "id": "DTy9gXhpfzJG",
        "colab": {
          "base_uri": "https://localhost:8080/"
        },
        "outputId": "8738825d-99fb-47ad-bc99-4ee46840b0bc"
      },
      "source": [
        "# Prediction of probabilities with the multinomial model\n",
        "iris_maxent_prob = maxent_iris.predire(X_iris_test)\n",
        "\n",
        "# encoding of the outputs in 1, 2, 3\n",
        "iris_maxent_test = np.argmax(iris_maxent_prob, axis=1) + 1\n",
        "\n",
        "iris_maxent_test"
      ],
      "execution_count": null,
      "outputs": [
        {
          "output_type": "execute_result",
          "data": {
            "text/plain": [
              "array([2, 1, 2, 1, 2, 3, 2, 1, 1, 3, 3, 3, 1, 2, 3, 2, 3, 1, 1, 2, 3, 2])"
            ]
          },
          "metadata": {},
          "execution_count": 29
        }
      ]
    },
    {
      "cell_type": "code",
      "metadata": {
        "id": "u2sV1D3afzJH",
        "colab": {
          "base_uri": "https://localhost:8080/"
        },
        "outputId": "d25c46c9-d402-4517-bf99-447377ce9f9c"
      },
      "source": [
        "# Prediction of probabilities with the multinomial model with 5 iterations\n",
        "iris_maxent20_prob = maxent20_iris.predire(X_iris_test)\n",
        "\n",
        "# encoding of the outputs in 1, 2, 3\n",
        "iris_maxent20_test = np.argmax(iris_maxent20_prob, axis=1) + 1\n",
        "\n",
        "iris_maxent20_test"
      ],
      "execution_count": null,
      "outputs": [
        {
          "output_type": "execute_result",
          "data": {
            "text/plain": [
              "array([2, 1, 2, 1, 2, 3, 2, 1, 1, 3, 3, 3, 1, 2, 3, 2, 3, 1, 1, 2, 3, 2])"
            ]
          },
          "metadata": {},
          "execution_count": 30
        }
      ]
    },
    {
      "cell_type": "code",
      "metadata": {
        "id": "2Upwx_7NfzJH",
        "colab": {
          "base_uri": "https://localhost:8080/"
        },
        "outputId": "8f4598a1-1d83-4e24-8e7d-013e788677cb"
      },
      "source": [
        "from sklearn.metrics import classification_report\n",
        "class_names = [\"setosa\", \"versicolor\", \"virginica\"]\n",
        "\n",
        "# By 3 models\n",
        "print(\"Using 3 binary regression models\")\n",
        "print(classification_report(Y_iris_test, iris_modeles3_test, target_names=class_names))\n",
        "\n",
        "# By 1 multinomial model\n",
        "print(\"Using 1 multinomial regression model\")\n",
        "print(classification_report(Y_iris_test, iris_maxent_test, target_names=class_names))\n",
        "\n",
        "# By 1 multinomial model (20 iterations)\n",
        "print(\"Using 1 multinomial regression model (20 iterations)\")\n",
        "print(classification_report(Y_iris_test, iris_maxent20_test, target_names=class_names))\n",
        "\n",
        "# Ignore the Warning at the bottom"
      ],
      "execution_count": null,
      "outputs": [
        {
          "output_type": "stream",
          "name": "stdout",
          "text": [
            "Using 3 binary regression models\n",
            "              precision    recall  f1-score   support\n",
            "\n",
            "      setosa       0.88      1.00      0.93         7\n",
            "  versicolor       0.64      0.90      0.75        10\n",
            "   virginica       0.00      0.00      0.00         5\n",
            "\n",
            "    accuracy                           0.73        22\n",
            "   macro avg       0.51      0.63      0.56        22\n",
            "weighted avg       0.57      0.73      0.64        22\n",
            "\n",
            "Using 1 multinomial regression model\n",
            "              precision    recall  f1-score   support\n",
            "\n",
            "      setosa       1.00      1.00      1.00         7\n",
            "  versicolor       1.00      0.80      0.89        10\n",
            "   virginica       0.71      1.00      0.83         5\n",
            "\n",
            "    accuracy                           0.91        22\n",
            "   macro avg       0.90      0.93      0.91        22\n",
            "weighted avg       0.94      0.91      0.91        22\n",
            "\n",
            "Using 1 multinomial regression model (20 iterations)\n",
            "              precision    recall  f1-score   support\n",
            "\n",
            "      setosa       1.00      1.00      1.00         7\n",
            "  versicolor       1.00      0.80      0.89        10\n",
            "   virginica       0.71      1.00      0.83         5\n",
            "\n",
            "    accuracy                           0.91        22\n",
            "   macro avg       0.90      0.93      0.91        22\n",
            "weighted avg       0.94      0.91      0.91        22\n",
            "\n"
          ]
        },
        {
          "output_type": "stream",
          "name": "stderr",
          "text": [
            "/usr/local/lib/python3.7/dist-packages/sklearn/metrics/_classification.py:1308: UndefinedMetricWarning: Precision and F-score are ill-defined and being set to 0.0 in labels with no predicted samples. Use `zero_division` parameter to control this behavior.\n",
            "  _warn_prf(average, modifier, msg_start, len(result))\n",
            "/usr/local/lib/python3.7/dist-packages/sklearn/metrics/_classification.py:1308: UndefinedMetricWarning: Precision and F-score are ill-defined and being set to 0.0 in labels with no predicted samples. Use `zero_division` parameter to control this behavior.\n",
            "  _warn_prf(average, modifier, msg_start, len(result))\n",
            "/usr/local/lib/python3.7/dist-packages/sklearn/metrics/_classification.py:1308: UndefinedMetricWarning: Precision and F-score are ill-defined and being set to 0.0 in labels with no predicted samples. Use `zero_division` parameter to control this behavior.\n",
            "  _warn_prf(average, modifier, msg_start, len(result))\n"
          ]
        }
      ]
    },
    {
      "cell_type": "markdown",
      "metadata": {
        "id": "UDChufJefzJI"
      },
      "source": [
        "**Note** :   \n",
        "\n",
        "\n",
        "**3 binary regression models Accuracy** 62% **Convergence** Slow  \n",
        "**Multinomial regression model** **Accuracy** 94 **Convergence** Fast"
      ]
    }
  ]
}