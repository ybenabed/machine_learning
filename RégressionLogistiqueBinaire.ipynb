{
  "nbformat": 4,
  "nbformat_minor": 0,
  "metadata": {
    "kernelspec": {
      "name": "python3",
      "display_name": "Python 3"
    },
    "colab": {
      "name": "RégressionLogistiqueBinaire.ipynb",
      "provenance": [],
      "collapsed_sections": [
        "6iSsdUIRdtPs",
        "cIPuHrtddtPu",
        "2wA5jmkAdtPv",
        "mKSRMGUadtPw",
        "KHxX-NqhdtPx",
        "oe8YuJqCdtP4",
        "iRY1l-GhdtP8",
        "x0k803nFdtP9",
        "EoDuTmxTdtP_"
      ]
    },
    "language_info": {
      "name": "python"
    }
  },
  "cells": [
    {
      "cell_type": "markdown",
      "metadata": {
        "id": "1CNFc_MLQMH8"
      },
      "source": [
        "You can view this notebook in Google Colab by clicking on [this link](https://colab.research.google.com/drive/11toT7lZQ8E9m3wT76_58HH4blpNsNwnz?usp=sharing). (Some of Latex expressions can't be displayed out of Google Colab)"
      ]
    },
    {
      "cell_type": "markdown",
      "metadata": {
        "id": "BRctF_andtPJ"
      },
      "source": [
        "# Binary logistic regression \n"
      ]
    },
    {
      "cell_type": "code",
      "metadata": {
        "id": "vd9rG7YjdtPR"
      },
      "source": [
        "import numpy as np\n",
        "import pandas as pd \n",
        "import matplotlib.pyplot as plt \n",
        "%matplotlib inline"
      ],
      "execution_count": null,
      "outputs": []
    },
    {
      "cell_type": "markdown",
      "metadata": {
        "id": "ENahS6BCd48V"
      },
      "source": [
        "## Download the datasets"
      ]
    },
    {
      "cell_type": "code",
      "metadata": {
        "colab": {
          "base_uri": "https://localhost:8080/"
        },
        "id": "cdAotANLd4H9",
        "outputId": "ea80d09a-7c45-4806-d4f5-70849b1eb817"
      },
      "source": [
        "! mkdir datasets\n",
        "! wget -c \"https://drive.google.com/uc?export=download&id=1yUWTLy4uzgTlLXCbenlcl1wJy2DNvcH7\" -O datasets/notes.csv\n",
        "! wget -c \"https://drive.google.com/uc?export=download&id=1TTCB1qT0lAp-jAhTL5hNr_9qKCy8JQr6\" -O datasets/COVID19_line_list_data.csv"
      ],
      "execution_count": null,
      "outputs": [
        {
          "output_type": "stream",
          "name": "stdout",
          "text": [
            "--2021-11-26 20:54:32--  https://drive.google.com/uc?export=download&id=1yUWTLy4uzgTlLXCbenlcl1wJy2DNvcH7\n",
            "Resolving drive.google.com (drive.google.com)... 173.194.69.138, 173.194.69.100, 173.194.69.102, ...\n",
            "Connecting to drive.google.com (drive.google.com)|173.194.69.138|:443... connected.\n",
            "HTTP request sent, awaiting response... 302 Moved Temporarily\n",
            "Location: https://doc-0c-8o-docs.googleusercontent.com/docs/securesc/ha0ro937gcuc7l7deffksulhg5h7mbp1/pe7j42a76j9b4tfdj1f1fkcgv5mc5t79/1637960025000/02428432253297012158/*/1yUWTLy4uzgTlLXCbenlcl1wJy2DNvcH7?e=download [following]\n",
            "Warning: wildcards not supported in HTTP.\n",
            "--2021-11-26 20:54:33--  https://doc-0c-8o-docs.googleusercontent.com/docs/securesc/ha0ro937gcuc7l7deffksulhg5h7mbp1/pe7j42a76j9b4tfdj1f1fkcgv5mc5t79/1637960025000/02428432253297012158/*/1yUWTLy4uzgTlLXCbenlcl1wJy2DNvcH7?e=download\n",
            "Resolving doc-0c-8o-docs.googleusercontent.com (doc-0c-8o-docs.googleusercontent.com)... 142.250.153.132, 2a00:1450:4013:c16::84\n",
            "Connecting to doc-0c-8o-docs.googleusercontent.com (doc-0c-8o-docs.googleusercontent.com)|142.250.153.132|:443... connected.\n",
            "HTTP request sent, awaiting response... 200 OK\n",
            "Length: 1234 (1.2K) [text/csv]\n",
            "Saving to: ‘datasets/notes.csv’\n",
            "\n",
            "datasets/notes.csv  100%[===================>]   1.21K  --.-KB/s    in 0s      \n",
            "\n",
            "2021-11-26 20:54:33 (48.9 MB/s) - ‘datasets/notes.csv’ saved [1234/1234]\n",
            "\n",
            "--2021-11-26 20:54:33--  https://drive.google.com/uc?export=download&id=1TTCB1qT0lAp-jAhTL5hNr_9qKCy8JQr6\n",
            "Resolving drive.google.com (drive.google.com)... 173.194.69.102, 173.194.69.138, 173.194.69.139, ...\n",
            "Connecting to drive.google.com (drive.google.com)|173.194.69.102|:443... connected.\n",
            "HTTP request sent, awaiting response... 302 Moved Temporarily\n",
            "Location: https://doc-0s-8o-docs.googleusercontent.com/docs/securesc/ha0ro937gcuc7l7deffksulhg5h7mbp1/0n76o6i2ev6spgdt5obv10had533ubjf/1637960025000/02428432253297012158/*/1TTCB1qT0lAp-jAhTL5hNr_9qKCy8JQr6?e=download [following]\n",
            "Warning: wildcards not supported in HTTP.\n",
            "--2021-11-26 20:54:34--  https://doc-0s-8o-docs.googleusercontent.com/docs/securesc/ha0ro937gcuc7l7deffksulhg5h7mbp1/0n76o6i2ev6spgdt5obv10had533ubjf/1637960025000/02428432253297012158/*/1TTCB1qT0lAp-jAhTL5hNr_9qKCy8JQr6?e=download\n",
            "Resolving doc-0s-8o-docs.googleusercontent.com (doc-0s-8o-docs.googleusercontent.com)... 142.250.153.132, 2a00:1450:4013:c16::84\n",
            "Connecting to doc-0s-8o-docs.googleusercontent.com (doc-0s-8o-docs.googleusercontent.com)|142.250.153.132|:443... connected.\n",
            "HTTP request sent, awaiting response... 200 OK\n",
            "Length: 367467 (359K) [text/csv]\n",
            "Saving to: ‘datasets/COVID19_line_list_data.csv’\n",
            "\n",
            "datasets/COVID19_li 100%[===================>] 358.85K  --.-KB/s    in 0.003s  \n",
            "\n",
            "2021-11-26 20:54:34 (118 MB/s) - ‘datasets/COVID19_line_list_data.csv’ saved [367467/367467]\n",
            "\n"
          ]
        }
      ]
    },
    {
      "cell_type": "markdown",
      "metadata": {
        "id": "6_AZGVUJdtPW"
      },
      "source": [
        "## 1- Implementation "
      ]
    },
    {
      "cell_type": "code",
      "metadata": {
        "id": "UulYrqHedtPY"
      },
      "source": [
        "# Data to test functions\n",
        "# Unit tests\n",
        "X_t = np.array([[2., -8.], [1., -2.], [1., 2.]])\n",
        "Y_t = np.array([0., 1., 1.])\n",
        "Theta_t = np.array([0.5, 0.25])"
      ],
      "execution_count": null,
      "outputs": []
    },
    {
      "cell_type": "markdown",
      "metadata": {
        "id": "lO7O2g1RdtPc"
      },
      "source": [
        "### 1.1- Utils"
      ]
    },
    {
      "cell_type": "code",
      "metadata": {
        "colab": {
          "base_uri": "https://localhost:8080/"
        },
        "id": "QgI-8fljdtPd",
        "outputId": "45cf8e55-9e18-4507-8392-57a6bf6899c6"
      },
      "source": [
        "# a function that normalizes a matrix on each column \n",
        "# in the training, we calculate the averages and the deviations of each column\n",
        "# in the test, we do not have to recalculate these two parameters. \n",
        "# But, we must use those calculated in the training\n",
        "def normaliser(X, mean=None, std=None): \n",
        "    if (mean is None) or (std is None): \n",
        "        mean = np.mean(X, axis=0)\n",
        "        std = np.std(X, axis=0)\n",
        "    X_norm = (X - mean)/std\n",
        "    return X_norm, mean, std\n",
        "\n",
        "\n",
        "normaliser(X_t)\n",
        "#normaliser(X_t, 1, 4)"
      ],
      "execution_count": null,
      "outputs": [
        {
          "output_type": "execute_result",
          "data": {
            "text/plain": [
              "(array([[ 1.41421356, -1.29777137],\n",
              "        [-0.70710678,  0.16222142],\n",
              "        [-0.70710678,  1.13554995]]),\n",
              " array([ 1.33333333, -2.66666667]),\n",
              " array([0.47140452, 4.10960934]))"
            ]
          },
          "metadata": {},
          "execution_count": 6
        }
      ]
    },
    {
      "cell_type": "code",
      "metadata": {
        "colab": {
          "base_uri": "https://localhost:8080/"
        },
        "id": "c6TeUeCTdtPg",
        "outputId": "a2a717d3-5573-4406-cf34-bc2222e1f05a"
      },
      "source": [
        "# Prepare the features matrix for training or prediction\n",
        "# We apply the normalization on each column (except if : norm=False)\n",
        "# Then we add a column of 1's (except if : const=False)\n",
        "def preparer(X, norm=True, const=True, mean=None, std=None): \n",
        "    X_pre = X.copy()\n",
        "    if norm: \n",
        "        X_pre, mean, std = normaliser(X_pre)\n",
        "    if const:\n",
        "        X_pre = np.append(np.ones((X_pre.shape[0],1)), X_pre ,axis=1)\n",
        "    return X_pre, mean, std\n",
        "\n",
        "preparer(X_t)\n",
        "#preparer(X_t, norm=False)\n",
        "#preparer(X_t, const=False)"
      ],
      "execution_count": null,
      "outputs": [
        {
          "output_type": "execute_result",
          "data": {
            "text/plain": [
              "(array([[ 1.        ,  1.41421356, -1.29777137],\n",
              "        [ 1.        , -0.70710678,  0.16222142],\n",
              "        [ 1.        , -0.70710678,  1.13554995]]),\n",
              " array([ 1.33333333, -2.66666667]),\n",
              " array([0.47140452, 4.10960934]))"
            ]
          },
          "metadata": {},
          "execution_count": 7
        }
      ]
    },
    {
      "cell_type": "code",
      "metadata": {
        "colab": {
          "base_uri": "https://localhost:8080/"
        },
        "id": "7KUdDlDAdtPi",
        "outputId": "f5905d07-3e95-4f11-9e43-a6c9b4f30274"
      },
      "source": [
        "# Define functions that generate vectors or matrices\n",
        "# These functions will be used to generate Thetas\n",
        "\n",
        "def generer_zeros_1(nbr):\n",
        "    return np.zeros(nbr)\n",
        "\n",
        "def generer_uns_1(nbr):\n",
        "    return np.ones(nbr)\n",
        "\n",
        "def generer_aleatoire_1(nbr):\n",
        "    return np.random.rand(nbr)\n",
        "    \n",
        "generer_zeros_1(2), generer_uns_1(2), generer_aleatoire_1(2)"
      ],
      "execution_count": null,
      "outputs": [
        {
          "output_type": "execute_result",
          "data": {
            "text/plain": [
              "(array([0., 0.]), array([1., 1.]), array([0.41394689, 0.51279155]))"
            ]
          },
          "metadata": {},
          "execution_count": 8
        }
      ]
    },
    {
      "cell_type": "code",
      "metadata": {
        "id": "g2f_iXhUdtPk"
      },
      "source": [
        "def afficher_2(X, Y, L=None, Y_labels=[\"Admis\", \"Non admis\"], X_labels=[\"Note 1\", \"Note 2\"]):\n",
        "    oui = Y == 1\n",
        "    plt.scatter(X[oui, 0], X[oui, 1], color=\"green\", marker=\"o\", label=Y_labels[0])\n",
        "    plt.scatter(X[~oui, 0], X[~oui, 1], color=\"red\", marker=\"x\", label=Y_labels[1])\n",
        "    if L is not None:\n",
        "        x_values, y_values = L\n",
        "        plt.plot(x_values, y_values, label=\"ligne de decision\")\n",
        "    plt.xlabel(X_labels[0])\n",
        "    plt.ylabel(X_labels[1])\n",
        "    plt.legend()\n",
        "    plt.show()"
      ],
      "execution_count": null,
      "outputs": []
    },
    {
      "cell_type": "code",
      "metadata": {
        "id": "l1osBNaVdtPm"
      },
      "source": [
        "# th0 + th1 * x1 + th2 * x2 = 0\n",
        "def ligne_decision(X, Theta):\n",
        "    X1 = [np.min(X[:,0]), np.max(X[:,0])]\n",
        "    X2 = np.max(X[:,1])\n",
        "    X2_min = X2 - (Theta[0] + Theta[1] * X1[0]) / Theta[2]\n",
        "    X2_max = X2 - (Theta[0] + Theta[1] * X1[1]) / Theta[2]\n",
        "    return X1, [X2_min, X2_max]"
      ],
      "execution_count": null,
      "outputs": []
    },
    {
      "cell_type": "markdown",
      "metadata": {
        "id": "fi1OC82rdtPn"
      },
      "source": [
        "### 1.2- Linear combination\n",
        "We combine the m characteristics linearly\n",
        "\n",
        "$$z=\\theta_0+\\sum\\limits_{i=1}^{m} \\theta_i x_i = \\theta^T X$$"
      ]
    },
    {
      "cell_type": "code",
      "metadata": {
        "colab": {
          "base_uri": "https://localhost:8080/"
        },
        "id": "jRlLgXLXdtPo",
        "outputId": "810be579-dd69-44ec-e7a1-2b52806587aa"
      },
      "source": [
        "# The function that calculates the linear combination between the characteristics\n",
        "def z_1(X, Theta): \n",
        "    return np.dot(X, Theta)\n",
        "\n",
        "z_1(X_t, Theta_t)"
      ],
      "execution_count": null,
      "outputs": [
        {
          "output_type": "execute_result",
          "data": {
            "text/plain": [
              "array([-1.,  0.,  1.])"
            ]
          },
          "metadata": {},
          "execution_count": 11
        }
      ]
    },
    {
      "cell_type": "markdown",
      "metadata": {
        "id": "J7IqFFshdtPp"
      },
      "source": [
        "### 1.2- Probability calculation\n",
        "The combined value is transformed to a probability using the logistic function \n",
        "\n",
        "$$\\sigma(z)=\\frac{1}{1 + e^{-z}}$$"
      ]
    },
    {
      "cell_type": "code",
      "metadata": {
        "colab": {
          "base_uri": "https://localhost:8080/"
        },
        "id": "tW9aPhdUdtPq",
        "outputId": "3a2d1692-6847-49bc-c764-980b1cf7e3a4"
      },
      "source": [
        "# The segmoid function\n",
        "# It must work on scalars or vectors of numpy\n",
        "def sigmoid(X):\n",
        "    # Activation function used to render real values between 0 and 1 \n",
        "    return  1/(1+np.exp(-X))\n",
        "\n",
        "sigmoid(0), sigmoid(np.array([-1, 1]))"
      ],
      "execution_count": null,
      "outputs": [
        {
          "output_type": "execute_result",
          "data": {
            "text/plain": [
              "(0.5, array([0.26894142, 0.73105858]))"
            ]
          },
          "metadata": {},
          "execution_count": 12
        }
      ]
    },
    {
      "cell_type": "code",
      "metadata": {
        "colab": {
          "base_uri": "https://localhost:8080/"
        },
        "id": "5IWkJldzdtPr",
        "outputId": "808fc5e7-848e-4d23-e198-672f4bbe413d"
      },
      "source": [
        "def h_1(X, Theta, mean=None, std=None, const=False): \n",
        "    norm = (mean is not None) and (std is not None)\n",
        "    X_pre, mean, std = preparer(X, norm, const, mean=mean, std=std)\n",
        "    return sigmoid(z_1(X_pre, Theta))\n",
        "\n",
        "h_1(X_t, Theta_t)"
      ],
      "execution_count": null,
      "outputs": [
        {
          "output_type": "execute_result",
          "data": {
            "text/plain": [
              "array([0.26894142, 0.5       , 0.73105858])"
            ]
          },
          "metadata": {},
          "execution_count": 13
        }
      ]
    },
    {
      "cell_type": "markdown",
      "metadata": {
        "id": "6iSsdUIRdtPs"
      },
      "source": [
        "### 1.3- The loss function\n",
        "\n",
        "$$ cout(h_\\theta(x), y) = \\begin{cases}\n",
        "- \\log(h_\\theta(x)) & \\text{ si } y = 1\\\\ \n",
        "- \\log(1 - h_\\theta(x))  & \\text{ si } y = 0\n",
        "\\end{cases}$$\n",
        "\n",
        "Because $ y \\in \\{0, 1\\}$ donc, \n",
        "\n",
        "$$ cout(h_\\theta(x), y) = - y \\log(h_\\theta(x)) - (1-y) \\log(1 - h_\\theta(x))$$\n",
        "\n",
        "$$J(\\theta) = \\frac{1}{m} \\sum\\limits_{i=1}^{m} cout(h_\\theta(x^{(i)}), y^{(i)})$$"
      ]
    },
    {
      "cell_type": "code",
      "metadata": {
        "colab": {
          "base_uri": "https://localhost:8080/"
        },
        "id": "Yq28q5tCdtPs",
        "outputId": "ce3c8a92-9538-4d45-c4ed-b3a3a7edc0f8"
      },
      "source": [
        "# The cost function used in the logistic regression \n",
        "# H is the prediction \n",
        "# Y is the true value\n",
        "def J_1(H, Y): \n",
        "    ones = np.ones([1, Y.shape[0]])\n",
        "    log_H = np.log(H)\n",
        "    log_1_H = np.log(ones-H)\n",
        "    return ((np.dot(-Y,log_H.T) - np.dot((ones - Y), log_1_H.T))/Y.shape[0])[0]\n",
        "\n",
        "J_1(h_1(X_t, Theta_t), Y_t)"
      ],
      "execution_count": null,
      "outputs": [
        {
          "output_type": "execute_result",
          "data": {
            "text/plain": [
              "array([0.43989019])"
            ]
          },
          "metadata": {},
          "execution_count": 14
        }
      ]
    },
    {
      "cell_type": "markdown",
      "metadata": {
        "id": "cIPuHrtddtPu"
      },
      "source": [
        "### 1.4- The gradients\n",
        "\n",
        "$$\\frac{\\partial J(\\theta)}{\\theta_j} = \\frac{1}{m} \\sum\\limits_{i=1}^{m} (h_\\theta(x^{(i)}) - y^{(i)}) x_{ij} $$"
      ]
    },
    {
      "cell_type": "code",
      "metadata": {
        "colab": {
          "base_uri": "https://localhost:8080/"
        },
        "id": "WPFbo6pGdtPu",
        "outputId": "1a09c598-b569-4de2-a0c5-c796b06bea53"
      },
      "source": [
        "# Define the gradient function:\n",
        "def gradient_1(X, H, Y):\n",
        "    return (np.dot(H-Y,X))/X.shape[0]\n",
        "\n",
        "gradient_1(X_t, h_1(X_t, Theta_t), Y_t)"
      ],
      "execution_count": null,
      "outputs": [
        {
          "output_type": "execute_result",
          "data": {
            "text/plain": [
              "array([-0.07701953, -0.56313807])"
            ]
          },
          "metadata": {},
          "execution_count": 15
        }
      ]
    },
    {
      "cell_type": "markdown",
      "metadata": {
        "id": "2wA5jmkAdtPv"
      },
      "source": [
        "### 1.5- Training (gradient algorithm)\n",
        "\n",
        "The coefficients are updated iteratively based on the gradient and a $\\alpha$ learning step. Since this function has been implemented in the previous tutorial, it is given here, but in a more parameterizable way.\n",
        "\n",
        "$$\\theta_j = \\theta_j - \\alpha \\frac{\\partial J(\\theta)}{\\theta_j} $$\n",
        "\n",
        "Our training function takes the following parameters: \n",
        "- X : matrix (characteristic X samples)\n",
        "- Y : vector (or matrix) of results (samples X nombre_classes)\n",
        "- norm : if we normalize X or not (default : True)\n",
        "- const : if we add $\\theta_0$ or not (default : True)\n",
        "- nbr_iter : number of iterations before exit\n",
        "- alpha : the learning rate\n",
        "- eps : the stop test if the difference between the costs (current and previous) is less than $\\epsilon$ we stop the descent even if we have not finished all the iterations\n",
        "- theta_func : the function which generates the $\\theta$ (by default : zeros)\n",
        "- h_func : the function that computes the probabilities (default : h_1)\n",
        "- J_func : the cost function (default : J_1)\n",
        "- grad_func : the function that computes the gradient (default : gradient_1)\n"
      ]
    },
    {
      "cell_type": "code",
      "metadata": {
        "colab": {
          "base_uri": "https://localhost:8080/"
        },
        "id": "6IIYotfDdtPv",
        "outputId": "a0e72080-50ac-4d0e-a893-6e2002f15643"
      },
      "source": [
        "\n",
        "def entrainer_1(X, Y, norm=True, const=True, nbr_iter=200, alpha=1., eps=0.01, \n",
        "                theta_func=generer_zeros_1, h_func=h_1, J_func=J_1, grad_func=gradient_1): \n",
        "    \n",
        "    X_pre, mean, std = preparer(X, norm, const)\n",
        "    Theta = theta_func(X_pre.shape[1])\n",
        "    \n",
        "    couts = []\n",
        "    couts.append(J_func(h_func(X_pre, Theta), Y))\n",
        "    \n",
        "    for i in range(nbr_iter):\n",
        "        H = h_func(X_pre, Theta)\n",
        "        Theta -= alpha * grad_func(X_pre, H, Y)\n",
        "        couts.append(J_func(H, Y))\n",
        "    \n",
        "    return Theta, mean, std, couts\n",
        "\n",
        "theta1, mean1, std1, couts1 = entrainer_1(X_t, Y_t)\n",
        "\n",
        "\n",
        "theta1, mean1, std1, couts1[-1]"
      ],
      "execution_count": null,
      "outputs": [
        {
          "output_type": "execute_result",
          "data": {
            "text/plain": [
              "(array([ 1.98675108, -3.42409929,  2.41978457]),\n",
              " array([ 1.33333333, -2.66666667]),\n",
              " array([0.47140452, 4.10960934]),\n",
              " array([0.00383803]))"
            ]
          },
          "metadata": {},
          "execution_count": 16
        }
      ]
    },
    {
      "cell_type": "markdown",
      "metadata": {
        "id": "mKSRMGUadtPw"
      },
      "source": [
        "### 1.6- Prediction \n",
        "\n",
        "Given a threshold and probabilities, for each probability we return 1 if it exceeds or equals the threshold, 0 otherwise. "
      ]
    },
    {
      "cell_type": "code",
      "metadata": {
        "colab": {
          "base_uri": "https://localhost:8080/"
        },
        "id": "Uf0eCz72dtPw",
        "outputId": "6b5c86f1-a25a-47b9-dabd-752615367735"
      },
      "source": [
        "# H est un vecteur de probabilités \n",
        "def predire_1(H, seuil=0.5): \n",
        "    return (H >= seuil).astype(int)\n",
        "\n",
        "predire_1(h_1(X_t, Theta_t))"
      ],
      "execution_count": null,
      "outputs": [
        {
          "output_type": "execute_result",
          "data": {
            "text/plain": [
              "array([0, 1, 1])"
            ]
          },
          "metadata": {},
          "execution_count": 17
        }
      ]
    },
    {
      "cell_type": "markdown",
      "metadata": {
        "id": "KHxX-NqhdtPx"
      },
      "source": [
        "### 1.7- Grouping functions together \n",
        "\n",
        "In order to manage training and prediction, we group the functions you have implemented in a single class. The interest: \n",
        "- If we apply normalization during training, we must also apply it during prediction. Moreover, we have to use the same parameters (mean and standard deviation)\n",
        "- We use the optimal thetas during the prediction\n"
      ]
    },
    {
      "cell_type": "code",
      "metadata": {
        "colab": {
          "base_uri": "https://localhost:8080/"
        },
        "id": "-nofysA1dtPy",
        "outputId": "d8679411-227d-494f-a1e7-e114bf38a25d"
      },
      "source": [
        "\n",
        "class RegLogistique(object):\n",
        "    \n",
        "    def __init__(self, nbr_iter=100, alpha=1., theta_func=generer_zeros_1, norm=True, const=True): \n",
        "        self.nbr_iter = nbr_iter\n",
        "        self.alpha = alpha\n",
        "        self.theta_func = theta_func\n",
        "        self.norm = norm\n",
        "        self.const = const\n",
        "    \n",
        "    def entrainer(self, X, Y): \n",
        "        self.Theta, self.mean, self.std, self.couts = entrainer_1(X, Y, \n",
        "                                                                  nbr_iter=self.nbr_iter, \n",
        "                                                                  alpha=self.alpha, \n",
        "                                                                  theta_func=self.theta_func, \n",
        "                                                                  norm=self.norm, \n",
        "                                                                  const=self.const)\n",
        "        \n",
        "    # The prediction\n",
        "    # if prob=True it returns a vector of probabilities\n",
        "    # otherwise it returns a vector of 1 and 0\n",
        "    def predire(self, X, prob=True, seuil=0.5):\n",
        "        H = h_1(X, self.Theta, self.mean, self.std, self.const)\n",
        "        if prob:\n",
        "            return H\n",
        "        return predire_1(H, seuil=seuil)\n",
        "\n",
        "reg_lin = RegLogistique(const=False)\n",
        "reg_lin.entrainer(X_t, Y_t)\n",
        "reg_lin.predire(np.array([[2., -2.],[-1., 1.]]))"
      ],
      "execution_count": null,
      "outputs": [
        {
          "output_type": "execute_result",
          "data": {
            "text/plain": [
              "array([0.00205785, 0.99794215])"
            ]
          },
          "metadata": {},
          "execution_count": 18
        }
      ]
    },
    {
      "cell_type": "markdown",
      "metadata": {
        "id": "k_smTywXdtP0"
      },
      "source": [
        "## 2- Application on a simple example \n",
        "\n",
        "\n",
        "We have generated a dataset with two grades out of 20. If the average is greater than or equal to 10 the class is \"passed\" (1), otherwise (0)\n",
        "\n",
        "If you are interested in the code used to generate this dataset."
      ]
    },
    {
      "cell_type": "code",
      "metadata": {
        "colab": {
          "base_uri": "https://localhost:8080/",
          "height": 206
        },
        "id": "eTxbk6aadtP0",
        "outputId": "6ab3095e-c256-4f6a-a83a-49a1bb955751"
      },
      "source": [
        "notes = pd.read_csv(\"datasets/notes.csv\")\n",
        "notes.head()"
      ],
      "execution_count": null,
      "outputs": [
        {
          "output_type": "execute_result",
          "data": {
            "text/html": [
              "<div>\n",
              "<style scoped>\n",
              "    .dataframe tbody tr th:only-of-type {\n",
              "        vertical-align: middle;\n",
              "    }\n",
              "\n",
              "    .dataframe tbody tr th {\n",
              "        vertical-align: top;\n",
              "    }\n",
              "\n",
              "    .dataframe thead th {\n",
              "        text-align: right;\n",
              "    }\n",
              "</style>\n",
              "<table border=\"1\" class=\"dataframe\">\n",
              "  <thead>\n",
              "    <tr style=\"text-align: right;\">\n",
              "      <th></th>\n",
              "      <th>Note1</th>\n",
              "      <th>Note2</th>\n",
              "      <th>Admis</th>\n",
              "    </tr>\n",
              "  </thead>\n",
              "  <tbody>\n",
              "    <tr>\n",
              "      <th>0</th>\n",
              "      <td>9.75</td>\n",
              "      <td>16.00</td>\n",
              "      <td>1</td>\n",
              "    </tr>\n",
              "    <tr>\n",
              "      <th>1</th>\n",
              "      <td>2.25</td>\n",
              "      <td>9.50</td>\n",
              "      <td>0</td>\n",
              "    </tr>\n",
              "    <tr>\n",
              "      <th>2</th>\n",
              "      <td>4.50</td>\n",
              "      <td>2.50</td>\n",
              "      <td>0</td>\n",
              "    </tr>\n",
              "    <tr>\n",
              "      <th>3</th>\n",
              "      <td>15.50</td>\n",
              "      <td>10.25</td>\n",
              "      <td>1</td>\n",
              "    </tr>\n",
              "    <tr>\n",
              "      <th>4</th>\n",
              "      <td>3.25</td>\n",
              "      <td>19.50</td>\n",
              "      <td>1</td>\n",
              "    </tr>\n",
              "  </tbody>\n",
              "</table>\n",
              "</div>"
            ],
            "text/plain": [
              "   Note1  Note2  Admis\n",
              "0   9.75  16.00      1\n",
              "1   2.25   9.50      0\n",
              "2   4.50   2.50      0\n",
              "3  15.50  10.25      1\n",
              "4   3.25  19.50      1"
            ]
          },
          "metadata": {},
          "execution_count": 19
        }
      ]
    },
    {
      "cell_type": "code",
      "metadata": {
        "colab": {
          "base_uri": "https://localhost:8080/",
          "height": 279
        },
        "id": "M9oFbUUSdtP1",
        "outputId": "f45efd70-bf9f-4520-efcf-b1e4dffbea32"
      },
      "source": [
        "# Extraction des features \n",
        "X_notes = notes.iloc[:, :-1].values # Premières colonnes \n",
        "\n",
        "Y_notes = notes.iloc[:,-1].values # Dernière colonne \n",
        "\n",
        "afficher_2(X_notes, Y_notes)"
      ],
      "execution_count": null,
      "outputs": [
        {
          "output_type": "display_data",
          "data": {
            "image/png": "[encoded data removed]",
            "text/plain": [
              "<Figure size 432x288 with 1 Axes>"
            ]
          },
          "metadata": {
            "needs_background": "light"
          }
        }
      ]
    },
    {
      "cell_type": "code",
      "metadata": {
        "colab": {
          "base_uri": "https://localhost:8080/",
          "height": 279
        },
        "id": "frs6Qe7YdtP2",
        "outputId": "038e8c45-0784-446d-d012-99875ca8e0ad"
      },
      "source": [
        "reg_notes = RegLogistique()\n",
        "reg_notes.entrainer(X_notes, Y_notes)\n",
        "\n",
        "line_decision = ligne_decision(X_notes, reg_notes.Theta)\n",
        "\n",
        "afficher_2(X_notes, Y_notes, L=line_decision)"
      ],
      "execution_count": null,
      "outputs": [
        {
          "output_type": "display_data",
          "data": {
            "image/png": "[encoded data removed]",
            "text/plain": [
              "<Figure size 432x288 with 1 Axes>"
            ]
          },
          "metadata": {
            "needs_background": "light"
          }
        }
      ]
    },
    {
      "cell_type": "code",
      "metadata": {
        "colab": {
          "base_uri": "https://localhost:8080/",
          "height": 282
        },
        "id": "HBn0_Ox6dtP2",
        "outputId": "f6369907-6e89-4f57-89fa-cb9b49362f0a"
      },
      "source": [
        "plt.plot(reg_notes.couts)"
      ],
      "execution_count": null,
      "outputs": [
        {
          "output_type": "execute_result",
          "data": {
            "text/plain": [
              "[<matplotlib.lines.Line2D at 0x7f272d13e310>]"
            ]
          },
          "metadata": {},
          "execution_count": 22
        },
        {
          "output_type": "display_data",
          "data": {
            "image/png": "[encoded data removed]",
            "text/plain": [
              "<Figure size 432x288 with 1 Axes>"
            ]
          },
          "metadata": {
            "needs_background": "light"
          }
        }
      ]
    },
    {
      "cell_type": "markdown",
      "metadata": {
        "id": "_5AZge2vdtP3"
      },
      "source": [
        "## 3- Implementation on a real-life example\n",
        "\n",
        "We want to help doctors to decide whether patients infected with COVID-19 should be hospitalized or treated at home. In this case, we want to estimate if a patient will recover or not. \n",
        "\n",
        "To do this, we will use [Novel Corona Virus 2019 Dataset](https://www.kaggle.com/sudalairajkumar/novel-corona-virus-2019-dataset). For the sake of simplicity, we use the characteristics: country and age. \n",
        "\n",
        "### 3.1- Reading a dataset"
      ]
    },
    {
      "cell_type": "code",
      "metadata": {
        "scrolled": true,
        "colab": {
          "base_uri": "https://localhost:8080/",
          "height": 1000
        },
        "id": "PoC2XSaPdtP3",
        "outputId": "52f3d045-ff7f-453e-b76d-9e9156787685"
      },
      "source": [
        "corona = pd.read_csv(\"datasets/COVID19_line_list_data.csv\", index_col=0)\n",
        "corona"
      ],
      "execution_count": null,
      "outputs": [
        {
          "output_type": "execute_result",
          "data": {
            "text/html": [
              "<div>\n",
              "<style scoped>\n",
              "    .dataframe tbody tr th:only-of-type {\n",
              "        vertical-align: middle;\n",
              "    }\n",
              "\n",
              "    .dataframe tbody tr th {\n",
              "        vertical-align: top;\n",
              "    }\n",
              "\n",
              "    .dataframe thead th {\n",
              "        text-align: right;\n",
              "    }\n",
              "</style>\n",
              "<table border=\"1\" class=\"dataframe\">\n",
              "  <thead>\n",
              "    <tr style=\"text-align: right;\">\n",
              "      <th></th>\n",
              "      <th>case_in_country</th>\n",
              "      <th>reporting date</th>\n",
              "      <th>Unnamed: 3</th>\n",
              "      <th>summary</th>\n",
              "      <th>location</th>\n",
              "      <th>country</th>\n",
              "      <th>gender</th>\n",
              "      <th>age</th>\n",
              "      <th>symptom_onset</th>\n",
              "      <th>If_onset_approximated</th>\n",
              "      <th>hosp_visit_date</th>\n",
              "      <th>exposure_start</th>\n",
              "      <th>exposure_end</th>\n",
              "      <th>visiting Wuhan</th>\n",
              "      <th>from Wuhan</th>\n",
              "      <th>death</th>\n",
              "      <th>recovered</th>\n",
              "      <th>symptom</th>\n",
              "      <th>source</th>\n",
              "      <th>link</th>\n",
              "      <th>Unnamed: 21</th>\n",
              "      <th>Unnamed: 22</th>\n",
              "      <th>Unnamed: 23</th>\n",
              "      <th>Unnamed: 24</th>\n",
              "      <th>Unnamed: 25</th>\n",
              "      <th>Unnamed: 26</th>\n",
              "    </tr>\n",
              "    <tr>\n",
              "      <th>id</th>\n",
              "      <th></th>\n",
              "      <th></th>\n",
              "      <th></th>\n",
              "      <th></th>\n",
              "      <th></th>\n",
              "      <th></th>\n",
              "      <th></th>\n",
              "      <th></th>\n",
              "      <th></th>\n",
              "      <th></th>\n",
              "      <th></th>\n",
              "      <th></th>\n",
              "      <th></th>\n",
              "      <th></th>\n",
              "      <th></th>\n",
              "      <th></th>\n",
              "      <th></th>\n",
              "      <th></th>\n",
              "      <th></th>\n",
              "      <th></th>\n",
              "      <th></th>\n",
              "      <th></th>\n",
              "      <th></th>\n",
              "      <th></th>\n",
              "      <th></th>\n",
              "      <th></th>\n",
              "    </tr>\n",
              "  </thead>\n",
              "  <tbody>\n",
              "    <tr>\n",
              "      <th>1</th>\n",
              "      <td>NaN</td>\n",
              "      <td>1/20/2020</td>\n",
              "      <td>NaN</td>\n",
              "      <td>First confirmed imported COVID-19 pneumonia pa...</td>\n",
              "      <td>Shenzhen, Guangdong</td>\n",
              "      <td>China</td>\n",
              "      <td>male</td>\n",
              "      <td>66.0</td>\n",
              "      <td>01/03/20</td>\n",
              "      <td>0.0</td>\n",
              "      <td>01/11/20</td>\n",
              "      <td>12/29/2019</td>\n",
              "      <td>01/04/20</td>\n",
              "      <td>1</td>\n",
              "      <td>0.0</td>\n",
              "      <td>0</td>\n",
              "      <td>0</td>\n",
              "      <td>NaN</td>\n",
              "      <td>Shenzhen Municipal Health Commission</td>\n",
              "      <td>http://wjw.sz.gov.cn/wzx/202001/t20200120_1898...</td>\n",
              "      <td>NaN</td>\n",
              "      <td>NaN</td>\n",
              "      <td>NaN</td>\n",
              "      <td>NaN</td>\n",
              "      <td>NaN</td>\n",
              "      <td>NaN</td>\n",
              "    </tr>\n",
              "    <tr>\n",
              "      <th>2</th>\n",
              "      <td>NaN</td>\n",
              "      <td>1/20/2020</td>\n",
              "      <td>NaN</td>\n",
              "      <td>First confirmed imported COVID-19 pneumonia pa...</td>\n",
              "      <td>Shanghai</td>\n",
              "      <td>China</td>\n",
              "      <td>female</td>\n",
              "      <td>56.0</td>\n",
              "      <td>1/15/2020</td>\n",
              "      <td>0.0</td>\n",
              "      <td>1/15/2020</td>\n",
              "      <td>NaN</td>\n",
              "      <td>01/12/20</td>\n",
              "      <td>0</td>\n",
              "      <td>1.0</td>\n",
              "      <td>0</td>\n",
              "      <td>0</td>\n",
              "      <td>NaN</td>\n",
              "      <td>Official Weibo of Shanghai Municipal Health Co...</td>\n",
              "      <td>https://www.weibo.com/2372649470/IqogQhgfa?fro...</td>\n",
              "      <td>NaN</td>\n",
              "      <td>NaN</td>\n",
              "      <td>NaN</td>\n",
              "      <td>NaN</td>\n",
              "      <td>NaN</td>\n",
              "      <td>NaN</td>\n",
              "    </tr>\n",
              "    <tr>\n",
              "      <th>3</th>\n",
              "      <td>NaN</td>\n",
              "      <td>1/21/2020</td>\n",
              "      <td>NaN</td>\n",
              "      <td>First confirmed imported cases in Zhejiang: pa...</td>\n",
              "      <td>Zhejiang</td>\n",
              "      <td>China</td>\n",
              "      <td>male</td>\n",
              "      <td>46.0</td>\n",
              "      <td>01/04/20</td>\n",
              "      <td>0.0</td>\n",
              "      <td>1/17/2020</td>\n",
              "      <td>NaN</td>\n",
              "      <td>01/03/20</td>\n",
              "      <td>0</td>\n",
              "      <td>1.0</td>\n",
              "      <td>0</td>\n",
              "      <td>0</td>\n",
              "      <td>NaN</td>\n",
              "      <td>Health Commission of Zhejiang Province</td>\n",
              "      <td>http://www.zjwjw.gov.cn/art/2020/1/21/art_1202...</td>\n",
              "      <td>NaN</td>\n",
              "      <td>NaN</td>\n",
              "      <td>NaN</td>\n",
              "      <td>NaN</td>\n",
              "      <td>NaN</td>\n",
              "      <td>NaN</td>\n",
              "    </tr>\n",
              "    <tr>\n",
              "      <th>4</th>\n",
              "      <td>NaN</td>\n",
              "      <td>1/21/2020</td>\n",
              "      <td>NaN</td>\n",
              "      <td>new confirmed imported COVID-19 pneumonia in T...</td>\n",
              "      <td>Tianjin</td>\n",
              "      <td>China</td>\n",
              "      <td>female</td>\n",
              "      <td>60.0</td>\n",
              "      <td>NaN</td>\n",
              "      <td>NaN</td>\n",
              "      <td>1/19/2020</td>\n",
              "      <td>NaN</td>\n",
              "      <td>NaN</td>\n",
              "      <td>1</td>\n",
              "      <td>0.0</td>\n",
              "      <td>0</td>\n",
              "      <td>0</td>\n",
              "      <td>NaN</td>\n",
              "      <td>人民日报官方微博</td>\n",
              "      <td>https://m.weibo.cn/status/4463235401268457?</td>\n",
              "      <td>NaN</td>\n",
              "      <td>NaN</td>\n",
              "      <td>NaN</td>\n",
              "      <td>NaN</td>\n",
              "      <td>NaN</td>\n",
              "      <td>NaN</td>\n",
              "    </tr>\n",
              "    <tr>\n",
              "      <th>5</th>\n",
              "      <td>NaN</td>\n",
              "      <td>1/21/2020</td>\n",
              "      <td>NaN</td>\n",
              "      <td>new confirmed imported COVID-19 pneumonia in T...</td>\n",
              "      <td>Tianjin</td>\n",
              "      <td>China</td>\n",
              "      <td>male</td>\n",
              "      <td>58.0</td>\n",
              "      <td>NaN</td>\n",
              "      <td>NaN</td>\n",
              "      <td>1/14/2020</td>\n",
              "      <td>NaN</td>\n",
              "      <td>NaN</td>\n",
              "      <td>0</td>\n",
              "      <td>0.0</td>\n",
              "      <td>0</td>\n",
              "      <td>0</td>\n",
              "      <td>NaN</td>\n",
              "      <td>人民日报官方微博</td>\n",
              "      <td>https://m.weibo.cn/status/4463235401268457?</td>\n",
              "      <td>NaN</td>\n",
              "      <td>NaN</td>\n",
              "      <td>NaN</td>\n",
              "      <td>NaN</td>\n",
              "      <td>NaN</td>\n",
              "      <td>NaN</td>\n",
              "    </tr>\n",
              "    <tr>\n",
              "      <th>...</th>\n",
              "      <td>...</td>\n",
              "      <td>...</td>\n",
              "      <td>...</td>\n",
              "      <td>...</td>\n",
              "      <td>...</td>\n",
              "      <td>...</td>\n",
              "      <td>...</td>\n",
              "      <td>...</td>\n",
              "      <td>...</td>\n",
              "      <td>...</td>\n",
              "      <td>...</td>\n",
              "      <td>...</td>\n",
              "      <td>...</td>\n",
              "      <td>...</td>\n",
              "      <td>...</td>\n",
              "      <td>...</td>\n",
              "      <td>...</td>\n",
              "      <td>...</td>\n",
              "      <td>...</td>\n",
              "      <td>...</td>\n",
              "      <td>...</td>\n",
              "      <td>...</td>\n",
              "      <td>...</td>\n",
              "      <td>...</td>\n",
              "      <td>...</td>\n",
              "      <td>...</td>\n",
              "    </tr>\n",
              "    <tr>\n",
              "      <th>1081</th>\n",
              "      <td>2.0</td>\n",
              "      <td>2/25/2020</td>\n",
              "      <td>NaN</td>\n",
              "      <td>new COVID-19 patient confirmed in Austria: 24,...</td>\n",
              "      <td>Innsbruck</td>\n",
              "      <td>Austria</td>\n",
              "      <td>NaN</td>\n",
              "      <td>24.0</td>\n",
              "      <td>NaN</td>\n",
              "      <td>NaN</td>\n",
              "      <td>NaN</td>\n",
              "      <td>NaN</td>\n",
              "      <td>NaN</td>\n",
              "      <td>0</td>\n",
              "      <td>0.0</td>\n",
              "      <td>0</td>\n",
              "      <td>0</td>\n",
              "      <td>NaN</td>\n",
              "      <td>Jakarta Post</td>\n",
              "      <td>https://www.thejakartapost.com/news/2020/02/25...</td>\n",
              "      <td>NaN</td>\n",
              "      <td>NaN</td>\n",
              "      <td>NaN</td>\n",
              "      <td>NaN</td>\n",
              "      <td>NaN</td>\n",
              "      <td>NaN</td>\n",
              "    </tr>\n",
              "    <tr>\n",
              "      <th>1082</th>\n",
              "      <td>1.0</td>\n",
              "      <td>2/24/2020</td>\n",
              "      <td>NaN</td>\n",
              "      <td>new COVID-19 patient confirmed in Afghanistan:...</td>\n",
              "      <td>Afghanistan</td>\n",
              "      <td>Afghanistan</td>\n",
              "      <td>NaN</td>\n",
              "      <td>35.0</td>\n",
              "      <td>NaN</td>\n",
              "      <td>NaN</td>\n",
              "      <td>NaN</td>\n",
              "      <td>NaN</td>\n",
              "      <td>NaN</td>\n",
              "      <td>0</td>\n",
              "      <td>0.0</td>\n",
              "      <td>0</td>\n",
              "      <td>0</td>\n",
              "      <td>NaN</td>\n",
              "      <td>Fox News</td>\n",
              "      <td>https://www.foxnews.com/health/afghanistan-fir...</td>\n",
              "      <td>NaN</td>\n",
              "      <td>NaN</td>\n",
              "      <td>NaN</td>\n",
              "      <td>NaN</td>\n",
              "      <td>NaN</td>\n",
              "      <td>NaN</td>\n",
              "    </tr>\n",
              "    <tr>\n",
              "      <th>1083</th>\n",
              "      <td>1.0</td>\n",
              "      <td>2/26/2020</td>\n",
              "      <td>NaN</td>\n",
              "      <td>new COVID-19 patient confirmed in Algeria: mal...</td>\n",
              "      <td>Algeria</td>\n",
              "      <td>Algeria</td>\n",
              "      <td>male</td>\n",
              "      <td>NaN</td>\n",
              "      <td>NaN</td>\n",
              "      <td>NaN</td>\n",
              "      <td>NaN</td>\n",
              "      <td>NaN</td>\n",
              "      <td>2/17/2020</td>\n",
              "      <td>0</td>\n",
              "      <td>0.0</td>\n",
              "      <td>0</td>\n",
              "      <td>0</td>\n",
              "      <td>NaN</td>\n",
              "      <td>South China Morning Post</td>\n",
              "      <td>https://www.scmp.com/news/china/society/articl...</td>\n",
              "      <td>NaN</td>\n",
              "      <td>NaN</td>\n",
              "      <td>NaN</td>\n",
              "      <td>NaN</td>\n",
              "      <td>NaN</td>\n",
              "      <td>NaN</td>\n",
              "    </tr>\n",
              "    <tr>\n",
              "      <th>1084</th>\n",
              "      <td>1.0</td>\n",
              "      <td>2/25/2020</td>\n",
              "      <td>NaN</td>\n",
              "      <td>new COVID-19 patient confirmed in Croatia: mal...</td>\n",
              "      <td>Croatia</td>\n",
              "      <td>Croatia</td>\n",
              "      <td>male</td>\n",
              "      <td>NaN</td>\n",
              "      <td>NaN</td>\n",
              "      <td>NaN</td>\n",
              "      <td>NaN</td>\n",
              "      <td>2/19/2020</td>\n",
              "      <td>2/21/2020</td>\n",
              "      <td>0</td>\n",
              "      <td>0.0</td>\n",
              "      <td>0</td>\n",
              "      <td>0</td>\n",
              "      <td>NaN</td>\n",
              "      <td>Reuters</td>\n",
              "      <td>https://www.reuters.com/article/us-croatia-cor...</td>\n",
              "      <td>NaN</td>\n",
              "      <td>NaN</td>\n",
              "      <td>NaN</td>\n",
              "      <td>NaN</td>\n",
              "      <td>NaN</td>\n",
              "      <td>NaN</td>\n",
              "    </tr>\n",
              "    <tr>\n",
              "      <th>1085</th>\n",
              "      <td>1.0</td>\n",
              "      <td>2/25/2020</td>\n",
              "      <td>NaN</td>\n",
              "      <td>new COVID-19 patient confirmed in Switzerland:...</td>\n",
              "      <td>Bern</td>\n",
              "      <td>Switzerland</td>\n",
              "      <td>male</td>\n",
              "      <td>70.0</td>\n",
              "      <td>2/17/2020</td>\n",
              "      <td>NaN</td>\n",
              "      <td>NaN</td>\n",
              "      <td>2/15/2020</td>\n",
              "      <td>2/15/2020</td>\n",
              "      <td>0</td>\n",
              "      <td>0.0</td>\n",
              "      <td>0</td>\n",
              "      <td>0</td>\n",
              "      <td>NaN</td>\n",
              "      <td>Reuters</td>\n",
              "      <td>https://www.reuters.com/article/uk-switzerland...</td>\n",
              "      <td>NaN</td>\n",
              "      <td>NaN</td>\n",
              "      <td>NaN</td>\n",
              "      <td>NaN</td>\n",
              "      <td>NaN</td>\n",
              "      <td>NaN</td>\n",
              "    </tr>\n",
              "  </tbody>\n",
              "</table>\n",
              "<p>1085 rows × 26 columns</p>\n",
              "</div>"
            ],
            "text/plain": [
              "      case_in_country reporting date  ...  Unnamed: 25 Unnamed: 26\n",
              "id                                    ...                         \n",
              "1                 NaN      1/20/2020  ...          NaN         NaN\n",
              "2                 NaN      1/20/2020  ...          NaN         NaN\n",
              "3                 NaN      1/21/2020  ...          NaN         NaN\n",
              "4                 NaN      1/21/2020  ...          NaN         NaN\n",
              "5                 NaN      1/21/2020  ...          NaN         NaN\n",
              "...               ...            ...  ...          ...         ...\n",
              "1081              2.0      2/25/2020  ...          NaN         NaN\n",
              "1082              1.0      2/24/2020  ...          NaN         NaN\n",
              "1083              1.0      2/26/2020  ...          NaN         NaN\n",
              "1084              1.0      2/25/2020  ...          NaN         NaN\n",
              "1085              1.0      2/25/2020  ...          NaN         NaN\n",
              "\n",
              "[1085 rows x 26 columns]"
            ]
          },
          "metadata": {},
          "execution_count": 23
        }
      ]
    },
    {
      "cell_type": "code",
      "metadata": {
        "colab": {
          "base_uri": "https://localhost:8080/"
        },
        "id": "drfw-go7dtP4",
        "outputId": "9a83b018-fc0e-4012-c24c-29f8cb11c821"
      },
      "source": [
        "corona.shape[0]"
      ],
      "execution_count": null,
      "outputs": [
        {
          "output_type": "execute_result",
          "data": {
            "text/plain": [
              "1085"
            ]
          },
          "metadata": {},
          "execution_count": 24
        }
      ]
    },
    {
      "cell_type": "markdown",
      "metadata": {
        "id": "oe8YuJqCdtP4"
      },
      "source": [
        "### 3.2- Preparation of the dataset\n",
        "\n",
        "We want to prepare the dataset so that it is adequate to our problem (predict if a patient will recover or not)\n"
      ]
    },
    {
      "cell_type": "code",
      "metadata": {
        "colab": {
          "base_uri": "https://localhost:8080/"
        },
        "id": "Sih80M4JdtP4",
        "outputId": "55da892d-a4a7-4be2-e15a-ec046e2566c6"
      },
      "source": [
        "corona[\"recovered\"].unique()\n",
        "# We notice that the characteristic \"recovered\" has several possible values\n",
        "# Here 0 means the patient is not recovered \n",
        "# 1 means that the patient is recovered\n",
        "# The other values are dates and they mean that the party is recovered\n",
        "\n",
        "# The characteristic \"death\" has the same meaning of values, but replacing \"recovered\" by \"dead"
      ],
      "execution_count": null,
      "outputs": [
        {
          "output_type": "execute_result",
          "data": {
            "text/plain": [
              "array(['0', '1', '02/12/20', '1/15/2020', '12/30/1899', '02/08/20',\n",
              "       '2/14/2020', '02/04/20', '2/18/2020', '02/05/20', '2/17/2020',\n",
              "       '02/09/20', '2/15/2020', '2/27/2020', '2/19/2020', '2/20/2020',\n",
              "       '1/17/2020', '02/07/20', '2/21/2020', '2/23/2020', '02/11/20',\n",
              "       '2/22/2020', '2/16/2020', '2/24/2020', '2/26/2020', '2/25/2020',\n",
              "       '02/06/20', '2/28/2020', '1/30/2020', '2/13/2020', '02/02/20',\n",
              "       '1/31/2020'], dtype=object)"
            ]
          },
          "metadata": {},
          "execution_count": 25
        }
      ]
    },
    {
      "cell_type": "code",
      "metadata": {
        "colab": {
          "base_uri": "https://localhost:8080/"
        },
        "id": "ZmYIXLzjdtP5",
        "outputId": "b2febf73-bb91-439e-dec3-6ed44be82cc9"
      },
      "source": [
        "# we want to keep only the samples where the patients are recovered or dead\n",
        "#corona_1 = corona.loc[(corona[\"death\"]!=\"0\")]\n",
        "corona = corona.loc[(corona[\"recovered\"]!=\"0\")|(corona[\"death\"]!=\"0\")]\n",
        "#corona_2 = corona.death != \"0\"\n",
        "\n",
        "corona.shape[0]"
      ],
      "execution_count": null,
      "outputs": [
        {
          "output_type": "execute_result",
          "data": {
            "text/plain": [
              "222"
            ]
          },
          "metadata": {},
          "execution_count": 26
        }
      ]
    },
    {
      "cell_type": "code",
      "metadata": {
        "colab": {
          "base_uri": "https://localhost:8080/",
          "height": 238
        },
        "id": "wtNE_4ChdtP5",
        "outputId": "bd8e1397-b3c7-402d-bea6-177f8e484762"
      },
      "source": [
        "# we want to keep only the characteristics \"country\", \"age\" and \"recovered\n",
        "corona = corona.filter(items=[\"country\",\"age\",\"recovered\"])\n",
        "corona.head()"
      ],
      "execution_count": null,
      "outputs": [
        {
          "output_type": "execute_result",
          "data": {
            "text/html": [
              "<div>\n",
              "<style scoped>\n",
              "    .dataframe tbody tr th:only-of-type {\n",
              "        vertical-align: middle;\n",
              "    }\n",
              "\n",
              "    .dataframe tbody tr th {\n",
              "        vertical-align: top;\n",
              "    }\n",
              "\n",
              "    .dataframe thead th {\n",
              "        text-align: right;\n",
              "    }\n",
              "</style>\n",
              "<table border=\"1\" class=\"dataframe\">\n",
              "  <thead>\n",
              "    <tr style=\"text-align: right;\">\n",
              "      <th></th>\n",
              "      <th>country</th>\n",
              "      <th>age</th>\n",
              "      <th>recovered</th>\n",
              "    </tr>\n",
              "    <tr>\n",
              "      <th>id</th>\n",
              "      <th></th>\n",
              "      <th></th>\n",
              "      <th></th>\n",
              "    </tr>\n",
              "  </thead>\n",
              "  <tbody>\n",
              "    <tr>\n",
              "      <th>49</th>\n",
              "      <td>China</td>\n",
              "      <td>61.0</td>\n",
              "      <td>0</td>\n",
              "    </tr>\n",
              "    <tr>\n",
              "      <th>50</th>\n",
              "      <td>China</td>\n",
              "      <td>69.0</td>\n",
              "      <td>0</td>\n",
              "    </tr>\n",
              "    <tr>\n",
              "      <th>51</th>\n",
              "      <td>China</td>\n",
              "      <td>89.0</td>\n",
              "      <td>0</td>\n",
              "    </tr>\n",
              "    <tr>\n",
              "      <th>52</th>\n",
              "      <td>China</td>\n",
              "      <td>89.0</td>\n",
              "      <td>0</td>\n",
              "    </tr>\n",
              "    <tr>\n",
              "      <th>53</th>\n",
              "      <td>China</td>\n",
              "      <td>66.0</td>\n",
              "      <td>0</td>\n",
              "    </tr>\n",
              "  </tbody>\n",
              "</table>\n",
              "</div>"
            ],
            "text/plain": [
              "   country   age recovered\n",
              "id                        \n",
              "49   China  61.0         0\n",
              "50   China  69.0         0\n",
              "51   China  89.0         0\n",
              "52   China  89.0         0\n",
              "53   China  66.0         0"
            ]
          },
          "metadata": {},
          "execution_count": 27
        }
      ]
    },
    {
      "cell_type": "code",
      "metadata": {
        "colab": {
          "base_uri": "https://localhost:8080/"
        },
        "id": "sioC6pOPdtP6",
        "outputId": "c685c4b1-6ff7-41d2-db80-26b8e67c6c1d"
      },
      "source": [
        "# we want the values of \"recovered\" to be 1 or 0\n",
        "corona[\"recovered\"] = corona[\"recovered\"].map(lambda x: 0 if x == \"0\" else 1)\n",
        "corona.isnull().sum()"
      ],
      "execution_count": null,
      "outputs": [
        {
          "output_type": "execute_result",
          "data": {
            "text/plain": [
              "country       0\n",
              "age          19\n",
              "recovered     0\n",
              "dtype: int64"
            ]
          },
          "metadata": {},
          "execution_count": 28
        }
      ]
    },
    {
      "cell_type": "code",
      "metadata": {
        "colab": {
          "base_uri": "https://localhost:8080/"
        },
        "id": "mS7VzO0bdtP6",
        "outputId": "c6324a9f-518c-4e23-8cc5-bba9e62f342f"
      },
      "source": [
        "# filter samples with null values (gender and age)\n",
        "corona = corona[corona.age.notnull()]\n",
        "corona.info()\n",
        "# All three columns must have 203 non-null"
      ],
      "execution_count": null,
      "outputs": [
        {
          "output_type": "stream",
          "name": "stdout",
          "text": [
            "<class 'pandas.core.frame.DataFrame'>\n",
            "Int64Index: 203 entries, 49 to 994\n",
            "Data columns (total 3 columns):\n",
            " #   Column     Non-Null Count  Dtype  \n",
            "---  ------     --------------  -----  \n",
            " 0   country    203 non-null    object \n",
            " 1   age        203 non-null    float64\n",
            " 2   recovered  203 non-null    int64  \n",
            "dtypes: float64(1), int64(1), object(1)\n",
            "memory usage: 6.3+ KB\n"
          ]
        }
      ]
    },
    {
      "cell_type": "code",
      "metadata": {
        "colab": {
          "base_uri": "https://localhost:8080/"
        },
        "id": "-YZ1W2KpdtP7",
        "outputId": "e6f69fe9-a4a8-48b0-9c7f-87cd6f1196f7"
      },
      "source": [
        "# We want to keep only the first 3 countries in question in number\n",
        "corona[\"country\"].value_counts()"
      ],
      "execution_count": null,
      "outputs": [
        {
          "output_type": "execute_result",
          "data": {
            "text/plain": [
              "Singapore      59\n",
              "China          42\n",
              "South Korea    28\n",
              "Malaysia       19\n",
              "Japan          17\n",
              "Vietnam         8\n",
              "UAE             4\n",
              "France          4\n",
              "Hong Kong       4\n",
              "Australia       4\n",
              "USA             3\n",
              "Thailand        3\n",
              "Canada          2\n",
              "Phillipines     2\n",
              "Taiwan          1\n",
              "Sri Lanka       1\n",
              "Nepal           1\n",
              "UK              1\n",
              "Name: country, dtype: int64"
            ]
          },
          "metadata": {},
          "execution_count": 30
        }
      ]
    },
    {
      "cell_type": "code",
      "metadata": {
        "colab": {
          "base_uri": "https://localhost:8080/"
        },
        "id": "N4piX3HIdtP7",
        "outputId": "409bc6b8-c288-4928-a1a6-37958ae527ae"
      },
      "source": [
        "msk = corona[\"country\"].isin([\"Singapore\", \"China\", \"South Korea\"])\n",
        "corona = corona.loc[msk]\n",
        "corona[\"country\"].value_counts()"
      ],
      "execution_count": null,
      "outputs": [
        {
          "output_type": "execute_result",
          "data": {
            "text/plain": [
              "Singapore      59\n",
              "China          42\n",
              "South Korea    28\n",
              "Name: country, dtype: int64"
            ]
          },
          "metadata": {},
          "execution_count": 31
        }
      ]
    },
    {
      "cell_type": "code",
      "metadata": {
        "colab": {
          "base_uri": "https://localhost:8080/"
        },
        "id": "VfLKRW3JdtP8",
        "outputId": "c7b85eb6-a430-400d-91a8-cfad1c0836dd"
      },
      "source": [
        "# Feature extraction \n",
        "X_corona = corona.iloc[:, :-1].values # First Column \n",
        "\n",
        "Y_corona = corona.iloc[:,-1].values # Second Column\n",
        "\n",
        "X_corona[:3, :]"
      ],
      "execution_count": null,
      "outputs": [
        {
          "output_type": "execute_result",
          "data": {
            "text/plain": [
              "array([['China', 61.0],\n",
              "       ['China', 69.0],\n",
              "       ['China', 89.0]], dtype=object)"
            ]
          },
          "metadata": {},
          "execution_count": 32
        }
      ]
    },
    {
      "cell_type": "markdown",
      "metadata": {
        "id": "iRY1l-GhdtP8"
      },
      "source": [
        "### 3.3- Encoding of characteristics\n",
        "\n",
        "The regression applies only to numerical and not nominal characteristics. \n",
        "We want to test the effect of choosing the right encoder. \n",
        "To do this, we will test with two encoders: \n",
        "- Ordinal encoding: the values of a characteristic are assigned numbers according to the order of the first occurrence \n",
        "- One Hot encoding: each value of a characteristic becomes a column with a value of 1 or 0"
      ]
    },
    {
      "cell_type": "code",
      "metadata": {
        "colab": {
          "base_uri": "https://localhost:8080/"
        },
        "id": "1lb-ET-DdtP8",
        "outputId": "3fd635ec-5f20-464e-97d6-1e9f6852f39d"
      },
      "source": [
        "from sklearn.preprocessing import OrdinalEncoder\n",
        "encoder = OrdinalEncoder()\n",
        "\n",
        "X_corona_pays = encoder.fit_transform(X_corona[:, 0].reshape(len(X_corona), 1))\n",
        "\n",
        "X_corona_ordinal = np.concatenate((X_corona_pays, X_corona[:, 1].reshape((len(X_corona), 1))), axis=1)\n",
        "\n",
        "X_corona_ordinal[:3, :]"
      ],
      "execution_count": null,
      "outputs": [
        {
          "output_type": "execute_result",
          "data": {
            "text/plain": [
              "array([[0.0, 61.0],\n",
              "       [0.0, 69.0],\n",
              "       [0.0, 89.0]], dtype=object)"
            ]
          },
          "metadata": {},
          "execution_count": 33
        }
      ]
    },
    {
      "cell_type": "code",
      "metadata": {
        "colab": {
          "base_uri": "https://localhost:8080/"
        },
        "id": "bwKnWtmudtP9",
        "outputId": "cad04f2e-502b-4287-9041-7a1c8711891e"
      },
      "source": [
        "from sklearn.preprocessing import OneHotEncoder\n",
        "encoder = OneHotEncoder(sparse=False)\n",
        "\n",
        "X_corona_pays = encoder.fit_transform(X_corona[:, 0].reshape(len(X_corona), 1))\n",
        "\n",
        "X_corona_onehot = np.concatenate((X_corona_pays, X_corona[:, 1].reshape((len(X_corona), 1))), axis=1)\n",
        "\n",
        "X_corona_onehot[:10, :]"
      ],
      "execution_count": null,
      "outputs": [
        {
          "output_type": "execute_result",
          "data": {
            "text/plain": [
              "array([[1.0, 0.0, 0.0, 61.0],\n",
              "       [1.0, 0.0, 0.0, 69.0],\n",
              "       [1.0, 0.0, 0.0, 89.0],\n",
              "       [1.0, 0.0, 0.0, 89.0],\n",
              "       [1.0, 0.0, 0.0, 66.0],\n",
              "       [1.0, 0.0, 0.0, 75.0],\n",
              "       [1.0, 0.0, 0.0, 48.0],\n",
              "       [1.0, 0.0, 0.0, 82.0],\n",
              "       [1.0, 0.0, 0.0, 66.0],\n",
              "       [1.0, 0.0, 0.0, 81.0]], dtype=object)"
            ]
          },
          "metadata": {},
          "execution_count": 34
        }
      ]
    },
    {
      "cell_type": "markdown",
      "metadata": {
        "id": "x0k803nFdtP9"
      },
      "source": [
        "### 3.4- Training"
      ]
    },
    {
      "cell_type": "code",
      "metadata": {
        "colab": {
          "base_uri": "https://localhost:8080/"
        },
        "id": "Z_cutjzRdtP9",
        "outputId": "ee07eb47-8a7a-486e-b9f6-a10d96489ae9"
      },
      "source": [
        "# Randomization of the data to mark the 80% rows\n",
        "msk = np.random.rand(len(X_corona)) < 0.8 \n",
        "\n",
        "Y_corona_train = np.array(Y_corona[msk], dtype=np.float32)\n",
        "Y_corona_test = np.array(Y_corona[~msk], dtype=np.float32)\n",
        "\n",
        "X_corona_ordinal_train = np.array(X_corona_ordinal[msk, :], dtype=np.float32)\n",
        "X_corona_ordinal_test = np.array(X_corona_ordinal[~msk, :], dtype=np.float32)\n",
        "\n",
        "X_corona_onehot_train = np.array(X_corona_onehot[msk, :], dtype=np.float32)\n",
        "X_corona_onehot_test = np.array(X_corona_onehot[~msk, :], dtype=np.float32)\n",
        "\n",
        "Y_corona_test"
      ],
      "execution_count": null,
      "outputs": [
        {
          "output_type": "execute_result",
          "data": {
            "text/plain": [
              "array([0., 0., 0., 0., 0., 0., 1., 1., 1., 1., 1., 1., 1., 1., 1., 1., 1.,\n",
              "       1., 1., 1., 1., 1., 1., 1., 1., 0., 0.], dtype=float32)"
            ]
          },
          "metadata": {},
          "execution_count": 35
        }
      ]
    },
    {
      "cell_type": "code",
      "metadata": {
        "colab": {
          "base_uri": "https://localhost:8080/",
          "height": 265
        },
        "id": "owi_1ad5dtP-",
        "outputId": "7ccf33e5-6026-4346-ecd2-db4e988e7d0b"
      },
      "source": [
        "reg_corona_ordinal = RegLogistique()\n",
        "reg_corona_onehot = RegLogistique()\n",
        "\n",
        "# Train the 2 models\n",
        "reg_corona_ordinal.entrainer(X_corona_ordinal_train, Y_corona_train)\n",
        "reg_corona_onehot.entrainer(X_corona_onehot_train, Y_corona_train)\n",
        "\n",
        "\n",
        "# Display of the evolution of the costs\n",
        "plt.plot(reg_corona_ordinal.couts, color=\"red\", label=\"ordinal\")\n",
        "plt.plot(reg_corona_onehot.couts, color=\"green\", label=\"one hot\")\n",
        "plt.legend()\n",
        "plt.show()"
      ],
      "execution_count": null,
      "outputs": [
        {
          "output_type": "display_data",
          "data": {
            "image/png": "[encoded data removed]",
            "text/plain": [
              "<Figure size 432x288 with 1 Axes>"
            ]
          },
          "metadata": {
            "needs_background": "light"
          }
        }
      ]
    },
    {
      "cell_type": "markdown",
      "metadata": {
        "id": "o14bTwhhdtP-"
      },
      "source": [
        "**Note**: The onehot encoding is better than the ordinal\n",
        "\n",
        "\n",
        "**Analysis**: The ordinal is based on the fact to orodinate the data, which will make the data depend on each other, and this is not good especially when the order has no meaning like the example of the countries. Whereas the Onehot method will remove this dependency between the data which will give good results, because it is based on the creation of a vector of indicator variables.\n"
      ]
    },
    {
      "cell_type": "code",
      "metadata": {
        "colab": {
          "base_uri": "https://localhost:8080/"
        },
        "id": "__ipxIDadtP_",
        "outputId": "1b28d17e-359a-4f1f-bc35-83a20530452a"
      },
      "source": [
        "reg_corona_ordinal.Theta, reg_corona_onehot.Theta"
      ],
      "execution_count": null,
      "outputs": [
        {
          "output_type": "execute_result",
          "data": {
            "text/plain": [
              "(array([ 0.70786296,  0.90649818, -2.02077096]),\n",
              " array([ 1.36571231, -1.57911326,  1.68650474, -0.21323331, -1.49315532]))"
            ]
          },
          "metadata": {},
          "execution_count": 37
        }
      ]
    },
    {
      "cell_type": "markdown",
      "metadata": {
        "id": "EoDuTmxTdtP_"
      },
      "source": [
        "### 3.5- Test \n",
        "\n",
        "The quality of a classification system is measured using the confusion matrix: \n",
        "\n",
        "| - | Estimated (1) | Estimated (0) |\n",
        "| --- | ---| ---|\n",
        "| Actual (1) | TP (true positives) | FN (false negatives)\n",
        "| Actual (0) | TP (false positives) | TN (true negatives) |\n",
        "\n",
        "There are two metrics: \n",
        "- precision (or positive predictive value) is the proportion of relevant items among all proposed items; \n",
        "- Recall (or sensitivity) is the proportion of relevant items proposed among all relevant items. \n"
      ]
    },
    {
      "cell_type": "code",
      "metadata": {
        "colab": {
          "base_uri": "https://localhost:8080/"
        },
        "id": "7oUHk1ExdtQA",
        "outputId": "22bd8d9e-ad0a-42fb-8823-0eabcdc9c38f"
      },
      "source": [
        "# Here, we want the prediction as 1 and 0 and not probabilities\n",
        "# The threshold is 0.5 (default)\n",
        "H_corona_ordinal_test = reg_corona_ordinal.predire(X_corona_ordinal_test,prob=False,seuil=0.5)\n",
        "H_corona_onehot_test = reg_corona_onehot.predire(X_corona_onehot_test,prob=False,seuil=0.5)\n",
        "\n",
        "# Display the sum of 1's for each \n",
        "H_corona_ordinal_test.sum(), H_corona_onehot_test.sum()"
      ],
      "execution_count": null,
      "outputs": [
        {
          "output_type": "execute_result",
          "data": {
            "text/plain": [
              "(17, 18)"
            ]
          },
          "metadata": {},
          "execution_count": 38
        }
      ]
    },
    {
      "cell_type": "code",
      "metadata": {
        "colab": {
          "base_uri": "https://localhost:8080/"
        },
        "id": "4LlFMY_XdtQA",
        "outputId": "f7440318-c0b8-4495-9415-e6ab69aa3d19"
      },
      "source": [
        "# Functions that calculate the confusion matrix\n",
        "def calculerTP(Y_reel, Y_predit):\n",
        "    return (Y_reel*Y_predit).sum()\n",
        "\n",
        "def calculerFN(Y_reel, Y_predit): \n",
        "    return np.count_nonzero((Y_reel - Y_predit)==1)\n",
        "\n",
        "def calculerFP(Y_reel, Y_predit): \n",
        "    return np.count_nonzero((Y_reel - Y_predit)==-1)\n",
        "\n",
        "def calculerTN(Y_reel, Y_predit): \n",
        "    return len(Y_reel) - (calculerTP(Y_reel, Y_predit) + calculerFP(Y_reel, Y_predit) + calculerFN(Y_reel, Y_predit))\n",
        "\n",
        "TP_corona_ordinal = calculerTP(Y_corona_test, H_corona_ordinal_test)\n",
        "FN_corona_ordinal = calculerFN(Y_corona_test, H_corona_ordinal_test)\n",
        "FP_corona_ordinal = calculerFP(Y_corona_test, H_corona_ordinal_test)\n",
        "TN_corona_ordinal = calculerTN(Y_corona_test, H_corona_ordinal_test)\n",
        "\n",
        "TN_corona_ordinal, FP_corona_ordinal, FN_corona_ordinal, TP_corona_ordinal"
      ],
      "execution_count": null,
      "outputs": [
        {
          "output_type": "execute_result",
          "data": {
            "text/plain": [
              "(7.0, 1, 3, 16.0)"
            ]
          },
          "metadata": {},
          "execution_count": 39
        }
      ]
    },
    {
      "cell_type": "code",
      "metadata": {
        "colab": {
          "base_uri": "https://localhost:8080/"
        },
        "id": "v-3KXKaQdtQB",
        "outputId": "c5fbe183-12d8-42c1-f7a1-ca66ebaeb7bf"
      },
      "source": [
        "# To confirm the solution \n",
        "from sklearn.metrics import confusion_matrix\n",
        "tn, fp, fn, tp = confusion_matrix(Y_corona_test, H_corona_ordinal_test).ravel()\n",
        "tn, fp, fn, tp"
      ],
      "execution_count": null,
      "outputs": [
        {
          "output_type": "execute_result",
          "data": {
            "text/plain": [
              "(7, 1, 3, 16)"
            ]
          },
          "metadata": {},
          "execution_count": 40
        }
      ]
    },
    {
      "cell_type": "code",
      "metadata": {
        "colab": {
          "base_uri": "https://localhost:8080/"
        },
        "id": "6_ixFPd_dtQC",
        "outputId": "bfa20813-ad96-418f-ea6d-08ddb724b95e"
      },
      "source": [
        "TP_corona_onehot = calculerTP(Y_corona_test, H_corona_onehot_test)\n",
        "FN_corona_onehot = calculerFN(Y_corona_test, H_corona_onehot_test)\n",
        "FP_corona_onehot = calculerFP(Y_corona_test, H_corona_onehot_test)\n",
        "TN_corona_onehot = calculerTN(Y_corona_test, H_corona_onehot_test)\n",
        "\n",
        "TN_corona_onehot, FP_corona_onehot, FN_corona_onehot, TP_corona_onehot"
      ],
      "execution_count": null,
      "outputs": [
        {
          "output_type": "execute_result",
          "data": {
            "text/plain": [
              "(8.0, 0, 1, 18.0)"
            ]
          },
          "metadata": {},
          "execution_count": 41
        }
      ]
    },
    {
      "cell_type": "code",
      "metadata": {
        "id": "CAY_4Y1NdtQC"
      },
      "source": [
        "# The recall and precision functions\n",
        "def rappel(TN, FP, FN, TP): \n",
        "    return TP/(TP+FN)\n",
        "\n",
        "def precision(TN, FP, FN, TP): \n",
        "    return TP/(TP+FP)"
      ],
      "execution_count": null,
      "outputs": []
    },
    {
      "cell_type": "code",
      "metadata": {
        "colab": {
          "base_uri": "https://localhost:8080/"
        },
        "id": "XMXqmSuwdtQD",
        "outputId": "2b073005-dae9-46cf-ea6d-8bd0cda8907f"
      },
      "source": [
        "# Overlay comparison \n",
        "R_corona_ordianl = rappel(TN_corona_ordinal, FP_corona_ordinal, FN_corona_ordinal, TP_corona_ordinal)\n",
        "R_corona_onehot = rappel(TN_corona_onehot, FP_corona_onehot, FN_corona_onehot, TP_corona_onehot)\n",
        "\n",
        "R_corona_ordianl, R_corona_onehot"
      ],
      "execution_count": null,
      "outputs": [
        {
          "output_type": "execute_result",
          "data": {
            "text/plain": [
              "(0.8421052631578947, 0.9473684210526315)"
            ]
          },
          "metadata": {},
          "execution_count": 43
        }
      ]
    },
    {
      "cell_type": "code",
      "metadata": {
        "colab": {
          "base_uri": "https://localhost:8080/"
        },
        "id": "Mi7TiPJidtQE",
        "outputId": "dfda9e3b-7583-4940-d4e3-10805b44a2d8"
      },
      "source": [
        "# Precision comparaison\n",
        "P_corona_ordianl = precision(TN_corona_ordinal, FP_corona_ordinal, FN_corona_ordinal, TP_corona_ordinal)\n",
        "P_corona_onehot = precision(TN_corona_onehot, FP_corona_onehot, FN_corona_onehot, TP_corona_onehot)\n",
        "\n",
        "P_corona_ordianl, P_corona_onehot"
      ],
      "execution_count": null,
      "outputs": [
        {
          "output_type": "execute_result",
          "data": {
            "text/plain": [
              "(0.9411764705882353, 1.0)"
            ]
          },
          "metadata": {},
          "execution_count": 44
        }
      ]
    }
  ]
}